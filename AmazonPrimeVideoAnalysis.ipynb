{
  "nbformat": 4,
  "nbformat_minor": 0,
  "metadata": {
    "colab": {
      "name": "AmazonPrimeVideoAnalysis.ipynb",
      "provenance": [],
      "toc_visible": true,
      "authorship_tag": "ABX9TyOTVUZPESKlUghzIQpig2Kw",
      "include_colab_link": true
    },
    "kernelspec": {
      "name": "python3",
      "display_name": "Python 3"
    }
  },
  "cells": [
    {
      "cell_type": "markdown",
      "metadata": {
        "id": "view-in-github",
        "colab_type": "text"
      },
      "source": [
        "<a href=\"https://colab.research.google.com/github/jingkloos/Machine-learning/blob/master/AmazonPrimeVideoAnalysis.ipynb\" target=\"_parent\"><img src=\"https://colab.research.google.com/assets/colab-badge.svg\" alt=\"Open In Colab\"/></a>"
      ]
    },
    {
      "cell_type": "markdown",
      "metadata": {
        "id": "97AR20DDDWwd",
        "colab_type": "text"
      },
      "source": [
        "## Amazon Prime Video Prediction  aka. OA template"
      ]
    },
    {
      "cell_type": "markdown",
      "metadata": {
        "id": "IEB_nI_8DxcW",
        "colab_type": "text"
      },
      "source": [
        "I used supervised prediction model to predict whether a movie perform well on Amazon prime platform. <br>\n",
        "The matrix I used is cvt --  cumulative view time"
      ]
    },
    {
      "cell_type": "markdown",
      "metadata": {
        "id": "BKDhWYA4FDvK",
        "colab_type": "text"
      },
      "source": [
        "## Load Data and import necessary packages"
      ]
    },
    {
      "cell_type": "code",
      "metadata": {
        "id": "UIRLgEYPGwCW",
        "colab_type": "code",
        "colab": {
          "base_uri": "https://localhost:8080/",
          "height": 51
        },
        "outputId": "558edc9e-5a69-4ccc-98af-a213e9c82a6e"
      },
      "source": [
        "import pandas as pd\n",
        "import numpy as np\n",
        "import sklearn.preprocessing as preprocessing\n",
        "import sklearn as sl\n",
        "from sklearn.model_selection import train_test_split\n",
        "import seaborn as sns\n",
        "import matplotlib.pyplot as plt\n",
        "import matplotlib as mpl\n",
        "pd.set_option('display.float_format',lambda x:'%.3f' % x) \n",
        "pd.set_option('display.max_columns',None)  #unlimited so all columns will show\n",
        "pd.set_option('display.max_rows',None) \n",
        "pd.set_option('max_colwidth',100)\n",
        "mpl.rcParams.update(mpl.rcParamsDefault)"
      ],
      "execution_count": 1,
      "outputs": [
        {
          "output_type": "stream",
          "text": [
            "/usr/local/lib/python3.6/dist-packages/statsmodels/tools/_testing.py:19: FutureWarning: pandas.util.testing is deprecated. Use the functions in the public API at pandas.testing instead.\n",
            "  import pandas.util.testing as tm\n"
          ],
          "name": "stderr"
        }
      ]
    },
    {
      "cell_type": "code",
      "metadata": {
        "id": "MGc5zVIyK-nj",
        "colab_type": "code",
        "colab": {
          "base_uri": "https://localhost:8080/",
          "height": 292
        },
        "outputId": "1695676e-cb07-4bb6-ec1b-57e3da5557e4"
      },
      "source": [
        "fileid='1995wXXxa9G8lOV-I0GZgB8YHLcqCEVbB'\n",
        "url='https://drive.google.com/uc?export=download&id={}'.format(fileid) \n",
        "df=pd.read_csv(url,sep=',')\n",
        "df.head()"
      ],
      "execution_count": 2,
      "outputs": [
        {
          "output_type": "execute_result",
          "data": {
            "text/html": [
              "<div>\n",
              "<style scoped>\n",
              "    .dataframe tbody tr th:only-of-type {\n",
              "        vertical-align: middle;\n",
              "    }\n",
              "\n",
              "    .dataframe tbody tr th {\n",
              "        vertical-align: top;\n",
              "    }\n",
              "\n",
              "    .dataframe thead th {\n",
              "        text-align: right;\n",
              "    }\n",
              "</style>\n",
              "<table border=\"1\" class=\"dataframe\">\n",
              "  <thead>\n",
              "    <tr style=\"text-align: right;\">\n",
              "      <th></th>\n",
              "      <th>video_id</th>\n",
              "      <th>cvt_per_day</th>\n",
              "      <th>weighted_categorical_position</th>\n",
              "      <th>weighted_horizontal_poition</th>\n",
              "      <th>import_id</th>\n",
              "      <th>release_year</th>\n",
              "      <th>genres</th>\n",
              "      <th>imdb_votes</th>\n",
              "      <th>budget</th>\n",
              "      <th>boxoffice</th>\n",
              "      <th>imdb_rating</th>\n",
              "      <th>duration_in_mins</th>\n",
              "      <th>metacritic_score</th>\n",
              "      <th>awards</th>\n",
              "      <th>mpaa</th>\n",
              "      <th>star_category</th>\n",
              "    </tr>\n",
              "  </thead>\n",
              "  <tbody>\n",
              "    <tr>\n",
              "      <th>0</th>\n",
              "      <td>385504</td>\n",
              "      <td>307127.606</td>\n",
              "      <td>1</td>\n",
              "      <td>3</td>\n",
              "      <td>lionsgate</td>\n",
              "      <td>2013</td>\n",
              "      <td>Action,Thriller,Drama</td>\n",
              "      <td>69614</td>\n",
              "      <td>15000000</td>\n",
              "      <td>42930462</td>\n",
              "      <td>6.500</td>\n",
              "      <td>112.301</td>\n",
              "      <td>51</td>\n",
              "      <td>other award</td>\n",
              "      <td>PG-13</td>\n",
              "      <td>1.710</td>\n",
              "    </tr>\n",
              "    <tr>\n",
              "      <th>1</th>\n",
              "      <td>385504</td>\n",
              "      <td>307.606</td>\n",
              "      <td>1</td>\n",
              "      <td>3</td>\n",
              "      <td>lionsgate</td>\n",
              "      <td>2013</td>\n",
              "      <td>Action,Thriller,Drama</td>\n",
              "      <td>69614</td>\n",
              "      <td>15000000</td>\n",
              "      <td>42930462</td>\n",
              "      <td>6.500</td>\n",
              "      <td>112.301</td>\n",
              "      <td>51</td>\n",
              "      <td>other award</td>\n",
              "      <td>PG-13</td>\n",
              "      <td>1.710</td>\n",
              "    </tr>\n",
              "    <tr>\n",
              "      <th>2</th>\n",
              "      <td>300175</td>\n",
              "      <td>270338.426</td>\n",
              "      <td>1</td>\n",
              "      <td>3</td>\n",
              "      <td>lionsgate</td>\n",
              "      <td>2013</td>\n",
              "      <td>Comedy,Crime,Thriller</td>\n",
              "      <td>46705</td>\n",
              "      <td>15000000</td>\n",
              "      <td>3301046</td>\n",
              "      <td>6.500</td>\n",
              "      <td>94.983</td>\n",
              "      <td>41</td>\n",
              "      <td>no award</td>\n",
              "      <td>R</td>\n",
              "      <td>3.250</td>\n",
              "    </tr>\n",
              "    <tr>\n",
              "      <th>3</th>\n",
              "      <td>361899</td>\n",
              "      <td>256165.867</td>\n",
              "      <td>1</td>\n",
              "      <td>3</td>\n",
              "      <td>other</td>\n",
              "      <td>2012</td>\n",
              "      <td>Crime,Drama</td>\n",
              "      <td>197596</td>\n",
              "      <td>26000000</td>\n",
              "      <td>37397291</td>\n",
              "      <td>7.300</td>\n",
              "      <td>115.764</td>\n",
              "      <td>58</td>\n",
              "      <td>other award</td>\n",
              "      <td>R</td>\n",
              "      <td>2.647</td>\n",
              "    </tr>\n",
              "    <tr>\n",
              "      <th>4</th>\n",
              "      <td>308314</td>\n",
              "      <td>196622.721</td>\n",
              "      <td>3</td>\n",
              "      <td>4</td>\n",
              "      <td>lionsgate</td>\n",
              "      <td>2008</td>\n",
              "      <td>Thriller,Drama,War,Documentary,Mystery,Action</td>\n",
              "      <td>356339</td>\n",
              "      <td>15000000</td>\n",
              "      <td>15700000</td>\n",
              "      <td>7.600</td>\n",
              "      <td>130.704</td>\n",
              "      <td>94</td>\n",
              "      <td>Oscar</td>\n",
              "      <td>R</td>\n",
              "      <td>1.667</td>\n",
              "    </tr>\n",
              "  </tbody>\n",
              "</table>\n",
              "</div>"
            ],
            "text/plain": [
              "   video_id  cvt_per_day  weighted_categorical_position  \\\n",
              "0    385504   307127.606                              1   \n",
              "1    385504      307.606                              1   \n",
              "2    300175   270338.426                              1   \n",
              "3    361899   256165.867                              1   \n",
              "4    308314   196622.721                              3   \n",
              "\n",
              "   weighted_horizontal_poition  import_id  release_year  \\\n",
              "0                            3  lionsgate          2013   \n",
              "1                            3  lionsgate          2013   \n",
              "2                            3  lionsgate          2013   \n",
              "3                            3      other          2012   \n",
              "4                            4  lionsgate          2008   \n",
              "\n",
              "                                          genres  imdb_votes    budget  \\\n",
              "0                          Action,Thriller,Drama       69614  15000000   \n",
              "1                          Action,Thriller,Drama       69614  15000000   \n",
              "2                          Comedy,Crime,Thriller       46705  15000000   \n",
              "3                                    Crime,Drama      197596  26000000   \n",
              "4  Thriller,Drama,War,Documentary,Mystery,Action      356339  15000000   \n",
              "\n",
              "   boxoffice  imdb_rating  duration_in_mins  metacritic_score       awards  \\\n",
              "0   42930462        6.500           112.301                51  other award   \n",
              "1   42930462        6.500           112.301                51  other award   \n",
              "2    3301046        6.500            94.983                41     no award   \n",
              "3   37397291        7.300           115.764                58  other award   \n",
              "4   15700000        7.600           130.704                94        Oscar   \n",
              "\n",
              "    mpaa  star_category  \n",
              "0  PG-13          1.710  \n",
              "1  PG-13          1.710  \n",
              "2      R          3.250  \n",
              "3      R          2.647  \n",
              "4      R          1.667  "
            ]
          },
          "metadata": {
            "tags": []
          },
          "execution_count": 2
        }
      ]
    },
    {
      "cell_type": "code",
      "metadata": {
        "id": "QaNi5BVnwB7T",
        "colab_type": "code",
        "colab": {}
      },
      "source": [
        "#second option to load data -- upload from local drive\n",
        "#from google.colab import files\n",
        "#uploaded=files.upload()"
      ],
      "execution_count": null,
      "outputs": []
    },
    {
      "cell_type": "markdown",
      "metadata": {
        "id": "aT3_nwOzJI6m",
        "colab_type": "text"
      },
      "source": [
        "## Part 1: Data Exploration"
      ]
    },
    {
      "cell_type": "markdown",
      "metadata": {
        "id": "wkhcJFD9JO-f",
        "colab_type": "text"
      },
      "source": [
        "### Part 1.1: Exclude erroneous data"
      ]
    },
    {
      "cell_type": "code",
      "metadata": {
        "id": "XgvOAp-UI7D-",
        "colab_type": "code",
        "colab": {
          "base_uri": "https://localhost:8080/",
          "height": 309
        },
        "outputId": "ba3b5130-a73f-400b-ef61-2448bb4c158a"
      },
      "source": [
        "#video_id should be unique, check to see if there are duplicates\n",
        "if df['video_id'].duplicated().sum()==0:\n",
        "  print('No duplicated index')\n",
        "else:\n",
        "  df.drop_duplicates('video_id',inplace=True)\n",
        "  print('Duplicates were found and dropped')\n",
        "df.head()"
      ],
      "execution_count": 3,
      "outputs": [
        {
          "output_type": "stream",
          "text": [
            "Duplicates were found and dropped\n"
          ],
          "name": "stdout"
        },
        {
          "output_type": "execute_result",
          "data": {
            "text/html": [
              "<div>\n",
              "<style scoped>\n",
              "    .dataframe tbody tr th:only-of-type {\n",
              "        vertical-align: middle;\n",
              "    }\n",
              "\n",
              "    .dataframe tbody tr th {\n",
              "        vertical-align: top;\n",
              "    }\n",
              "\n",
              "    .dataframe thead th {\n",
              "        text-align: right;\n",
              "    }\n",
              "</style>\n",
              "<table border=\"1\" class=\"dataframe\">\n",
              "  <thead>\n",
              "    <tr style=\"text-align: right;\">\n",
              "      <th></th>\n",
              "      <th>video_id</th>\n",
              "      <th>cvt_per_day</th>\n",
              "      <th>weighted_categorical_position</th>\n",
              "      <th>weighted_horizontal_poition</th>\n",
              "      <th>import_id</th>\n",
              "      <th>release_year</th>\n",
              "      <th>genres</th>\n",
              "      <th>imdb_votes</th>\n",
              "      <th>budget</th>\n",
              "      <th>boxoffice</th>\n",
              "      <th>imdb_rating</th>\n",
              "      <th>duration_in_mins</th>\n",
              "      <th>metacritic_score</th>\n",
              "      <th>awards</th>\n",
              "      <th>mpaa</th>\n",
              "      <th>star_category</th>\n",
              "    </tr>\n",
              "  </thead>\n",
              "  <tbody>\n",
              "    <tr>\n",
              "      <th>0</th>\n",
              "      <td>385504</td>\n",
              "      <td>307127.606</td>\n",
              "      <td>1</td>\n",
              "      <td>3</td>\n",
              "      <td>lionsgate</td>\n",
              "      <td>2013</td>\n",
              "      <td>Action,Thriller,Drama</td>\n",
              "      <td>69614</td>\n",
              "      <td>15000000</td>\n",
              "      <td>42930462</td>\n",
              "      <td>6.500</td>\n",
              "      <td>112.301</td>\n",
              "      <td>51</td>\n",
              "      <td>other award</td>\n",
              "      <td>PG-13</td>\n",
              "      <td>1.710</td>\n",
              "    </tr>\n",
              "    <tr>\n",
              "      <th>2</th>\n",
              "      <td>300175</td>\n",
              "      <td>270338.426</td>\n",
              "      <td>1</td>\n",
              "      <td>3</td>\n",
              "      <td>lionsgate</td>\n",
              "      <td>2013</td>\n",
              "      <td>Comedy,Crime,Thriller</td>\n",
              "      <td>46705</td>\n",
              "      <td>15000000</td>\n",
              "      <td>3301046</td>\n",
              "      <td>6.500</td>\n",
              "      <td>94.983</td>\n",
              "      <td>41</td>\n",
              "      <td>no award</td>\n",
              "      <td>R</td>\n",
              "      <td>3.250</td>\n",
              "    </tr>\n",
              "    <tr>\n",
              "      <th>3</th>\n",
              "      <td>361899</td>\n",
              "      <td>256165.867</td>\n",
              "      <td>1</td>\n",
              "      <td>3</td>\n",
              "      <td>other</td>\n",
              "      <td>2012</td>\n",
              "      <td>Crime,Drama</td>\n",
              "      <td>197596</td>\n",
              "      <td>26000000</td>\n",
              "      <td>37397291</td>\n",
              "      <td>7.300</td>\n",
              "      <td>115.764</td>\n",
              "      <td>58</td>\n",
              "      <td>other award</td>\n",
              "      <td>R</td>\n",
              "      <td>2.647</td>\n",
              "    </tr>\n",
              "    <tr>\n",
              "      <th>4</th>\n",
              "      <td>308314</td>\n",
              "      <td>196622.721</td>\n",
              "      <td>3</td>\n",
              "      <td>4</td>\n",
              "      <td>lionsgate</td>\n",
              "      <td>2008</td>\n",
              "      <td>Thriller,Drama,War,Documentary,Mystery,Action</td>\n",
              "      <td>356339</td>\n",
              "      <td>15000000</td>\n",
              "      <td>15700000</td>\n",
              "      <td>7.600</td>\n",
              "      <td>130.704</td>\n",
              "      <td>94</td>\n",
              "      <td>Oscar</td>\n",
              "      <td>R</td>\n",
              "      <td>1.667</td>\n",
              "    </tr>\n",
              "    <tr>\n",
              "      <th>5</th>\n",
              "      <td>307201</td>\n",
              "      <td>159841.652</td>\n",
              "      <td>1</td>\n",
              "      <td>3</td>\n",
              "      <td>lionsgate</td>\n",
              "      <td>2013</td>\n",
              "      <td>Crime,Thriller,Mystery,Documentary</td>\n",
              "      <td>46720</td>\n",
              "      <td>27220000</td>\n",
              "      <td>8551228</td>\n",
              "      <td>6.400</td>\n",
              "      <td>105.546</td>\n",
              "      <td>37</td>\n",
              "      <td>other award</td>\n",
              "      <td>R</td>\n",
              "      <td>3.067</td>\n",
              "    </tr>\n",
              "  </tbody>\n",
              "</table>\n",
              "</div>"
            ],
            "text/plain": [
              "   video_id  cvt_per_day  weighted_categorical_position  \\\n",
              "0    385504   307127.606                              1   \n",
              "2    300175   270338.426                              1   \n",
              "3    361899   256165.867                              1   \n",
              "4    308314   196622.721                              3   \n",
              "5    307201   159841.652                              1   \n",
              "\n",
              "   weighted_horizontal_poition  import_id  release_year  \\\n",
              "0                            3  lionsgate          2013   \n",
              "2                            3  lionsgate          2013   \n",
              "3                            3      other          2012   \n",
              "4                            4  lionsgate          2008   \n",
              "5                            3  lionsgate          2013   \n",
              "\n",
              "                                          genres  imdb_votes    budget  \\\n",
              "0                          Action,Thriller,Drama       69614  15000000   \n",
              "2                          Comedy,Crime,Thriller       46705  15000000   \n",
              "3                                    Crime,Drama      197596  26000000   \n",
              "4  Thriller,Drama,War,Documentary,Mystery,Action      356339  15000000   \n",
              "5             Crime,Thriller,Mystery,Documentary       46720  27220000   \n",
              "\n",
              "   boxoffice  imdb_rating  duration_in_mins  metacritic_score       awards  \\\n",
              "0   42930462        6.500           112.301                51  other award   \n",
              "2    3301046        6.500            94.983                41     no award   \n",
              "3   37397291        7.300           115.764                58  other award   \n",
              "4   15700000        7.600           130.704                94        Oscar   \n",
              "5    8551228        6.400           105.546                37  other award   \n",
              "\n",
              "    mpaa  star_category  \n",
              "0  PG-13          1.710  \n",
              "2      R          3.250  \n",
              "3      R          2.647  \n",
              "4      R          1.667  \n",
              "5      R          3.067  "
            ]
          },
          "metadata": {
            "tags": []
          },
          "execution_count": 3
        }
      ]
    },
    {
      "cell_type": "markdown",
      "metadata": {
        "id": "uUmn8WEdOBnO",
        "colab_type": "text"
      },
      "source": [
        "### Part 1.2: Understand numerical features"
      ]
    },
    {
      "cell_type": "markdown",
      "metadata": {
        "id": "s8GYMuGkOOQv",
        "colab_type": "text"
      },
      "source": [
        "#### 1.2.1 Overview"
      ]
    },
    {
      "cell_type": "code",
      "metadata": {
        "id": "9niXnPc2JuPk",
        "colab_type": "code",
        "colab": {
          "base_uri": "https://localhost:8080/",
          "height": 1000
        },
        "outputId": "3e036056-07de-436c-ac69-75a9783f7870"
      },
      "source": [
        "from IPython.display import Markdown, display\n",
        "def printmd(string):\n",
        "    display(Markdown(string))\n",
        "\n",
        "# check data info\n",
        "printmd('**General info of the data:**')\n",
        "print(df.info())\n",
        "#video_id is meaningless and release_year should not be treated as numeric data\n",
        "print('\\n')\n",
        "printmd('**Statistics about numeric data:**')\n",
        "print(df.drop(['video_id'],axis=1).describe(percentiles=[0.1,0.25,0.5,0.75,0.95]))\n",
        "print('\\n')\n",
        "printmd('**Percentage of 0 values for each column:**')\n",
        "print((df==0).sum(axis=0)/df.shape[0])\n",
        "print('\\n')\n",
        "printmd('**unique values of each column:**')\n",
        "print(df.nunique())"
      ],
      "execution_count": 4,
      "outputs": [
        {
          "output_type": "display_data",
          "data": {
            "text/markdown": "**General info of the data:**",
            "text/plain": [
              "<IPython.core.display.Markdown object>"
            ]
          },
          "metadata": {
            "tags": []
          }
        },
        {
          "output_type": "stream",
          "text": [
            "<class 'pandas.core.frame.DataFrame'>\n",
            "Int64Index: 4226 entries, 0 to 4226\n",
            "Data columns (total 16 columns):\n",
            " #   Column                         Non-Null Count  Dtype  \n",
            "---  ------                         --------------  -----  \n",
            " 0   video_id                       4226 non-null   int64  \n",
            " 1   cvt_per_day                    4226 non-null   float64\n",
            " 2   weighted_categorical_position  4226 non-null   int64  \n",
            " 3   weighted_horizontal_poition    4226 non-null   int64  \n",
            " 4   import_id                      4226 non-null   object \n",
            " 5   release_year                   4226 non-null   int64  \n",
            " 6   genres                         4226 non-null   object \n",
            " 7   imdb_votes                     4226 non-null   int64  \n",
            " 8   budget                         4226 non-null   int64  \n",
            " 9   boxoffice                      4226 non-null   int64  \n",
            " 10  imdb_rating                    4226 non-null   float64\n",
            " 11  duration_in_mins               4226 non-null   float64\n",
            " 12  metacritic_score               4226 non-null   int64  \n",
            " 13  awards                         4226 non-null   object \n",
            " 14  mpaa                           4226 non-null   object \n",
            " 15  star_category                  4226 non-null   float64\n",
            "dtypes: float64(4), int64(8), object(4)\n",
            "memory usage: 561.3+ KB\n",
            "None\n",
            "\n",
            "\n"
          ],
          "name": "stdout"
        },
        {
          "output_type": "display_data",
          "data": {
            "text/markdown": "**Statistics about numeric data:**",
            "text/plain": [
              "<IPython.core.display.Markdown object>"
            ]
          },
          "metadata": {
            "tags": []
          }
        },
        {
          "output_type": "stream",
          "text": [
            "       cvt_per_day  weighted_categorical_position  \\\n",
            "count     4226.000                       4226.000   \n",
            "mean      4218.630                          7.783   \n",
            "std      13036.080                          6.134   \n",
            "min          2.188                          1.000   \n",
            "10%        141.985                          3.000   \n",
            "25%        351.169                          4.000   \n",
            "50%       1193.500                          6.000   \n",
            "75%       3356.789                          9.000   \n",
            "95%      14692.834                         22.000   \n",
            "max     307127.606                         41.000   \n",
            "\n",
            "       weighted_horizontal_poition  release_year  imdb_votes        budget  \\\n",
            "count                     4226.000      4226.000    4226.000      4226.000   \n",
            "mean                        28.104      2001.057    6462.924   2150743.439   \n",
            "std                         11.864        17.497   31596.007   7176604.483   \n",
            "min                          1.000      1916.000       0.000         0.000   \n",
            "10%                         13.000      1974.000       8.000         0.000   \n",
            "25%                         20.000      1998.000      81.000         0.000   \n",
            "50%                         28.000      2008.000     535.000         0.000   \n",
            "75%                         36.000      2012.000    3053.000   1500000.000   \n",
            "95%                         48.000      2015.000   26199.500  12000000.000   \n",
            "max                         70.000      2017.000  948630.000 107000000.000   \n",
            "\n",
            "          boxoffice  imdb_rating  duration_in_mins  metacritic_score  \\\n",
            "count      4226.000     4226.000          4226.000          4226.000   \n",
            "mean    2536338.472        5.257            89.556            15.974   \n",
            "std     8243516.266        2.123            21.086            26.205   \n",
            "min           0.000        0.000             4.037             0.000   \n",
            "10%           0.000        2.300            62.391             0.000   \n",
            "25%           0.000        4.300            82.602             0.000   \n",
            "50%           0.000        5.800            90.730             0.000   \n",
            "75%           0.000        6.800            99.500            41.000   \n",
            "95%     8551228.000        7.800           119.131            65.000   \n",
            "max   184208848.000       10.000           246.017           100.000   \n",
            "\n",
            "       star_category  \n",
            "count       4226.000  \n",
            "mean           0.955  \n",
            "std            0.955  \n",
            "min            0.000  \n",
            "10%            0.000  \n",
            "25%            0.000  \n",
            "50%            1.000  \n",
            "75%            1.667  \n",
            "95%            2.597  \n",
            "max            4.000  \n",
            "\n",
            "\n"
          ],
          "name": "stdout"
        },
        {
          "output_type": "display_data",
          "data": {
            "text/markdown": "**Percentage of 0 values for each column:**",
            "text/plain": [
              "<IPython.core.display.Markdown object>"
            ]
          },
          "metadata": {
            "tags": []
          }
        },
        {
          "output_type": "stream",
          "text": [
            "video_id                        0.000\n",
            "cvt_per_day                     0.000\n",
            "weighted_categorical_position   0.000\n",
            "weighted_horizontal_poition     0.000\n",
            "import_id                       0.000\n",
            "release_year                    0.000\n",
            "genres                          0.000\n",
            "imdb_votes                      0.081\n",
            "budget                          0.581\n",
            "boxoffice                       0.756\n",
            "imdb_rating                     0.081\n",
            "duration_in_mins                0.000\n",
            "metacritic_score                0.713\n",
            "awards                          0.000\n",
            "mpaa                            0.000\n",
            "star_category                   0.437\n",
            "dtype: float64\n",
            "\n",
            "\n"
          ],
          "name": "stdout"
        },
        {
          "output_type": "display_data",
          "data": {
            "text/markdown": "**unique values of each column:**",
            "text/plain": [
              "<IPython.core.display.Markdown object>"
            ]
          },
          "metadata": {
            "tags": []
          }
        },
        {
          "output_type": "stream",
          "text": [
            "video_id                         4226\n",
            "cvt_per_day                      4226\n",
            "weighted_categorical_position      37\n",
            "weighted_horizontal_poition        68\n",
            "import_id                           4\n",
            "release_year                       97\n",
            "genres                           1165\n",
            "imdb_votes                       2282\n",
            "budget                            253\n",
            "boxoffice                         410\n",
            "imdb_rating                        85\n",
            "duration_in_mins                 4097\n",
            "metacritic_score                   90\n",
            "awards                              5\n",
            "mpaa                                6\n",
            "star_category                     630\n",
            "dtype: int64\n"
          ],
          "name": "stdout"
        }
      ]
    },
    {
      "cell_type": "markdown",
      "metadata": {
        "id": "wKWoDK15U-lr",
        "colab_type": "text"
      },
      "source": [
        "**Observation:**\n",
        "1.   There are no null values for all columns \n",
        "2.   There are a lot of zeros for columns budget,boxoffice,metacritic_score,star_category\n",
        "\n",
        "\n"
      ]
    },
    {
      "cell_type": "markdown",
      "metadata": {
        "id": "RQmwFSMVK4UQ",
        "colab_type": "text"
      },
      "source": [
        "#### 1.2.2 Understand distribution of cvt_per_day"
      ]
    },
    {
      "cell_type": "code",
      "metadata": {
        "id": "bNaDUjX8OriP",
        "colab_type": "code",
        "colab": {
          "base_uri": "https://localhost:8080/",
          "height": 296
        },
        "outputId": "27e5dd79-f234-4c93-dcdc-c714ec048cd5"
      },
      "source": [
        "# check label distribution\n",
        "plt.hist(df['cvt_per_day'],bins=range(0,15000,30),color='red',alpha=0.8,label='cvt_per_day',density=True)\n",
        "plt.title('Histogram of cvt_per_day before data processing')\n",
        "plt.legend(loc='upper right')\n",
        "plt.xlabel('cvt_per_day')\n",
        "plt.ylabel('density')\n",
        "plt.grid(False)\n",
        "plt.show()"
      ],
      "execution_count": 5,
      "outputs": [
        {
          "output_type": "display_data",
          "data": {
            "image/png": "[encoded data removed]",
            "text/plain": [
              "<Figure size 432x288 with 1 Axes>"
            ]
          },
          "metadata": {
            "tags": [],
            "needs_background": "light"
          }
        }
      ]
    },
    {
      "cell_type": "markdown",
      "metadata": {
        "id": "i3Wz4ABKiE35",
        "colab_type": "text"
      },
      "source": [
        "#### 1.2.3 Correlation among numerical features"
      ]
    },
    {
      "cell_type": "code",
      "metadata": {
        "id": "PoEaIAy9yofe",
        "colab_type": "code",
        "colab": {
          "base_uri": "https://localhost:8080/",
          "height": 428
        },
        "outputId": "4b5e8571-851e-49ef-d457-346489fe8cc5"
      },
      "source": [
        "corr_score=df.corr()\n",
        "sns.heatmap(corr_score)"
      ],
      "execution_count": 6,
      "outputs": [
        {
          "output_type": "execute_result",
          "data": {
            "text/plain": [
              "<matplotlib.axes._subplots.AxesSubplot at 0x7fafffdb6f98>"
            ]
          },
          "metadata": {
            "tags": []
          },
          "execution_count": 6
        },
        {
          "output_type": "display_data",
          "data": {
            "image/png": "[encoded data removed]",
            "text/plain": [
              "<Figure size 432x288 with 2 Axes>"
            ]
          },
          "metadata": {
            "tags": [],
            "needs_background": "light"
          }
        }
      ]
    },
    {
      "cell_type": "code",
      "metadata": {
        "id": "SbbyOET0z-oc",
        "colab_type": "code",
        "colab": {
          "base_uri": "https://localhost:8080/",
          "height": 441
        },
        "outputId": "eae7118d-73db-4218-c864-8b2250b09df2"
      },
      "source": [
        "corr_score"
      ],
      "execution_count": 7,
      "outputs": [
        {
          "output_type": "execute_result",
          "data": {
            "text/html": [
              "<div>\n",
              "<style scoped>\n",
              "    .dataframe tbody tr th:only-of-type {\n",
              "        vertical-align: middle;\n",
              "    }\n",
              "\n",
              "    .dataframe tbody tr th {\n",
              "        vertical-align: top;\n",
              "    }\n",
              "\n",
              "    .dataframe thead th {\n",
              "        text-align: right;\n",
              "    }\n",
              "</style>\n",
              "<table border=\"1\" class=\"dataframe\">\n",
              "  <thead>\n",
              "    <tr style=\"text-align: right;\">\n",
              "      <th></th>\n",
              "      <th>video_id</th>\n",
              "      <th>cvt_per_day</th>\n",
              "      <th>weighted_categorical_position</th>\n",
              "      <th>weighted_horizontal_poition</th>\n",
              "      <th>release_year</th>\n",
              "      <th>imdb_votes</th>\n",
              "      <th>budget</th>\n",
              "      <th>boxoffice</th>\n",
              "      <th>imdb_rating</th>\n",
              "      <th>duration_in_mins</th>\n",
              "      <th>metacritic_score</th>\n",
              "      <th>star_category</th>\n",
              "    </tr>\n",
              "  </thead>\n",
              "  <tbody>\n",
              "    <tr>\n",
              "      <th>video_id</th>\n",
              "      <td>1.000</td>\n",
              "      <td>0.122</td>\n",
              "      <td>0.050</td>\n",
              "      <td>-0.067</td>\n",
              "      <td>0.231</td>\n",
              "      <td>0.048</td>\n",
              "      <td>0.088</td>\n",
              "      <td>0.072</td>\n",
              "      <td>-0.100</td>\n",
              "      <td>0.024</td>\n",
              "      <td>0.064</td>\n",
              "      <td>0.170</td>\n",
              "    </tr>\n",
              "    <tr>\n",
              "      <th>cvt_per_day</th>\n",
              "      <td>0.122</td>\n",
              "      <td>1.000</td>\n",
              "      <td>-0.148</td>\n",
              "      <td>-0.302</td>\n",
              "      <td>0.046</td>\n",
              "      <td>0.298</td>\n",
              "      <td>0.316</td>\n",
              "      <td>0.312</td>\n",
              "      <td>0.059</td>\n",
              "      <td>0.152</td>\n",
              "      <td>0.249</td>\n",
              "      <td>0.247</td>\n",
              "    </tr>\n",
              "    <tr>\n",
              "      <th>weighted_categorical_position</th>\n",
              "      <td>0.050</td>\n",
              "      <td>-0.148</td>\n",
              "      <td>1.000</td>\n",
              "      <td>-0.084</td>\n",
              "      <td>-0.069</td>\n",
              "      <td>-0.064</td>\n",
              "      <td>-0.090</td>\n",
              "      <td>-0.074</td>\n",
              "      <td>-0.116</td>\n",
              "      <td>-0.174</td>\n",
              "      <td>-0.044</td>\n",
              "      <td>-0.123</td>\n",
              "    </tr>\n",
              "    <tr>\n",
              "      <th>weighted_horizontal_poition</th>\n",
              "      <td>-0.067</td>\n",
              "      <td>-0.302</td>\n",
              "      <td>-0.084</td>\n",
              "      <td>1.000</td>\n",
              "      <td>0.027</td>\n",
              "      <td>-0.221</td>\n",
              "      <td>-0.211</td>\n",
              "      <td>-0.245</td>\n",
              "      <td>-0.162</td>\n",
              "      <td>-0.102</td>\n",
              "      <td>-0.255</td>\n",
              "      <td>-0.168</td>\n",
              "    </tr>\n",
              "    <tr>\n",
              "      <th>release_year</th>\n",
              "      <td>0.231</td>\n",
              "      <td>0.046</td>\n",
              "      <td>-0.069</td>\n",
              "      <td>0.027</td>\n",
              "      <td>1.000</td>\n",
              "      <td>-0.083</td>\n",
              "      <td>-0.040</td>\n",
              "      <td>-0.128</td>\n",
              "      <td>-0.199</td>\n",
              "      <td>-0.097</td>\n",
              "      <td>-0.167</td>\n",
              "      <td>-0.198</td>\n",
              "    </tr>\n",
              "    <tr>\n",
              "      <th>imdb_votes</th>\n",
              "      <td>0.048</td>\n",
              "      <td>0.298</td>\n",
              "      <td>-0.064</td>\n",
              "      <td>-0.221</td>\n",
              "      <td>-0.083</td>\n",
              "      <td>1.000</td>\n",
              "      <td>0.273</td>\n",
              "      <td>0.531</td>\n",
              "      <td>0.163</td>\n",
              "      <td>0.156</td>\n",
              "      <td>0.322</td>\n",
              "      <td>0.225</td>\n",
              "    </tr>\n",
              "    <tr>\n",
              "      <th>budget</th>\n",
              "      <td>0.088</td>\n",
              "      <td>0.316</td>\n",
              "      <td>-0.090</td>\n",
              "      <td>-0.211</td>\n",
              "      <td>-0.040</td>\n",
              "      <td>0.273</td>\n",
              "      <td>1.000</td>\n",
              "      <td>0.505</td>\n",
              "      <td>0.106</td>\n",
              "      <td>0.251</td>\n",
              "      <td>0.315</td>\n",
              "      <td>0.322</td>\n",
              "    </tr>\n",
              "    <tr>\n",
              "      <th>boxoffice</th>\n",
              "      <td>0.072</td>\n",
              "      <td>0.312</td>\n",
              "      <td>-0.074</td>\n",
              "      <td>-0.245</td>\n",
              "      <td>-0.128</td>\n",
              "      <td>0.531</td>\n",
              "      <td>0.505</td>\n",
              "      <td>1.000</td>\n",
              "      <td>0.164</td>\n",
              "      <td>0.226</td>\n",
              "      <td>0.465</td>\n",
              "      <td>0.322</td>\n",
              "    </tr>\n",
              "    <tr>\n",
              "      <th>imdb_rating</th>\n",
              "      <td>-0.100</td>\n",
              "      <td>0.059</td>\n",
              "      <td>-0.116</td>\n",
              "      <td>-0.162</td>\n",
              "      <td>-0.199</td>\n",
              "      <td>0.163</td>\n",
              "      <td>0.106</td>\n",
              "      <td>0.164</td>\n",
              "      <td>1.000</td>\n",
              "      <td>0.344</td>\n",
              "      <td>0.347</td>\n",
              "      <td>0.192</td>\n",
              "    </tr>\n",
              "    <tr>\n",
              "      <th>duration_in_mins</th>\n",
              "      <td>0.024</td>\n",
              "      <td>0.152</td>\n",
              "      <td>-0.174</td>\n",
              "      <td>-0.102</td>\n",
              "      <td>-0.097</td>\n",
              "      <td>0.156</td>\n",
              "      <td>0.251</td>\n",
              "      <td>0.226</td>\n",
              "      <td>0.344</td>\n",
              "      <td>1.000</td>\n",
              "      <td>0.327</td>\n",
              "      <td>0.309</td>\n",
              "    </tr>\n",
              "    <tr>\n",
              "      <th>metacritic_score</th>\n",
              "      <td>0.064</td>\n",
              "      <td>0.249</td>\n",
              "      <td>-0.044</td>\n",
              "      <td>-0.255</td>\n",
              "      <td>-0.167</td>\n",
              "      <td>0.322</td>\n",
              "      <td>0.315</td>\n",
              "      <td>0.465</td>\n",
              "      <td>0.347</td>\n",
              "      <td>0.327</td>\n",
              "      <td>1.000</td>\n",
              "      <td>0.452</td>\n",
              "    </tr>\n",
              "    <tr>\n",
              "      <th>star_category</th>\n",
              "      <td>0.170</td>\n",
              "      <td>0.247</td>\n",
              "      <td>-0.123</td>\n",
              "      <td>-0.168</td>\n",
              "      <td>-0.198</td>\n",
              "      <td>0.225</td>\n",
              "      <td>0.322</td>\n",
              "      <td>0.322</td>\n",
              "      <td>0.192</td>\n",
              "      <td>0.309</td>\n",
              "      <td>0.452</td>\n",
              "      <td>1.000</td>\n",
              "    </tr>\n",
              "  </tbody>\n",
              "</table>\n",
              "</div>"
            ],
            "text/plain": [
              "                               video_id  cvt_per_day  \\\n",
              "video_id                          1.000        0.122   \n",
              "cvt_per_day                       0.122        1.000   \n",
              "weighted_categorical_position     0.050       -0.148   \n",
              "weighted_horizontal_poition      -0.067       -0.302   \n",
              "release_year                      0.231        0.046   \n",
              "imdb_votes                        0.048        0.298   \n",
              "budget                            0.088        0.316   \n",
              "boxoffice                         0.072        0.312   \n",
              "imdb_rating                      -0.100        0.059   \n",
              "duration_in_mins                  0.024        0.152   \n",
              "metacritic_score                  0.064        0.249   \n",
              "star_category                     0.170        0.247   \n",
              "\n",
              "                               weighted_categorical_position  \\\n",
              "video_id                                               0.050   \n",
              "cvt_per_day                                           -0.148   \n",
              "weighted_categorical_position                          1.000   \n",
              "weighted_horizontal_poition                           -0.084   \n",
              "release_year                                          -0.069   \n",
              "imdb_votes                                            -0.064   \n",
              "budget                                                -0.090   \n",
              "boxoffice                                             -0.074   \n",
              "imdb_rating                                           -0.116   \n",
              "duration_in_mins                                      -0.174   \n",
              "metacritic_score                                      -0.044   \n",
              "star_category                                         -0.123   \n",
              "\n",
              "                               weighted_horizontal_poition  release_year  \\\n",
              "video_id                                            -0.067         0.231   \n",
              "cvt_per_day                                         -0.302         0.046   \n",
              "weighted_categorical_position                       -0.084        -0.069   \n",
              "weighted_horizontal_poition                          1.000         0.027   \n",
              "release_year                                         0.027         1.000   \n",
              "imdb_votes                                          -0.221        -0.083   \n",
              "budget                                              -0.211        -0.040   \n",
              "boxoffice                                           -0.245        -0.128   \n",
              "imdb_rating                                         -0.162        -0.199   \n",
              "duration_in_mins                                    -0.102        -0.097   \n",
              "metacritic_score                                    -0.255        -0.167   \n",
              "star_category                                       -0.168        -0.198   \n",
              "\n",
              "                               imdb_votes  budget  boxoffice  imdb_rating  \\\n",
              "video_id                            0.048   0.088      0.072       -0.100   \n",
              "cvt_per_day                         0.298   0.316      0.312        0.059   \n",
              "weighted_categorical_position      -0.064  -0.090     -0.074       -0.116   \n",
              "weighted_horizontal_poition        -0.221  -0.211     -0.245       -0.162   \n",
              "release_year                       -0.083  -0.040     -0.128       -0.199   \n",
              "imdb_votes                          1.000   0.273      0.531        0.163   \n",
              "budget                              0.273   1.000      0.505        0.106   \n",
              "boxoffice                           0.531   0.505      1.000        0.164   \n",
              "imdb_rating                         0.163   0.106      0.164        1.000   \n",
              "duration_in_mins                    0.156   0.251      0.226        0.344   \n",
              "metacritic_score                    0.322   0.315      0.465        0.347   \n",
              "star_category                       0.225   0.322      0.322        0.192   \n",
              "\n",
              "                               duration_in_mins  metacritic_score  \\\n",
              "video_id                                  0.024             0.064   \n",
              "cvt_per_day                               0.152             0.249   \n",
              "weighted_categorical_position            -0.174            -0.044   \n",
              "weighted_horizontal_poition              -0.102            -0.255   \n",
              "release_year                             -0.097            -0.167   \n",
              "imdb_votes                                0.156             0.322   \n",
              "budget                                    0.251             0.315   \n",
              "boxoffice                                 0.226             0.465   \n",
              "imdb_rating                               0.344             0.347   \n",
              "duration_in_mins                          1.000             0.327   \n",
              "metacritic_score                          0.327             1.000   \n",
              "star_category                             0.309             0.452   \n",
              "\n",
              "                               star_category  \n",
              "video_id                               0.170  \n",
              "cvt_per_day                            0.247  \n",
              "weighted_categorical_position         -0.123  \n",
              "weighted_horizontal_poition           -0.168  \n",
              "release_year                          -0.198  \n",
              "imdb_votes                             0.225  \n",
              "budget                                 0.322  \n",
              "boxoffice                              0.322  \n",
              "imdb_rating                            0.192  \n",
              "duration_in_mins                       0.309  \n",
              "metacritic_score                       0.452  \n",
              "star_category                          1.000  "
            ]
          },
          "metadata": {
            "tags": []
          },
          "execution_count": 7
        }
      ]
    },
    {
      "cell_type": "markdown",
      "metadata": {
        "id": "gpHt2S_quSVt",
        "colab_type": "text"
      },
      "source": [
        "### Part 1.3 Understand categorical features"
      ]
    },
    {
      "cell_type": "markdown",
      "metadata": {
        "id": "plcOrnOgjB1B",
        "colab_type": "text"
      },
      "source": [
        "#### 1.3.1 Distribution of standard categorical features"
      ]
    },
    {
      "cell_type": "code",
      "metadata": {
        "id": "Mf33Y-ZiH_DP",
        "colab_type": "code",
        "colab": {
          "base_uri": "https://localhost:8080/",
          "height": 1000
        },
        "outputId": "b027b9ce-abb4-4cdf-be13-ef6d9e8fd09c"
      },
      "source": [
        "#plots for import_id,awards, mpaa\n",
        "sns.barplot(x='import_id',y='cvt_per_day',data=df,ci='sd')\n",
        "plt.show()\n",
        "print(df['import_id'].value_counts())\n",
        "\n",
        "sns.barplot(x='awards',y='cvt_per_day',data=df,ci='sd')\n",
        "plt.show()\n",
        "print(df['awards'].value_counts())\n",
        "\n",
        "sns.barplot(x='mpaa',y='cvt_per_day',data=df,ci='sd')\n",
        "plt.show()\n",
        "print(df['mpaa'].value_counts())\n"
      ],
      "execution_count": 8,
      "outputs": [
        {
          "output_type": "display_data",
          "data": {
            "image/png": "[encoded data removed]",
            "text/plain": [
              "<Figure size 432x288 with 1 Axes>"
            ]
          },
          "metadata": {
            "tags": [],
            "needs_background": "light"
          }
        },
        {
          "output_type": "stream",
          "text": [
            "other        2963\n",
            "lionsgate     677\n",
            "mgm           445\n",
            "paramount     141\n",
            "Name: import_id, dtype: int64\n"
          ],
          "name": "stdout"
        },
        {
          "output_type": "display_data",
          "data": {
            "image/png": "[encoded data removed]",
            "text/plain": [
              "<Figure size 432x288 with 1 Axes>"
            ]
          },
          "metadata": {
            "tags": [],
            "needs_background": "light"
          }
        },
        {
          "output_type": "stream",
          "text": [
            "no award        2569\n",
            "other award     1453\n",
            "Oscar            141\n",
            "Golden Globe      44\n",
            "BAFTA             19\n",
            "Name: awards, dtype: int64\n"
          ],
          "name": "stdout"
        },
        {
          "output_type": "display_data",
          "data": {
            "image/png": "[encoded data removed]",
            "text/plain": [
              "<Figure size 432x288 with 1 Axes>"
            ]
          },
          "metadata": {
            "tags": [],
            "needs_background": "light"
          }
        },
        {
          "output_type": "stream",
          "text": [
            "NotRated    2158\n",
            "R           1158\n",
            "PG-13        426\n",
            "PG           353\n",
            "G            125\n",
            "NC-17          6\n",
            "Name: mpaa, dtype: int64\n"
          ],
          "name": "stdout"
        }
      ]
    },
    {
      "cell_type": "markdown",
      "metadata": {
        "id": "M7oynfo5ny7N",
        "colab_type": "text"
      },
      "source": [
        "#### 1.3.2 Distribution of combined categorical feature"
      ]
    },
    {
      "cell_type": "markdown",
      "metadata": {
        "id": "cvvLI_8woGtE",
        "colab_type": "text"
      },
      "source": [
        "Video can belong to more than one genres. In order to explore the impact of each genre, column genre needs to be splited."
      ]
    },
    {
      "cell_type": "code",
      "metadata": {
        "id": "faQ_Ek5TIwvH",
        "colab_type": "code",
        "colab": {
          "base_uri": "https://localhost:8080/",
          "height": 853
        },
        "outputId": "b09e6c5f-5f37-49c1-da30-7e30eb2a5b4a"
      },
      "source": [
        "#split genres column and do one-hot encoding\n",
        "genres=df['genres'].str.get_dummies(sep=',').sum().sort_values(ascending=False)\n",
        "pc_genres=genres*100/genres.sum()\n",
        "df_genres=pd.concat([genres,pc_genres],axis=1)\n",
        "print(df_genres)\n",
        "genres.plot.bar()\n"
      ],
      "execution_count": 9,
      "outputs": [
        {
          "output_type": "stream",
          "text": [
            "                          0      1\n",
            "Drama                  1677 17.283\n",
            "Comedy                 1184 12.202\n",
            "Thriller                879  9.059\n",
            "Horror                  762  7.853\n",
            "Action                  739  7.616\n",
            "Documentary             671  6.915\n",
            "Romance                 591  6.091\n",
            "Crime                   437  4.504\n",
            "Independent             393  4.050\n",
            "Mystery                 375  3.865\n",
            "Adventure               363  3.741\n",
            "Sci-Fi                  363  3.741\n",
            "Kids & Family           280  2.886\n",
            "Fantasy                 243  2.504\n",
            "Music                   171  1.762\n",
            "Animation               129  1.329\n",
            "War                     102  1.051\n",
            "Western                 102  1.051\n",
            "Sport                    77  0.794\n",
            "Musicals                 68  0.701\n",
            "Foreign/International    64  0.660\n",
            "Anime                    11  0.113\n",
            "Reality                   9  0.093\n",
            "Lifestyle                 7  0.072\n",
            "Adult                     3  0.031\n",
            "LGBT                      2  0.021\n",
            "Holiday                   1  0.010\n"
          ],
          "name": "stdout"
        },
        {
          "output_type": "execute_result",
          "data": {
            "text/plain": [
              "<matplotlib.axes._subplots.AxesSubplot at 0x7faffea82d30>"
            ]
          },
          "metadata": {
            "tags": []
          },
          "execution_count": 9
        },
        {
          "output_type": "display_data",
          "data": {
            "image/png": "[encoded data removed]",
            "text/plain": [
              "<Figure size 432x288 with 1 Axes>"
            ]
          },
          "metadata": {
            "tags": [],
            "needs_background": "light"
          }
        }
      ]
    },
    {
      "cell_type": "markdown",
      "metadata": {
        "id": "MAsGBKNRxebe",
        "colab_type": "text"
      },
      "source": [
        "#### 1.3.3 Distribution of release year"
      ]
    },
    {
      "cell_type": "markdown",
      "metadata": {
        "id": "_MKXHvTlxjtM",
        "colab_type": "text"
      },
      "source": [
        "Even though release year is numeric type in the dataset, but it is not continuous so it should be treated as categorical feature.\n",
        "Considering the popularity of a video usually decays over time, the release year should be bucketed based on percentile range."
      ]
    },
    {
      "cell_type": "code",
      "metadata": {
        "id": "vpV8u0kPyWgO",
        "colab_type": "code",
        "colab": {
          "base_uri": "https://localhost:8080/",
          "height": 296
        },
        "outputId": "bd433280-68fa-4d11-8357-baa8924afc75"
      },
      "source": [
        "plt.hist(df['release_year'],bins=range(1916,2020,1),color='red',alpha=0.8,label='release_year')\n",
        "plt.title('Histogram of release_year before data processing')\n",
        "plt.legend(loc='upper left')\n",
        "plt.xlabel('release_year')\n",
        "plt.ylabel('count')\n",
        "plt.grid(False)\n",
        "plt.show()"
      ],
      "execution_count": 10,
      "outputs": [
        {
          "output_type": "display_data",
          "data": {
            "image/png": "[encoded data removed]",
            "text/plain": [
              "<Figure size 432x288 with 1 Axes>"
            ]
          },
          "metadata": {
            "tags": [],
            "needs_background": "light"
          }
        }
      ]
    },
    {
      "cell_type": "markdown",
      "metadata": {
        "id": "a6MQUXEDz2qx",
        "colab_type": "text"
      },
      "source": [
        "## Part 2:Feature Preprocessing"
      ]
    },
    {
      "cell_type": "markdown",
      "metadata": {
        "id": "Nna2XF3az-Cl",
        "colab_type": "text"
      },
      "source": [
        "### Part 2.1 Numeric features"
      ]
    },
    {
      "cell_type": "markdown",
      "metadata": {
        "id": "HokUa4BK0eGq",
        "colab_type": "text"
      },
      "source": [
        "#### 2.1.1 Missing data "
      ]
    },
    {
      "cell_type": "markdown",
      "metadata": {
        "id": "mqj9cykS0jSb",
        "colab_type": "text"
      },
      "source": [
        "4 out of 10 numerical features have over 25% missing values (shown as 0): budget,boxoffice,metacritic_score,star_category. 2 features have less than 10% missing data: imdb_votes,imdb_rating.\n",
        "\n",
        "There are only 984 samples that don't have any missing values which means 3242 (4226-981) samples that at least have one missing data.\n",
        "\n",
        "I will impute missing data in the following process"
      ]
    },
    {
      "cell_type": "code",
      "metadata": {
        "id": "HfIDiiJo0Oqp",
        "colab_type": "code",
        "colab": {
          "base_uri": "https://localhost:8080/",
          "height": 153
        },
        "outputId": "113fccdc-8054-4d9a-9856-8bf9ff4b0e6d"
      },
      "source": [
        "#missing values\n",
        "(df==0).sum(axis=1).value_counts()"
      ],
      "execution_count": 11,
      "outputs": [
        {
          "output_type": "execute_result",
          "data": {
            "text/plain": [
              "3    1268\n",
              "4    1106\n",
              "0     984\n",
              "2     470\n",
              "6     256\n",
              "5      87\n",
              "1      55\n",
              "dtype: int64"
            ]
          },
          "metadata": {
            "tags": []
          },
          "execution_count": 11
        }
      ]
    },
    {
      "cell_type": "code",
      "metadata": {
        "id": "XwTeVanS4UlB",
        "colab_type": "code",
        "colab": {
          "base_uri": "https://localhost:8080/",
          "height": 408
        },
        "outputId": "8b0cf61d-9811-4701-82e5-f8321631f8fe"
      },
      "source": [
        "#replace 0 with nan\n",
        "df[['budget','boxoffice','metacritic_score', 'star_category','imdb_votes', 'imdb_rating']]= \\\n",
        "df[['budget','boxoffice','metacritic_score', 'star_category','imdb_votes', 'imdb_rating']].replace(0,np.nan)\n",
        "df.info()"
      ],
      "execution_count": 12,
      "outputs": [
        {
          "output_type": "stream",
          "text": [
            "<class 'pandas.core.frame.DataFrame'>\n",
            "Int64Index: 4226 entries, 0 to 4226\n",
            "Data columns (total 16 columns):\n",
            " #   Column                         Non-Null Count  Dtype  \n",
            "---  ------                         --------------  -----  \n",
            " 0   video_id                       4226 non-null   int64  \n",
            " 1   cvt_per_day                    4226 non-null   float64\n",
            " 2   weighted_categorical_position  4226 non-null   int64  \n",
            " 3   weighted_horizontal_poition    4226 non-null   int64  \n",
            " 4   import_id                      4226 non-null   object \n",
            " 5   release_year                   4226 non-null   int64  \n",
            " 6   genres                         4226 non-null   object \n",
            " 7   imdb_votes                     3882 non-null   float64\n",
            " 8   budget                         1772 non-null   float64\n",
            " 9   boxoffice                      1032 non-null   float64\n",
            " 10  imdb_rating                    3882 non-null   float64\n",
            " 11  duration_in_mins               4226 non-null   float64\n",
            " 12  metacritic_score               1214 non-null   float64\n",
            " 13  awards                         4226 non-null   object \n",
            " 14  mpaa                           4226 non-null   object \n",
            " 15  star_category                  2380 non-null   float64\n",
            "dtypes: float64(8), int64(4), object(4)\n",
            "memory usage: 721.3+ KB\n"
          ],
          "name": "stdout"
        }
      ]
    },
    {
      "cell_type": "code",
      "metadata": {
        "id": "Ljy1cJxd51oh",
        "colab_type": "code",
        "colab": {
          "base_uri": "https://localhost:8080/",
          "height": 425
        },
        "outputId": "eb4533b8-7c1c-4f94-c936-6060e7dba1fd"
      },
      "source": [
        "#fill missing data with mean value\n",
        "newdf=df.copy()\n",
        "cols=['budget','boxoffice','metacritic_score', 'star_category','imdb_votes', 'imdb_rating']\n",
        "for col in cols:\n",
        "  newdf[col]=newdf[col].fillna(newdf[col].mean())\n",
        "print(newdf.info())"
      ],
      "execution_count": 13,
      "outputs": [
        {
          "output_type": "stream",
          "text": [
            "<class 'pandas.core.frame.DataFrame'>\n",
            "Int64Index: 4226 entries, 0 to 4226\n",
            "Data columns (total 16 columns):\n",
            " #   Column                         Non-Null Count  Dtype  \n",
            "---  ------                         --------------  -----  \n",
            " 0   video_id                       4226 non-null   int64  \n",
            " 1   cvt_per_day                    4226 non-null   float64\n",
            " 2   weighted_categorical_position  4226 non-null   int64  \n",
            " 3   weighted_horizontal_poition    4226 non-null   int64  \n",
            " 4   import_id                      4226 non-null   object \n",
            " 5   release_year                   4226 non-null   int64  \n",
            " 6   genres                         4226 non-null   object \n",
            " 7   imdb_votes                     4226 non-null   float64\n",
            " 8   budget                         4226 non-null   float64\n",
            " 9   boxoffice                      4226 non-null   float64\n",
            " 10  imdb_rating                    4226 non-null   float64\n",
            " 11  duration_in_mins               4226 non-null   float64\n",
            " 12  metacritic_score               4226 non-null   float64\n",
            " 13  awards                         4226 non-null   object \n",
            " 14  mpaa                           4226 non-null   object \n",
            " 15  star_category                  4226 non-null   float64\n",
            "dtypes: float64(8), int64(4), object(4)\n",
            "memory usage: 561.3+ KB\n",
            "None\n"
          ],
          "name": "stdout"
        }
      ]
    },
    {
      "cell_type": "markdown",
      "metadata": {
        "id": "9We-MXjK60wR",
        "colab_type": "text"
      },
      "source": [
        "#### 2.1.2 Feature scaling"
      ]
    },
    {
      "cell_type": "markdown",
      "metadata": {
        "id": "DanJ9-CV68rO",
        "colab_type": "text"
      },
      "source": [
        "There are two commonly used scale method: normalization (min-max scaler) and standardscaler. The impact of different scalling methods on the model performance is small, so either one will work. I used standardscaler in the following process."
      ]
    },
    {
      "cell_type": "code",
      "metadata": {
        "id": "BFZP9MHF8Gz1",
        "colab_type": "code",
        "colab": {
          "base_uri": "https://localhost:8080/",
          "height": 292
        },
        "outputId": "1216bf2a-8644-46d5-cc6e-905b0fc71794"
      },
      "source": [
        "# scale data using standardization\n",
        "#(x-mean)/std\n",
        "#only numeric features need to be scaled and label data (cvt_per_day) doesn't need to be scaled\n",
        "#other scalers: preprocessing.MinMaxScaler(),preprocessing.RobustScaler()\n",
        "from sklearn.preprocessing import StandardScaler\n",
        "scaler=StandardScaler()\n",
        "scl_lst=['weighted_categorical_position', 'weighted_horizontal_poition', 'budget','boxoffice', \n",
        "             'imdb_votes','imdb_rating','duration_in_mins', 'metacritic_score','star_category']\n",
        "scaler.fit(newdf[scl_lst])\n",
        "newdf[scl_lst]=scaler.transform(newdf[scl_lst])\n",
        "newdf.head()\n"
      ],
      "execution_count": 14,
      "outputs": [
        {
          "output_type": "execute_result",
          "data": {
            "text/html": [
              "<div>\n",
              "<style scoped>\n",
              "    .dataframe tbody tr th:only-of-type {\n",
              "        vertical-align: middle;\n",
              "    }\n",
              "\n",
              "    .dataframe tbody tr th {\n",
              "        vertical-align: top;\n",
              "    }\n",
              "\n",
              "    .dataframe thead th {\n",
              "        text-align: right;\n",
              "    }\n",
              "</style>\n",
              "<table border=\"1\" class=\"dataframe\">\n",
              "  <thead>\n",
              "    <tr style=\"text-align: right;\">\n",
              "      <th></th>\n",
              "      <th>video_id</th>\n",
              "      <th>cvt_per_day</th>\n",
              "      <th>weighted_categorical_position</th>\n",
              "      <th>weighted_horizontal_poition</th>\n",
              "      <th>import_id</th>\n",
              "      <th>release_year</th>\n",
              "      <th>genres</th>\n",
              "      <th>imdb_votes</th>\n",
              "      <th>budget</th>\n",
              "      <th>boxoffice</th>\n",
              "      <th>imdb_rating</th>\n",
              "      <th>duration_in_mins</th>\n",
              "      <th>metacritic_score</th>\n",
              "      <th>awards</th>\n",
              "      <th>mpaa</th>\n",
              "      <th>star_category</th>\n",
              "    </tr>\n",
              "  </thead>\n",
              "  <tbody>\n",
              "    <tr>\n",
              "      <th>0</th>\n",
              "      <td>385504</td>\n",
              "      <td>307127.606</td>\n",
              "      <td>-1.106</td>\n",
              "      <td>-2.116</td>\n",
              "      <td>lionsgate</td>\n",
              "      <td>2013</td>\n",
              "      <td>Action,Thriller,Drama</td>\n",
              "      <td>1.984</td>\n",
              "      <td>1.470</td>\n",
              "      <td>4.696</td>\n",
              "      <td>0.542</td>\n",
              "      <td>1.079</td>\n",
              "      <td>-0.630</td>\n",
              "      <td>other award</td>\n",
              "      <td>PG-13</td>\n",
              "      <td>0.033</td>\n",
              "    </tr>\n",
              "    <tr>\n",
              "      <th>2</th>\n",
              "      <td>300175</td>\n",
              "      <td>270338.426</td>\n",
              "      <td>-1.106</td>\n",
              "      <td>-2.116</td>\n",
              "      <td>lionsgate</td>\n",
              "      <td>2013</td>\n",
              "      <td>Comedy,Crime,Thriller</td>\n",
              "      <td>1.258</td>\n",
              "      <td>1.470</td>\n",
              "      <td>-1.022</td>\n",
              "      <td>0.542</td>\n",
              "      <td>0.257</td>\n",
              "      <td>-1.997</td>\n",
              "      <td>no award</td>\n",
              "      <td>R</td>\n",
              "      <td>3.434</td>\n",
              "    </tr>\n",
              "    <tr>\n",
              "      <th>3</th>\n",
              "      <td>361899</td>\n",
              "      <td>256165.867</td>\n",
              "      <td>-1.106</td>\n",
              "      <td>-2.116</td>\n",
              "      <td>other</td>\n",
              "      <td>2012</td>\n",
              "      <td>Crime,Drama</td>\n",
              "      <td>6.043</td>\n",
              "      <td>3.108</td>\n",
              "      <td>3.898</td>\n",
              "      <td>1.100</td>\n",
              "      <td>1.243</td>\n",
              "      <td>0.327</td>\n",
              "      <td>other award</td>\n",
              "      <td>R</td>\n",
              "      <td>2.102</td>\n",
              "    </tr>\n",
              "    <tr>\n",
              "      <th>4</th>\n",
              "      <td>308314</td>\n",
              "      <td>196622.721</td>\n",
              "      <td>-0.780</td>\n",
              "      <td>-2.032</td>\n",
              "      <td>lionsgate</td>\n",
              "      <td>2008</td>\n",
              "      <td>Thriller,Drama,War,Documentary,Mystery,Action</td>\n",
              "      <td>11.077</td>\n",
              "      <td>1.470</td>\n",
              "      <td>0.767</td>\n",
              "      <td>1.309</td>\n",
              "      <td>1.952</td>\n",
              "      <td>5.250</td>\n",
              "      <td>Oscar</td>\n",
              "      <td>R</td>\n",
              "      <td>-0.063</td>\n",
              "    </tr>\n",
              "    <tr>\n",
              "      <th>5</th>\n",
              "      <td>307201</td>\n",
              "      <td>159841.652</td>\n",
              "      <td>-1.106</td>\n",
              "      <td>-2.116</td>\n",
              "      <td>lionsgate</td>\n",
              "      <td>2013</td>\n",
              "      <td>Crime,Thriller,Mystery,Documentary</td>\n",
              "      <td>1.258</td>\n",
              "      <td>3.290</td>\n",
              "      <td>-0.265</td>\n",
              "      <td>0.472</td>\n",
              "      <td>0.758</td>\n",
              "      <td>-2.544</td>\n",
              "      <td>other award</td>\n",
              "      <td>R</td>\n",
              "      <td>3.029</td>\n",
              "    </tr>\n",
              "  </tbody>\n",
              "</table>\n",
              "</div>"
            ],
            "text/plain": [
              "   video_id  cvt_per_day  weighted_categorical_position  \\\n",
              "0    385504   307127.606                         -1.106   \n",
              "2    300175   270338.426                         -1.106   \n",
              "3    361899   256165.867                         -1.106   \n",
              "4    308314   196622.721                         -0.780   \n",
              "5    307201   159841.652                         -1.106   \n",
              "\n",
              "   weighted_horizontal_poition  import_id  release_year  \\\n",
              "0                       -2.116  lionsgate          2013   \n",
              "2                       -2.116  lionsgate          2013   \n",
              "3                       -2.116      other          2012   \n",
              "4                       -2.032  lionsgate          2008   \n",
              "5                       -2.116  lionsgate          2013   \n",
              "\n",
              "                                          genres  imdb_votes  budget  \\\n",
              "0                          Action,Thriller,Drama       1.984   1.470   \n",
              "2                          Comedy,Crime,Thriller       1.258   1.470   \n",
              "3                                    Crime,Drama       6.043   3.108   \n",
              "4  Thriller,Drama,War,Documentary,Mystery,Action      11.077   1.470   \n",
              "5             Crime,Thriller,Mystery,Documentary       1.258   3.290   \n",
              "\n",
              "   boxoffice  imdb_rating  duration_in_mins  metacritic_score       awards  \\\n",
              "0      4.696        0.542             1.079            -0.630  other award   \n",
              "2     -1.022        0.542             0.257            -1.997     no award   \n",
              "3      3.898        1.100             1.243             0.327  other award   \n",
              "4      0.767        1.309             1.952             5.250        Oscar   \n",
              "5     -0.265        0.472             0.758            -2.544  other award   \n",
              "\n",
              "    mpaa  star_category  \n",
              "0  PG-13          0.033  \n",
              "2      R          3.434  \n",
              "3      R          2.102  \n",
              "4      R         -0.063  \n",
              "5      R          3.029  "
            ]
          },
          "metadata": {
            "tags": []
          },
          "execution_count": 14
        }
      ]
    },
    {
      "cell_type": "markdown",
      "metadata": {
        "id": "YCot2qu59Hs9",
        "colab_type": "text"
      },
      "source": [
        "### Part 2.2 Categorical features"
      ]
    },
    {
      "cell_type": "markdown",
      "metadata": {
        "id": "-TVfgXpm9NH0",
        "colab_type": "text"
      },
      "source": [
        "There are 5 categorical features: import_id, mpaa, awards, genres, and release_year. There are no missing values in them so they can be encoded directly.\n",
        "\n",
        "'import_id,mpaa,awards' have relatively small subtypes, they can be easily converted to dummies.\n",
        "\n",
        "'genres' have 27 different sub-types, 6 of them are rarely observed (less than 0.5%) so they will be grouped to others.\n",
        "'release_year' is binned into 10 buckets based on the year range from 1916 and 2017."
      ]
    },
    {
      "cell_type": "code",
      "metadata": {
        "id": "WuYdwU0O-pub",
        "colab_type": "code",
        "colab": {
          "base_uri": "https://localhost:8080/",
          "height": 646
        },
        "outputId": "a052580e-064a-4811-d3a6-3737dc4b9df7"
      },
      "source": [
        "#convert import_id,mpaa,awards to dummy variables\n",
        "df_import_id=pd.get_dummies(newdf['import_id'])\n",
        "df_mpaa=pd.get_dummies(newdf['mpaa'])\n",
        "df_awards=pd.get_dummies(newdf['awards'])\n",
        "print(df_import_id.info(),df_mpaa.info(),df_awards.info())"
      ],
      "execution_count": 15,
      "outputs": [
        {
          "output_type": "stream",
          "text": [
            "<class 'pandas.core.frame.DataFrame'>\n",
            "Int64Index: 4226 entries, 0 to 4226\n",
            "Data columns (total 4 columns):\n",
            " #   Column     Non-Null Count  Dtype\n",
            "---  ------     --------------  -----\n",
            " 0   lionsgate  4226 non-null   uint8\n",
            " 1   mgm        4226 non-null   uint8\n",
            " 2   other      4226 non-null   uint8\n",
            " 3   paramount  4226 non-null   uint8\n",
            "dtypes: uint8(4)\n",
            "memory usage: 49.5 KB\n",
            "<class 'pandas.core.frame.DataFrame'>\n",
            "Int64Index: 4226 entries, 0 to 4226\n",
            "Data columns (total 6 columns):\n",
            " #   Column    Non-Null Count  Dtype\n",
            "---  ------    --------------  -----\n",
            " 0   G         4226 non-null   uint8\n",
            " 1   NC-17     4226 non-null   uint8\n",
            " 2   NotRated  4226 non-null   uint8\n",
            " 3   PG        4226 non-null   uint8\n",
            " 4   PG-13     4226 non-null   uint8\n",
            " 5   R         4226 non-null   uint8\n",
            "dtypes: uint8(6)\n",
            "memory usage: 57.8 KB\n",
            "<class 'pandas.core.frame.DataFrame'>\n",
            "Int64Index: 4226 entries, 0 to 4226\n",
            "Data columns (total 5 columns):\n",
            " #   Column        Non-Null Count  Dtype\n",
            "---  ------        --------------  -----\n",
            " 0   BAFTA         4226 non-null   uint8\n",
            " 1   Golden Globe  4226 non-null   uint8\n",
            " 2   Oscar         4226 non-null   uint8\n",
            " 3   no award      4226 non-null   uint8\n",
            " 4   other award   4226 non-null   uint8\n",
            "dtypes: uint8(5)\n",
            "memory usage: 53.7 KB\n",
            "None None None\n"
          ],
          "name": "stdout"
        }
      ]
    },
    {
      "cell_type": "code",
      "metadata": {
        "id": "3LW035C2AvVN",
        "colab_type": "code",
        "colab": {
          "base_uri": "https://localhost:8080/",
          "height": 510
        },
        "outputId": "d3b36de9-3856-4359-93ff-7b8132531ae5"
      },
      "source": [
        "#convert genres to dummy variables\n",
        "df_genres=newdf['genres'].str.get_dummies(sep=',')\n",
        "df_genres['Misc']=df_genres['Anime']|df_genres['Reality']|df_genres['Lifestyle']|df_genres['Adult']|df_genres['LGBT']|df_genres['Holiday']\n",
        "df_genres.drop(['Anime', 'Reality','Lifestyle', 'Adult','LGBT','Holiday'],inplace=True,axis=1)\n",
        "df_genres.info()"
      ],
      "execution_count": 16,
      "outputs": [
        {
          "output_type": "stream",
          "text": [
            "<class 'pandas.core.frame.DataFrame'>\n",
            "Int64Index: 4226 entries, 0 to 4226\n",
            "Data columns (total 22 columns):\n",
            " #   Column                 Non-Null Count  Dtype\n",
            "---  ------                 --------------  -----\n",
            " 0   Action                 4226 non-null   int64\n",
            " 1   Adventure              4226 non-null   int64\n",
            " 2   Animation              4226 non-null   int64\n",
            " 3   Comedy                 4226 non-null   int64\n",
            " 4   Crime                  4226 non-null   int64\n",
            " 5   Documentary            4226 non-null   int64\n",
            " 6   Drama                  4226 non-null   int64\n",
            " 7   Fantasy                4226 non-null   int64\n",
            " 8   Foreign/International  4226 non-null   int64\n",
            " 9   Horror                 4226 non-null   int64\n",
            " 10  Independent            4226 non-null   int64\n",
            " 11  Kids & Family          4226 non-null   int64\n",
            " 12  Music                  4226 non-null   int64\n",
            " 13  Musicals               4226 non-null   int64\n",
            " 14  Mystery                4226 non-null   int64\n",
            " 15  Romance                4226 non-null   int64\n",
            " 16  Sci-Fi                 4226 non-null   int64\n",
            " 17  Sport                  4226 non-null   int64\n",
            " 18  Thriller               4226 non-null   int64\n",
            " 19  War                    4226 non-null   int64\n",
            " 20  Western                4226 non-null   int64\n",
            " 21  Misc                   4226 non-null   int64\n",
            "dtypes: int64(22)\n",
            "memory usage: 759.4 KB\n"
          ],
          "name": "stdout"
        }
      ]
    },
    {
      "cell_type": "code",
      "metadata": {
        "id": "khgbkCVxB2xj",
        "colab_type": "code",
        "colab": {}
      },
      "source": [
        "#get release_year range\n",
        "year_break=newdf['release_year'].quantile([i*0.1 for i in range(1,10)])"
      ],
      "execution_count": 17,
      "outputs": []
    },
    {
      "cell_type": "code",
      "metadata": {
        "id": "396f_WmoCKYi",
        "colab_type": "code",
        "colab": {
          "base_uri": "https://localhost:8080/",
          "height": 323
        },
        "outputId": "331addcd-da81-43ec-a06d-363db2a80cf6"
      },
      "source": [
        "#bin release_year and convert it to dummy variable\n",
        "bin_year=[newdf['release_year'].min()]+list(year_break.values.astype(np.int16))+[newdf['release_year'].max()]\n",
        "#print(bin_year)\n",
        "def create_year_label(bin_year):\n",
        "  i=0\n",
        "  res=[]\n",
        "  while i < len(bin_year)-1:\n",
        "    res.append(str(bin_year[i])+'-'+str(bin_year[i+1]))\n",
        "    i+=1\n",
        "  return res\n",
        "\n",
        "year_range=create_year_label(bin_year)\n",
        "print(year_range)\n",
        "#pd.cut is used to convert release_year from int to year_range\n",
        "new_release_year=pd.cut(newdf['release_year'],bins=bin_year,labels=year_range)\n",
        "df_year=pd.get_dummies(new_release_year)\n",
        "df_year.info()"
      ],
      "execution_count": 18,
      "outputs": [
        {
          "output_type": "stream",
          "text": [
            "['1916-1974', '1974-1991', '1991-2001', '2001-2006', '2006-2008', '2008-2010', '2010-2012', '2012-2013', '2013-2014', '2014-2017']\n",
            "<class 'pandas.core.frame.DataFrame'>\n",
            "Int64Index: 4226 entries, 0 to 4226\n",
            "Data columns (total 10 columns):\n",
            " #   Column     Non-Null Count  Dtype\n",
            "---  ------     --------------  -----\n",
            " 0   1916-1974  4226 non-null   uint8\n",
            " 1   1974-1991  4226 non-null   uint8\n",
            " 2   1991-2001  4226 non-null   uint8\n",
            " 3   2001-2006  4226 non-null   uint8\n",
            " 4   2006-2008  4226 non-null   uint8\n",
            " 5   2008-2010  4226 non-null   uint8\n",
            " 6   2010-2012  4226 non-null   uint8\n",
            " 7   2012-2013  4226 non-null   uint8\n",
            " 8   2013-2014  4226 non-null   uint8\n",
            " 9   2014-2017  4226 non-null   uint8\n",
            "dtypes: uint8(10)\n",
            "memory usage: 74.3 KB\n"
          ],
          "name": "stdout"
        }
      ]
    },
    {
      "cell_type": "code",
      "metadata": {
        "id": "1WBFpwILGi6v",
        "colab_type": "code",
        "colab": {
          "base_uri": "https://localhost:8080/",
          "height": 1000
        },
        "outputId": "d1dbab00-4819-48c8-ac6a-f74a18955103"
      },
      "source": [
        "#drop old categorical columns and add new ones\n",
        "tmp_df=newdf.drop(['import_id', 'mpaa','awards','genres', 'release_year'],axis=1)\n",
        "model_ready_df=pd.concat([tmp_df,df_import_id,df_awards,df_mpaa,df_genres,df_year],axis=1)\n",
        "model_ready_df.info()"
      ],
      "execution_count": 19,
      "outputs": [
        {
          "output_type": "stream",
          "text": [
            "<class 'pandas.core.frame.DataFrame'>\n",
            "Int64Index: 4226 entries, 0 to 4226\n",
            "Data columns (total 58 columns):\n",
            " #   Column                         Non-Null Count  Dtype  \n",
            "---  ------                         --------------  -----  \n",
            " 0   video_id                       4226 non-null   int64  \n",
            " 1   cvt_per_day                    4226 non-null   float64\n",
            " 2   weighted_categorical_position  4226 non-null   float64\n",
            " 3   weighted_horizontal_poition    4226 non-null   float64\n",
            " 4   imdb_votes                     4226 non-null   float64\n",
            " 5   budget                         4226 non-null   float64\n",
            " 6   boxoffice                      4226 non-null   float64\n",
            " 7   imdb_rating                    4226 non-null   float64\n",
            " 8   duration_in_mins               4226 non-null   float64\n",
            " 9   metacritic_score               4226 non-null   float64\n",
            " 10  star_category                  4226 non-null   float64\n",
            " 11  lionsgate                      4226 non-null   uint8  \n",
            " 12  mgm                            4226 non-null   uint8  \n",
            " 13  other                          4226 non-null   uint8  \n",
            " 14  paramount                      4226 non-null   uint8  \n",
            " 15  BAFTA                          4226 non-null   uint8  \n",
            " 16  Golden Globe                   4226 non-null   uint8  \n",
            " 17  Oscar                          4226 non-null   uint8  \n",
            " 18  no award                       4226 non-null   uint8  \n",
            " 19  other award                    4226 non-null   uint8  \n",
            " 20  G                              4226 non-null   uint8  \n",
            " 21  NC-17                          4226 non-null   uint8  \n",
            " 22  NotRated                       4226 non-null   uint8  \n",
            " 23  PG                             4226 non-null   uint8  \n",
            " 24  PG-13                          4226 non-null   uint8  \n",
            " 25  R                              4226 non-null   uint8  \n",
            " 26  Action                         4226 non-null   int64  \n",
            " 27  Adventure                      4226 non-null   int64  \n",
            " 28  Animation                      4226 non-null   int64  \n",
            " 29  Comedy                         4226 non-null   int64  \n",
            " 30  Crime                          4226 non-null   int64  \n",
            " 31  Documentary                    4226 non-null   int64  \n",
            " 32  Drama                          4226 non-null   int64  \n",
            " 33  Fantasy                        4226 non-null   int64  \n",
            " 34  Foreign/International          4226 non-null   int64  \n",
            " 35  Horror                         4226 non-null   int64  \n",
            " 36  Independent                    4226 non-null   int64  \n",
            " 37  Kids & Family                  4226 non-null   int64  \n",
            " 38  Music                          4226 non-null   int64  \n",
            " 39  Musicals                       4226 non-null   int64  \n",
            " 40  Mystery                        4226 non-null   int64  \n",
            " 41  Romance                        4226 non-null   int64  \n",
            " 42  Sci-Fi                         4226 non-null   int64  \n",
            " 43  Sport                          4226 non-null   int64  \n",
            " 44  Thriller                       4226 non-null   int64  \n",
            " 45  War                            4226 non-null   int64  \n",
            " 46  Western                        4226 non-null   int64  \n",
            " 47  Misc                           4226 non-null   int64  \n",
            " 48  1916-1974                      4226 non-null   uint8  \n",
            " 49  1974-1991                      4226 non-null   uint8  \n",
            " 50  1991-2001                      4226 non-null   uint8  \n",
            " 51  2001-2006                      4226 non-null   uint8  \n",
            " 52  2006-2008                      4226 non-null   uint8  \n",
            " 53  2008-2010                      4226 non-null   uint8  \n",
            " 54  2010-2012                      4226 non-null   uint8  \n",
            " 55  2012-2013                      4226 non-null   uint8  \n",
            " 56  2013-2014                      4226 non-null   uint8  \n",
            " 57  2014-2017                      4226 non-null   uint8  \n",
            "dtypes: float64(10), int64(23), uint8(25)\n",
            "memory usage: 1.2 MB\n"
          ],
          "name": "stdout"
        }
      ]
    },
    {
      "cell_type": "markdown",
      "metadata": {
        "id": "oL95Mla40cxa",
        "colab_type": "text"
      },
      "source": [
        "## Part 3: Model Training"
      ]
    },
    {
      "cell_type": "markdown",
      "metadata": {
        "id": "1wgXzhHm0jmE",
        "colab_type": "text"
      },
      "source": [
        "### Part 3.1: Split dataset"
      ]
    },
    {
      "cell_type": "code",
      "metadata": {
        "id": "lVKzLyJm0b4l",
        "colab_type": "code",
        "colab": {
          "base_uri": "https://localhost:8080/",
          "height": 51
        },
        "outputId": "67822ed5-0a39-4cf1-c0fc-901dec7ae37e"
      },
      "source": [
        "y=model_ready_df['cvt_per_day']\n",
        "X=model_ready_df.drop(['video_id','cvt_per_day'],axis=1)\n",
        "\n",
        "#reserve 25% for testing, random state is seed,to make sure result is the same in every run. random_state can be any number\n",
        "X_train,X_test,y_train, y_test=train_test_split(X,y,test_size=0.25,random_state=1)\n",
        "print('training data has '+str(X_train.shape[0]) + ' observation with '+str(X_train.shape[1])+' features')\n",
        "print('test data has '+str(X_test.shape[0]) + ' observation with '+str(X_test.shape[1])+' features')"
      ],
      "execution_count": 20,
      "outputs": [
        {
          "output_type": "stream",
          "text": [
            "training data has 3169 observation with 56 features\n",
            "test data has 1057 observation with 56 features\n"
          ],
          "name": "stdout"
        }
      ]
    },
    {
      "cell_type": "markdown",
      "metadata": {
        "id": "VqTe3FpIpiBu",
        "colab_type": "text"
      },
      "source": [
        "### Part 3.2 Model Training and Selection"
      ]
    },
    {
      "cell_type": "code",
      "metadata": {
        "id": "_yhTlHJJpmUW",
        "colab_type": "code",
        "colab": {}
      },
      "source": [
        "from sklearn.linear_model import Lasso,Ridge,ElasticNet\n",
        "from sklearn.ensemble import RandomForestRegressor\n",
        "from sklearn.model_selection import GridSearchCV\n",
        "from sklearn import model_selection\n",
        "#use 5-fold cross validation to get accuracy for different models\n",
        "def get_cv_score(model):\n",
        "  cv_score=model_selection.cross_val_score(model,X_train,y_train,cv=5,scoring='r2')\n",
        "  print(cv_score)\n",
        "  print('CV Mean is '+str(cv_score.mean()))\n",
        "  print('STD is '+str(cv_score.std()))\n",
        "#print best score from grid search\n",
        "def print_grid_search_metrics(gs):\n",
        "  print('Best score: '+str(gs.best_score_))\n",
        "  print('Best parameters set:')\n",
        "  best_params=gs.best_params_\n",
        "  for param_name in sorted(parameters.keys()):\n",
        "    print(param_name + ':' + str(best_params[param_name]))\n"
      ],
      "execution_count": 26,
      "outputs": []
    },
    {
      "cell_type": "markdown",
      "metadata": {
        "id": "TL3z2LpJxSnG",
        "colab_type": "text"
      },
      "source": [
        "#### 3.2.1 Ridge linear regression (L2 regularization)"
      ]
    },
    {
      "cell_type": "code",
      "metadata": {
        "id": "PubsqA9cxPtJ",
        "colab_type": "code",
        "colab": {
          "base_uri": "https://localhost:8080/",
          "height": 68
        },
        "outputId": "ec6402b0-a4b2-4a6d-88d4-d449d1e4685b"
      },
      "source": [
        "from sklearn.linear_model import Ridge\n",
        "ridge=Ridge(alpha=1).fit(X_train,y_train)\n",
        "get_cv_score(ridge)\n"
      ],
      "execution_count": 93,
      "outputs": [
        {
          "output_type": "stream",
          "text": [
            "[0.26358443 0.3165767  0.20965524 0.29242421 0.28399714]\n",
            "CV Mean is 0.2732475435452455\n",
            "STD is 0.03605016072072478\n"
          ],
          "name": "stdout"
        }
      ]
    },
    {
      "cell_type": "code",
      "metadata": {
        "id": "wWMrFoP9yaMx",
        "colab_type": "code",
        "colab": {
          "base_uri": "https://localhost:8080/",
          "height": 363
        },
        "outputId": "887798de-a0cc-4078-8296-ce6025c230cc"
      },
      "source": [
        "#Tune alpha\n",
        "alpha=np.logspace (-10, 3.2, num=150)\n",
        "parameters=dict(alpha=alpha)\n",
        "grid=GridSearchCV(estimator=ridge,param_grid=parameters,scoring='r2',verbose=1,n_jobs=-1,refit=True)\n",
        "grid_result=grid.fit(X_train,y_train)\n",
        "scores=grid_result.cv_results_['mean_test_score']\n",
        "plt.plot(alpha, scores, color='r', linestyle='dashed', marker='o',markerfacecolor='r', markersize=6)\n",
        "plt.xlabel('alpha')\n",
        "plt.ylabel('score')\n",
        "plt.grid(True)\n",
        "plt.title('score vs. alpha')\n",
        "plt.show()\n"
      ],
      "execution_count": 94,
      "outputs": [
        {
          "output_type": "stream",
          "text": [
            "Fitting 5 folds for each of 150 candidates, totalling 750 fits\n"
          ],
          "name": "stdout"
        },
        {
          "output_type": "stream",
          "text": [
            "[Parallel(n_jobs=-1)]: Using backend LokyBackend with 2 concurrent workers.\n",
            "[Parallel(n_jobs=-1)]: Done 360 tasks      | elapsed:    3.4s\n",
            "[Parallel(n_jobs=-1)]: Done 750 out of 750 | elapsed:    5.6s finished\n"
          ],
          "name": "stderr"
        },
        {
          "output_type": "display_data",
          "data": {
            "image/png": "[encoded data removed]",
            "text/plain": [
              "<Figure size 432x288 with 1 Axes>"
            ]
          },
          "metadata": {
            "tags": [],
            "needs_background": "light"
          }
        }
      ]
    },
    {
      "cell_type": "code",
      "metadata": {
        "id": "5iFCp_DdyLeI",
        "colab_type": "code",
        "colab": {
          "base_uri": "https://localhost:8080/",
          "height": 68
        },
        "outputId": "918a1b26-08a7-44a3-d148-8145b57958e0"
      },
      "source": [
        "ridge_best=grid.best_estimator_\n",
        "print_grid_search_metrics(grid)"
      ],
      "execution_count": 95,
      "outputs": [
        {
          "output_type": "stream",
          "text": [
            "Best score: 0.2957884168511685\n",
            "Best parameters set:\n",
            "alpha:380.0719086471596\n"
          ],
          "name": "stdout"
        }
      ]
    },
    {
      "cell_type": "markdown",
      "metadata": {
        "id": "hExgAAGb-8KH",
        "colab_type": "text"
      },
      "source": [
        "#### 3.2.2 Lasso linear regression(L1 regularization)"
      ]
    },
    {
      "cell_type": "code",
      "metadata": {
        "id": "7aaEag_P_EOY",
        "colab_type": "code",
        "colab": {
          "base_uri": "https://localhost:8080/",
          "height": 68
        },
        "outputId": "f9eb81fc-0bfa-4bae-8ff0-5f6977afcf25"
      },
      "source": [
        "from sklearn.linear_model import Lasso\n",
        "lasso=Lasso(alpha=1).fit(X_train,y_train)\n",
        "get_cv_score(lasso)"
      ],
      "execution_count": 96,
      "outputs": [
        {
          "output_type": "stream",
          "text": [
            "[0.26373711 0.31704543 0.20958276 0.29220555 0.2842727 ]\n",
            "CV Mean is 0.2733687115363487\n",
            "STD is 0.03617401156972078\n"
          ],
          "name": "stdout"
        }
      ]
    },
    {
      "cell_type": "code",
      "metadata": {
        "id": "K0zNVQm7_8oB",
        "colab_type": "code",
        "colab": {
          "base_uri": "https://localhost:8080/",
          "height": 397
        },
        "outputId": "8cc7f96e-d783-4962-df10-4d1e8692f61c"
      },
      "source": [
        "#tune hyperparameter alpha\n",
        "alpha=np.logspace (-10, 2.5, num=150)\n",
        "parameters=dict(alpha=alpha)\n",
        "grid=GridSearchCV(estimator=lasso,param_grid=parameters,scoring='r2',verbose=1,n_jobs=-1,refit=True)\n",
        "grid_result=grid.fit(X_train,y_train)\n",
        "scores=grid_result.cv_results_['mean_test_score']\n",
        "plt.plot(alpha, scores, color='r', linestyle='dashed', marker='o',markerfacecolor='r', markersize=6)\n",
        "plt.xlabel('alpha')\n",
        "plt.ylabel('score')\n",
        "plt.grid(True)\n",
        "plt.title('score vs. alpha')\n",
        "plt.show()"
      ],
      "execution_count": 97,
      "outputs": [
        {
          "output_type": "stream",
          "text": [
            "Fitting 5 folds for each of 150 candidates, totalling 750 fits\n"
          ],
          "name": "stdout"
        },
        {
          "output_type": "stream",
          "text": [
            "[Parallel(n_jobs=-1)]: Using backend LokyBackend with 2 concurrent workers.\n",
            "[Parallel(n_jobs=-1)]: Done  46 tasks      | elapsed:    7.2s\n",
            "[Parallel(n_jobs=-1)]: Done 196 tasks      | elapsed:   30.5s\n",
            "[Parallel(n_jobs=-1)]: Done 446 tasks      | elapsed:  1.2min\n",
            "[Parallel(n_jobs=-1)]: Done 750 out of 750 | elapsed:  1.5min finished\n"
          ],
          "name": "stderr"
        },
        {
          "output_type": "display_data",
          "data": {
            "image/png": "[encoded data removed]",
            "text/plain": [
              "<Figure size 432x288 with 1 Axes>"
            ]
          },
          "metadata": {
            "tags": [],
            "needs_background": "light"
          }
        }
      ]
    },
    {
      "cell_type": "code",
      "metadata": {
        "id": "NWjjeWn0ACcD",
        "colab_type": "code",
        "colab": {
          "base_uri": "https://localhost:8080/",
          "height": 68
        },
        "outputId": "28759a87-8853-4500-bdd4-5d406b046cd3"
      },
      "source": [
        "lasso_best=grid.best_estimator_\n",
        "print_grid_search_metrics(grid)"
      ],
      "execution_count": 98,
      "outputs": [
        {
          "output_type": "stream",
          "text": [
            "Best score: 0.281808347486216\n",
            "Best parameters set:\n",
            "alpha:67.43091617249776\n"
          ],
          "name": "stdout"
        }
      ]
    },
    {
      "cell_type": "code",
      "metadata": {
        "id": "YNWT9dQVAO4-",
        "colab_type": "code",
        "colab": {
          "base_uri": "https://localhost:8080/",
          "height": 102
        },
        "outputId": "74a7bf79-9e0e-44f8-87d3-d6dd2ff520ad"
      },
      "source": [
        "#excluded features\n",
        "for coef,col in enumerate(X.columns):\n",
        "  if lasso.coef_[coef] ==0:\n",
        "    print(f'{col}: {lasso.coef_[coef]}')"
      ],
      "execution_count": 99,
      "outputs": [
        {
          "output_type": "stream",
          "text": [
            "mgm: -0.0\n",
            "BAFTA: -0.0\n",
            "NC-17: -0.0\n",
            "PG: 0.0\n",
            "2006-2008: -0.0\n"
          ],
          "name": "stdout"
        }
      ]
    },
    {
      "cell_type": "markdown",
      "metadata": {
        "id": "q7NCE4EMkZ8w",
        "colab_type": "text"
      },
      "source": [
        "#### 3.2.3 Random Forest"
      ]
    },
    {
      "cell_type": "code",
      "metadata": {
        "id": "hi3wEu_ikrSH",
        "colab_type": "code",
        "colab": {
          "base_uri": "https://localhost:8080/",
          "height": 68
        },
        "outputId": "28d43ee7-f595-44f4-c8d1-d180d3a5b2db"
      },
      "source": [
        "#use default hyperparameter\n",
        "#default n_estimator=10, max_feature=sqrt which is sqrt(n) features\n",
        "rf=RandomForestRegressor(random_state=6,max_features='sqrt',n_jobs=-1)\n",
        "rf.fit(X_train,y_train)\n",
        "get_cv_score(rf)"
      ],
      "execution_count": 100,
      "outputs": [
        {
          "output_type": "stream",
          "text": [
            "[0.56091594 0.58900636 0.38596382 0.51734349 0.59111608]\n",
            "CV Mean is 0.5288691372699789\n",
            "STD is 0.07625343994943011\n"
          ],
          "name": "stdout"
        }
      ]
    },
    {
      "cell_type": "code",
      "metadata": {
        "id": "bUanV8cplI7o",
        "colab_type": "code",
        "colab": {}
      },
      "source": [
        "#tune hyperparameter--n_estimator: number of trees and max_depth: depth of each tree\n",
        "parameters={'n_estimators':[90,91,92,93,94,95,96,97,98,99,100],'max_depth':[15,16,17,18,19,20,21]}\n",
        "grid=GridSearchCV(estimator=rf,param_grid=parameters,cv=5,refit=True,n_jobs=-1,pre_dispatch='2*n_jobs')\n",
        "grid_result=grid.fit(X_train,y_train)"
      ],
      "execution_count": 101,
      "outputs": []
    },
    {
      "cell_type": "code",
      "metadata": {
        "id": "5PFlR3U2o5VE",
        "colab_type": "code",
        "colab": {
          "base_uri": "https://localhost:8080/",
          "height": 280
        },
        "outputId": "3b48ff00-6d9c-42ed-afc1-1bcc1b14172e"
      },
      "source": [
        "max_depth=parameters['max_depth']\n",
        "n_estimators=parameters['n_estimators']\n",
        "scores=grid_result.cv_results_['mean_test_score'].reshape(len(max_depth),len(n_estimators))\n",
        "plt.figure(1)\n",
        "plt.subplot(1,1,1)\n",
        "for i,j in enumerate(max_depth):\n",
        "  plt.plot(n_estimators,scores[i],'-o',label='max_depths is: '+str(j))\n",
        "plt.legend(bbox_to_anchor=(1.05, 1), loc='upper left', borderaxespad=0.)\n",
        "plt.xlabel('mean_test_score')\n",
        "plt.ylabel('n_estimators')\n",
        "plt.show()"
      ],
      "execution_count": 113,
      "outputs": [
        {
          "output_type": "display_data",
          "data": {
            "image/png": "[encoded data removed]",
            "text/plain": [
              "<Figure size 432x288 with 1 Axes>"
            ]
          },
          "metadata": {
            "tags": [],
            "needs_background": "light"
          }
        }
      ]
    },
    {
      "cell_type": "code",
      "metadata": {
        "id": "UzDui1RioQlO",
        "colab_type": "code",
        "colab": {
          "base_uri": "https://localhost:8080/",
          "height": 85
        },
        "outputId": "30ed17d6-abe1-4092-acdf-eabd5327fa69"
      },
      "source": [
        "rf_best=grid.best_estimator_\n",
        "print_grid_search_metrics(grid)"
      ],
      "execution_count": 103,
      "outputs": [
        {
          "output_type": "stream",
          "text": [
            "Best score: 0.54508452586169\n",
            "Best parameters set:\n",
            "max_depth:17\n",
            "n_estimators:100\n"
          ],
          "name": "stdout"
        }
      ]
    },
    {
      "cell_type": "markdown",
      "metadata": {
        "id": "-daoY-3UBL2F",
        "colab_type": "text"
      },
      "source": [
        "#### 3.2.3 Elastic Net Regression (combo of L1 and L2) (optional)"
      ]
    },
    {
      "cell_type": "code",
      "metadata": {
        "id": "RR4ZI5teBKzK",
        "colab_type": "code",
        "colab": {
          "base_uri": "https://localhost:8080/",
          "height": 68
        },
        "outputId": "af798466-ab3c-4858-cf8a-f858d527054f"
      },
      "source": [
        "from sklearn.linear_model import ElasticNet\n",
        "elastic_net=ElasticNet(alpha=1,l1_ratio=0.5).fit(X_train,y_train)\n",
        "get_cv_score(elastic_net)"
      ],
      "execution_count": 46,
      "outputs": [
        {
          "output_type": "stream",
          "text": [
            "[0.29806187 0.3111505  0.16644269 0.2711252  0.37631474]\n",
            "CV Mean is 0.2846189991180209\n",
            "STD is 0.068469648000542\n"
          ],
          "name": "stdout"
        }
      ]
    },
    {
      "cell_type": "code",
      "metadata": {
        "id": "CxaD6y9pCRez",
        "colab_type": "code",
        "colab": {
          "base_uri": "https://localhost:8080/",
          "height": 833
        },
        "outputId": "386eb5ba-275b-4e81-e7c5-d742dcbd2e64"
      },
      "source": [
        "alpha=np.logspace (-10, 3.2, num=15)\n",
        "l1_ratio=[0,0.1,0.2,0.3,0.4,0.5,0.6,0.7,0.8,0.9,1]\n",
        "parameters=dict(alpha=alpha,l1_ratio=l1_ratio)\n",
        "grid=GridSearchCV(estimator=elastic_net,param_grid=parameters,scoring='r2',verbose=1,n_jobs=-1,refit=True)\n",
        "grid_result=grid.fit(X_train,y_train)\n",
        "scores=grid_result.cv_results_['mean_test_score']\n"
      ],
      "execution_count": 48,
      "outputs": [
        {
          "output_type": "stream",
          "text": [
            "Fitting 5 folds for each of 165 candidates, totalling 825 fits\n"
          ],
          "name": "stdout"
        },
        {
          "output_type": "stream",
          "text": [
            "[Parallel(n_jobs=-1)]: Using backend LokyBackend with 2 concurrent workers.\n",
            "[Parallel(n_jobs=-1)]: Done  46 tasks      | elapsed:    8.4s\n",
            "[Parallel(n_jobs=-1)]: Done 196 tasks      | elapsed:   31.6s\n",
            "[Parallel(n_jobs=-1)]: Done 446 tasks      | elapsed:  1.1min\n",
            "[Parallel(n_jobs=-1)]: Done 825 out of 825 | elapsed:  1.4min finished\n"
          ],
          "name": "stderr"
        },
        {
          "output_type": "execute_result",
          "data": {
            "text/plain": [
              "array([ 2.72634254e-01,  2.72634254e-01,  2.72634254e-01,  2.72634254e-01,\n",
              "        2.72634254e-01,  2.72634254e-01,  2.72634254e-01,  2.72634254e-01,\n",
              "        2.72634254e-01,  2.72634254e-01,  2.72634254e-01,  2.72634256e-01,\n",
              "        2.72634256e-01,  2.72634255e-01,  2.72634255e-01,  2.72634255e-01,\n",
              "        2.72634255e-01,  2.72634255e-01,  2.72634254e-01,  2.72634254e-01,\n",
              "        2.72634254e-01,  2.72634254e-01,  2.72634271e-01,  2.72634269e-01,\n",
              "        2.72634268e-01,  2.72634266e-01,  2.72634264e-01,  2.72634263e-01,\n",
              "        2.72634261e-01,  2.72634259e-01,  2.72634257e-01,  2.72634256e-01,\n",
              "        2.72634254e-01,  2.72634406e-01,  2.72634391e-01,  2.72634375e-01,\n",
              "        2.72634360e-01,  2.72634345e-01,  2.72634330e-01,  2.72634315e-01,\n",
              "        2.72634300e-01,  2.72634284e-01,  2.72634269e-01,  2.72634254e-01,\n",
              "        2.72635582e-01,  2.72635450e-01,  2.72635317e-01,  2.72635185e-01,\n",
              "        2.72635052e-01,  2.72634919e-01,  2.72634786e-01,  2.72634654e-01,\n",
              "        2.72634521e-01,  2.72634388e-01,  2.72634254e-01,  2.72645671e-01,\n",
              "        2.72644552e-01,  2.72643428e-01,  2.72642300e-01,  2.72641166e-01,\n",
              "        2.72640028e-01,  2.72638885e-01,  2.72637736e-01,  2.72636582e-01,\n",
              "        2.72635423e-01,  2.72634258e-01,  2.72722760e-01,  2.72714736e-01,\n",
              "        2.72706590e-01,  2.72698305e-01,  2.72689862e-01,  2.72681237e-01,\n",
              "        2.72672405e-01,  2.72663334e-01,  2.72653989e-01,  2.72644324e-01,\n",
              "        2.72634292e-01,  2.73252650e-01,  2.73197290e-01,  2.73141058e-01,\n",
              "        2.73083889e-01,  2.73025733e-01,  2.72966516e-01,  2.72906140e-01,\n",
              "        2.72844405e-01,  2.72780716e-01,  2.72713115e-01,  2.72634591e-01,\n",
              "        2.76417010e-01,  2.76123146e-01,  2.75818216e-01,  2.75501002e-01,\n",
              "        2.75169884e-01,  2.74822793e-01,  2.74456834e-01,  2.74067725e-01,\n",
              "        2.73648544e-01,  2.73186538e-01,  2.72637174e-01,  2.87561997e-01,\n",
              "        2.86838277e-01,  2.86037622e-01,  2.85146261e-01,  2.84146218e-01,\n",
              "        2.83012953e-01,  2.81711954e-01,  2.80191101e-01,  2.78365230e-01,\n",
              "        2.76065721e-01,  2.72659047e-01,  2.94116514e-01,  2.94802592e-01,\n",
              "        2.95340172e-01,  2.95693798e-01,  2.95814187e-01,  2.95624060e-01,\n",
              "        2.95004554e-01,  2.93734150e-01,  2.91356942e-01,  2.86679617e-01,\n",
              "        2.72843774e-01,  1.97909213e-01,  2.06658245e-01,  2.16099424e-01,\n",
              "        2.26279857e-01,  2.37228108e-01,  2.48928705e-01,  2.61261476e-01,\n",
              "        2.73886283e-01,  2.85904516e-01,  2.94720763e-01,  2.74230310e-01,\n",
              "        4.26927066e-02,  4.70149760e-02,  5.22585238e-02,  5.87522764e-02,\n",
              "        6.70021101e-02,  7.78280068e-02,  9.26456302e-02,  1.14125506e-01,\n",
              "        1.47846291e-01,  2.07333290e-01,  2.78931231e-01,  3.15779736e-03,\n",
              "        3.73284587e-03,  4.44946157e-03,  5.36719882e-03,  6.58491857e-03,\n",
              "        8.27664460e-03,  1.07849556e-02,  1.48870274e-02,  2.28060519e-02,\n",
              "        4.44901145e-02,  2.78627667e-01, -1.95433603e-03, -1.93583170e-03,\n",
              "       -1.90930877e-03, -1.87218052e-03, -1.81960025e-03, -1.74430528e-03,\n",
              "       -1.62700322e-03, -1.42018122e-03, -1.00230957e-03,  2.62245187e-04,\n",
              "        1.89279405e-01])"
            ]
          },
          "metadata": {
            "tags": []
          },
          "execution_count": 48
        }
      ]
    },
    {
      "cell_type": "code",
      "metadata": {
        "id": "QMZIWmdwiw1S",
        "colab_type": "code",
        "colab": {
          "base_uri": "https://localhost:8080/",
          "height": 280
        },
        "outputId": "664a1861-a68b-497b-992f-7bbba57a8aec"
      },
      "source": [
        "scores=scores.reshape(len(l1_ratio),len(alpha))\n",
        "plt.figure(1)\n",
        "plt.subplot(1,1,1)\n",
        "for i,j in enumerate(l1_ratio):\n",
        "  plt.plot(alpha,scores[i],'-o',label='l1_ratio is: '+str(j))\n",
        "plt.legend(bbox_to_anchor=(1.05, 1), loc='upper left', borderaxespad=0.)\n",
        "plt.xlabel('mean_test_score')\n",
        "plt.ylabel('alpha')\n",
        "plt.show()"
      ],
      "execution_count": 53,
      "outputs": [
        {
          "output_type": "display_data",
          "data": {
            "image/png": "[encoded data removed]",
            "text/plain": [
              "<Figure size 432x288 with 1 Axes>"
            ]
          },
          "metadata": {
            "tags": [],
            "needs_background": "light"
          }
        }
      ]
    },
    {
      "cell_type": "code",
      "metadata": {
        "id": "HCZBRiKBCqow",
        "colab_type": "code",
        "colab": {
          "base_uri": "https://localhost:8080/",
          "height": 85
        },
        "outputId": "00a7e1e3-420e-4af3-fc6e-8edd9823f045"
      },
      "source": [
        "print_grid_search_metrics(grid)"
      ],
      "execution_count": 54,
      "outputs": [
        {
          "output_type": "stream",
          "text": [
            "Best score: 0.29581418667153364\n",
            "Best parameters set:\n",
            "alpha:0.26826957952797276\n",
            "l1_ratio:0.4\n"
          ],
          "name": "stdout"
        }
      ]
    },
    {
      "cell_type": "code",
      "metadata": {
        "id": "eHEZVG4hkY37",
        "colab_type": "code",
        "colab": {}
      },
      "source": [
        ""
      ],
      "execution_count": null,
      "outputs": []
    },
    {
      "cell_type": "markdown",
      "metadata": {
        "id": "pMwsu3VZsWBy",
        "colab_type": "text"
      },
      "source": [
        ""
      ]
    },
    {
      "cell_type": "markdown",
      "metadata": {
        "id": "sl3VpqnhsaSR",
        "colab_type": "text"
      },
      "source": [
        "## Part 4. Model Evaluation"
      ]
    },
    {
      "cell_type": "markdown",
      "metadata": {
        "id": "Gk4nBsbGsk5y",
        "colab_type": "text"
      },
      "source": [
        "### Part 4.1 Evaluate all models"
      ]
    },
    {
      "cell_type": "code",
      "metadata": {
        "id": "BNrLKxb4sg5f",
        "colab_type": "code",
        "colab": {
          "base_uri": "https://localhost:8080/",
          "height": 170
        },
        "outputId": "b6618b51-3a26-41d2-8fab-37c6f625a38a"
      },
      "source": [
        "from sklearn.metrics import  mean_squared_error\n",
        "def compare_models(model_list):\n",
        "  score_lst=[]\n",
        "  mse_lst=[]\n",
        "  rmse_lst=[]\n",
        "  for key,item in model_list.items():\n",
        "    y_pred=item.predict(X_test)\n",
        "    score=item.score(X_test,y_test)\n",
        "    mse=mean_squared_error(y_test,y_pred)\n",
        "    rmse=np.sqrt(mse)\n",
        "    score_lst.append(score)\n",
        "    mse_lst.append(mse)\n",
        "    rmse_lst.append(rmse)\n",
        "    print('Score of {}: {}'.format(key,score))\n",
        "    print('Mean square error of {}: {}'.format(key,mse))\n",
        "    print('Root mean square error of {}: {}'.format(key,rmse))\n",
        "  return score_lst,mse_lst,rmse_lst\n",
        "\n",
        "model_list={'lasso':lasso_best,'ridge':ridge_best,'random forest':rf_best}\n",
        "score_lst,mse_lst,rmse_lst=compare_models(model_list)\n"
      ],
      "execution_count": 108,
      "outputs": [
        {
          "output_type": "stream",
          "text": [
            "Score of lasso: 0.20426242805849348\n",
            "Mean square error of lasso: 191196276.41312432\n",
            "Root mean square error of lasso: 13827.374169130027\n",
            "Score of ridge: 0.19496120416739038\n",
            "Mean square error of ridge: 193431133.02511603\n",
            "Root mean square error of ridge: 13907.95215066244\n",
            "Score of random forest: 0.5376041233556554\n",
            "Mean square error of random forest: 111102419.89387909\n",
            "Root mean square error of random forest: 10540.51326520104\n"
          ],
          "name": "stdout"
        }
      ]
    },
    {
      "cell_type": "code",
      "metadata": {
        "id": "XXKZrkX21hC6",
        "colab_type": "code",
        "colab": {
          "base_uri": "https://localhost:8080/",
          "height": 831
        },
        "outputId": "7c66a7de-1fb5-4d31-d26b-a2e1972d30a7"
      },
      "source": [
        "modes=list(model_list.keys())\n",
        "\n",
        "plt.plot(modes, score_lst, 'ro')\n",
        "plt.legend(['r-squre / score'],bbox_to_anchor=(1.05, 1), loc='upper left', borderaxespad=0.)\n",
        "plt.xlabel('model names',fontsize =16)\n",
        "plt.ylabel('score / r square', fontsize =16)\n",
        "plt.grid(True)\n",
        "plt.show()\n",
        "\n",
        "\n",
        "plt.plot(modes, mse_lst, 'g^')\n",
        "plt.legend(['mean square error (MSE)'],bbox_to_anchor=(1.05, 1), loc='upper left', borderaxespad=0.)\n",
        "plt.xlabel('model names', fontsize =16)\n",
        "plt.ylabel('mean square error', fontsize =16)\n",
        "plt.grid(True)\n",
        "plt.show()\n",
        "\n",
        "plt.plot(modes, rmse_lst, 'bs')\n",
        "plt.legend(['root mean square error (RMSE)'],bbox_to_anchor=(1.05, 1), loc='upper left', borderaxespad=0.)\n",
        "plt.xlabel('model names', fontsize =16)\n",
        "plt.ylabel('root mean square error', fontsize =16)\n",
        "plt.grid(True)\n",
        "plt.show()\n"
      ],
      "execution_count": 119,
      "outputs": [
        {
          "output_type": "display_data",
          "data": {
            "image/png": "[encoded data removed]",
            "text/plain": [
              "<Figure size 432x288 with 1 Axes>"
            ]
          },
          "metadata": {
            "tags": [],
            "needs_background": "light"
          }
        },
        {
          "output_type": "display_data",
          "data": {
            "image/png": "[encoded data removed]",
            "text/plain": [
              "<Figure size 432x288 with 1 Axes>"
            ]
          },
          "metadata": {
            "tags": [],
            "needs_background": "light"
          }
        },
        {
          "output_type": "display_data",
          "data": {
            "image/png": "[encoded data removed]",
            "text/plain": [
              "<Figure size 432x288 with 1 Axes>"
            ]
          },
          "metadata": {
            "tags": [],
            "needs_background": "light"
          }
        }
      ]
    },
    {
      "cell_type": "markdown",
      "metadata": {
        "id": "D4w1ppaN5Xu_",
        "colab_type": "text"
      },
      "source": [
        "**Comparison Result:** Random forest performs much better than the other two linear models"
      ]
    },
    {
      "cell_type": "markdown",
      "metadata": {
        "id": "82z4JB3V5n43",
        "colab_type": "text"
      },
      "source": [
        "### Part 4.2 Feature importance"
      ]
    },
    {
      "cell_type": "code",
      "metadata": {
        "id": "nDRHkeR25iM9",
        "colab_type": "code",
        "colab": {
          "base_uri": "https://localhost:8080/",
          "height": 407
        },
        "outputId": "48d12254-de40-4cba-d7f9-ee3d25d67cd4"
      },
      "source": [
        "importances = rf_best.feature_importances_\n",
        "feature_name = X_train.columns.values\n",
        "#get the index after sorting importances descending\n",
        "indices = np.argsort(importances)[::-1]\n",
        "plt.figure(1)\n",
        "#only show first 20 important feature\n",
        "plt.bar(feature_name[indices[:20]], importances[indices[:20]])\n",
        "plt.xticks(rotation=90)\n",
        "plt.show()"
      ],
      "execution_count": 120,
      "outputs": [
        {
          "output_type": "display_data",
          "data": {
            "image/png": "[encoded data removed]",
            "text/plain": [
              "<Figure size 432x288 with 1 Axes>"
            ]
          },
          "metadata": {
            "tags": [],
            "needs_background": "light"
          }
        }
      ]
    }
  ]
}