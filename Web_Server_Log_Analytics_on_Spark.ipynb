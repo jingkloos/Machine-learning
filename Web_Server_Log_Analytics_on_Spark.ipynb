{
  "nbformat": 4,
  "nbformat_minor": 0,
  "metadata": {
    "colab": {
      "name": "Web Server Log Analytics on Spark.ipynb",
      "provenance": [],
      "toc_visible": true,
      "include_colab_link": true
    },
    "kernelspec": {
      "name": "python3",
      "display_name": "Python 3"
    }
  },
  "cells": [
    {
      "cell_type": "markdown",
      "metadata": {
        "id": "view-in-github",
        "colab_type": "text"
      },
      "source": [
        "<a href=\"https://colab.research.google.com/github/jingkloos/Machine-learning/blob/master/Web_Server_Log_Analytics_on_Spark.ipynb\" target=\"_parent\"><img src=\"https://colab.research.google.com/assets/colab-badge.svg\" alt=\"Open In Colab\"/></a>"
      ]
    },
    {
      "cell_type": "markdown",
      "metadata": {
        "id": "sBD0yaToa1H8",
        "colab_type": "text"
      },
      "source": [
        "### Spark Setup "
      ]
    },
    {
      "cell_type": "code",
      "metadata": {
        "id": "NWZILV2Vpht9",
        "colab_type": "code",
        "colab": {
          "base_uri": "https://localhost:8080/",
          "height": 136
        },
        "outputId": "598b791e-427b-4f9d-997c-8a456a2ca97e"
      },
      "source": [
        "# Set up Spark\n",
        "!apt-get install openjdk-8-jdk-headless -qq > /dev/null\n",
        "!wget -q http://apache.mirrors.hoobly.com/spark/spark-3.0.0/spark-3.0.0-bin-hadoop2.7.tgz\n",
        "!tar xf spark-3.0.0-bin-hadoop2.7.tgz\n",
        "!pip install -q findspark\n",
        "!pip install py4j\n",
        "\n",
        "!export JAVA_HOME=$(/usr/lib/jvm/java-8-openjdk-amd64 -v 1.8)\n",
        "! echo $JAVA_HOME\n",
        "import os\n",
        "os.environ[\"JAVA_HOME\"] = \"/usr/lib/jvm/java-8-openjdk-amd64\"\n",
        "os.environ[\"SPARK_HOME\"] = \"/content/spark-3.0.0-bin-hadoop2.7\"\n",
        "import findspark\n",
        "findspark.init(\"spark-3.0.0-bin-hadoop2.7\")# SPARK_HOME\n",
        "\n",
        "from pyspark.sql import SparkSession\n",
        "spark = SparkSession.builder.master(\"local[*]\").getOrCreate()"
      ],
      "execution_count": null,
      "outputs": [
        {
          "output_type": "stream",
          "text": [
            "Collecting py4j\n",
            "\u001b[?25l  Downloading https://files.pythonhosted.org/packages/9e/b6/6a4fb90cd235dc8e265a6a2067f2a2c99f0d91787f06aca4bcf7c23f3f80/py4j-0.10.9-py2.py3-none-any.whl (198kB)\n",
            "\u001b[K     |████████████████████████████████| 204kB 2.8MB/s \n",
            "\u001b[?25hInstalling collected packages: py4j\n",
            "Successfully installed py4j-0.10.9\n",
            "/bin/bash: /usr/lib/jvm/java-8-openjdk-amd64: Is a directory\n",
            "\n"
          ],
          "name": "stdout"
        }
      ]
    },
    {
      "cell_type": "code",
      "metadata": {
        "id": "jKTeRLPiqx_W",
        "colab_type": "code",
        "colab": {
          "base_uri": "https://localhost:8080/",
          "height": 34
        },
        "outputId": "29cab333-70f4-403d-d329-477f30ff091d"
      },
      "source": [
        "!ls"
      ],
      "execution_count": null,
      "outputs": [
        {
          "output_type": "stream",
          "text": [
            "sample_data  spark-3.0.0-bin-hadoop2.7\tspark-3.0.0-bin-hadoop2.7.tgz\n"
          ],
          "name": "stdout"
        }
      ]
    },
    {
      "cell_type": "code",
      "metadata": {
        "id": "EYh_tv1ErseU",
        "colab_type": "code",
        "colab": {
          "base_uri": "https://localhost:8080/",
          "height": 35
        },
        "outputId": "adebe570-6f0b-46e9-9911-11a812bbe6b9"
      },
      "source": [
        "spark.version"
      ],
      "execution_count": null,
      "outputs": [
        {
          "output_type": "execute_result",
          "data": {
            "application/vnd.google.colaboratory.intrinsic": {
              "type": "string"
            },
            "text/plain": [
              "'3.0.0'"
            ]
          },
          "metadata": {
            "tags": []
          },
          "execution_count": 3
        }
      ]
    },
    {
      "cell_type": "code",
      "metadata": {
        "id": "zpE_Xzk6NelF",
        "colab_type": "code",
        "colab": {
          "base_uri": "https://localhost:8080/",
          "height": 216
        },
        "outputId": "2cdaebe1-0ace-4357-e94e-da50d72e94d3"
      },
      "source": [
        "spark"
      ],
      "execution_count": null,
      "outputs": [
        {
          "output_type": "execute_result",
          "data": {
            "text/html": [
              "\n",
              "            <div>\n",
              "                <p><b>SparkSession - in-memory</b></p>\n",
              "                \n",
              "        <div>\n",
              "            <p><b>SparkContext</b></p>\n",
              "\n",
              "            <p><a href=\"http://35392116ae49:4040\">Spark UI</a></p>\n",
              "\n",
              "            <dl>\n",
              "              <dt>Version</dt>\n",
              "                <dd><code>v3.0.0</code></dd>\n",
              "              <dt>Master</dt>\n",
              "                <dd><code>local[*]</code></dd>\n",
              "              <dt>AppName</dt>\n",
              "                <dd><code>pyspark-shell</code></dd>\n",
              "            </dl>\n",
              "        </div>\n",
              "        \n",
              "            </div>\n",
              "        "
            ],
            "text/plain": [
              "<pyspark.sql.session.SparkSession at 0x7efeb5e32dd8>"
            ]
          },
          "metadata": {
            "tags": []
          },
          "execution_count": 4
        }
      ]
    },
    {
      "cell_type": "markdown",
      "metadata": {
        "id": "9z018EplYlaR",
        "colab_type": "text"
      },
      "source": [
        "**Download Data from NASA website**"
      ]
    },
    {
      "cell_type": "code",
      "metadata": {
        "id": "fUtxqSsvOZFK",
        "colab_type": "code",
        "colab": {}
      },
      "source": [
        "from pyspark.context import SparkContext\n",
        "from pyspark.sql.context import SQLContext\n",
        "from pyspark.sql.session import SparkSession\n",
        "import re\n",
        "import pandas as pd\n"
      ],
      "execution_count": null,
      "outputs": []
    },
    {
      "cell_type": "code",
      "metadata": {
        "id": "eQTwWYb9TM-v",
        "colab_type": "code",
        "colab": {}
      },
      "source": [
        "!wget -q ftp://ita.ee.lbl.gov/traces/NASA_access_log_Jul95.gz\n",
        "!wget -q ftp://ita.ee.lbl.gov/traces/NASA_access_log_Aug95.gz"
      ],
      "execution_count": null,
      "outputs": []
    },
    {
      "cell_type": "code",
      "metadata": {
        "id": "N7L2RDSjTtzV",
        "colab_type": "code",
        "colab": {
          "base_uri": "https://localhost:8080/",
          "height": 34
        },
        "outputId": "d31ce169-2a04-4d2f-ed2e-d1d7b211e428"
      },
      "source": [
        "import glob\n",
        "#return a list of paths\n",
        "raw_data_files =glob.glob('*.gz')\n",
        "raw_data_files"
      ],
      "execution_count": null,
      "outputs": [
        {
          "output_type": "execute_result",
          "data": {
            "text/plain": [
              "['NASA_access_log_Jul95.gz', 'NASA_access_log_Aug95.gz']"
            ]
          },
          "metadata": {
            "tags": []
          },
          "execution_count": 4
        }
      ]
    },
    {
      "cell_type": "code",
      "metadata": {
        "id": "GeQvMl8YUF89",
        "colab_type": "code",
        "colab": {
          "base_uri": "https://localhost:8080/",
          "height": 68
        },
        "outputId": "1a231d28-6642-4110-9f3a-c2f8dc02bf88"
      },
      "source": [
        "base_df=spark.read.text(raw_data_files)\n",
        "base_df.printSchema()"
      ],
      "execution_count": null,
      "outputs": [
        {
          "output_type": "stream",
          "text": [
            "root\n",
            " |-- value: string (nullable = true)\n",
            "\n"
          ],
          "name": "stdout"
        }
      ]
    },
    {
      "cell_type": "code",
      "metadata": {
        "id": "rLo4vP_6UV19",
        "colab_type": "code",
        "colab": {
          "base_uri": "https://localhost:8080/",
          "height": 289
        },
        "outputId": "9da7ab83-ec1d-4814-a69f-9a84a6f5e7f2"
      },
      "source": [
        "base_df.show(10,truncate=False)"
      ],
      "execution_count": null,
      "outputs": [
        {
          "output_type": "stream",
          "text": [
            "+-----------------------------------------------------------------------------------------------------------------------+\n",
            "|value                                                                                                                  |\n",
            "+-----------------------------------------------------------------------------------------------------------------------+\n",
            "|199.72.81.55 - - [01/Jul/1995:00:00:01 -0400] \"GET /history/apollo/ HTTP/1.0\" 200 6245                                 |\n",
            "|unicomp6.unicomp.net - - [01/Jul/1995:00:00:06 -0400] \"GET /shuttle/countdown/ HTTP/1.0\" 200 3985                      |\n",
            "|199.120.110.21 - - [01/Jul/1995:00:00:09 -0400] \"GET /shuttle/missions/sts-73/mission-sts-73.html HTTP/1.0\" 200 4085   |\n",
            "|burger.letters.com - - [01/Jul/1995:00:00:11 -0400] \"GET /shuttle/countdown/liftoff.html HTTP/1.0\" 304 0               |\n",
            "|199.120.110.21 - - [01/Jul/1995:00:00:11 -0400] \"GET /shuttle/missions/sts-73/sts-73-patch-small.gif HTTP/1.0\" 200 4179|\n",
            "|burger.letters.com - - [01/Jul/1995:00:00:12 -0400] \"GET /images/NASA-logosmall.gif HTTP/1.0\" 304 0                    |\n",
            "|burger.letters.com - - [01/Jul/1995:00:00:12 -0400] \"GET /shuttle/countdown/video/livevideo.gif HTTP/1.0\" 200 0        |\n",
            "|205.212.115.106 - - [01/Jul/1995:00:00:12 -0400] \"GET /shuttle/countdown/countdown.html HTTP/1.0\" 200 3985             |\n",
            "|d104.aa.net - - [01/Jul/1995:00:00:13 -0400] \"GET /shuttle/countdown/ HTTP/1.0\" 200 3985                               |\n",
            "|129.94.144.152 - - [01/Jul/1995:00:00:13 -0400] \"GET / HTTP/1.0\" 200 7074                                              |\n",
            "+-----------------------------------------------------------------------------------------------------------------------+\n",
            "only showing top 10 rows\n",
            "\n"
          ],
          "name": "stdout"
        }
      ]
    },
    {
      "cell_type": "code",
      "metadata": {
        "id": "w2zT1vMKWSHr",
        "colab_type": "code",
        "colab": {
          "base_uri": "https://localhost:8080/",
          "height": 34
        },
        "outputId": "e1872775-1967-478e-e686-c2e6e80663a3"
      },
      "source": [
        "print(base_df.count(),base_df.columns)"
      ],
      "execution_count": null,
      "outputs": [
        {
          "output_type": "stream",
          "text": [
            "3461613 ['value']\n"
          ],
          "name": "stdout"
        }
      ]
    },
    {
      "cell_type": "markdown",
      "metadata": {
        "id": "miLcwkjsYssr",
        "colab_type": "text"
      },
      "source": [
        "**Create patterns and test them with sample data**"
      ]
    },
    {
      "cell_type": "code",
      "metadata": {
        "id": "AoiGrdpOWZrb",
        "colab_type": "code",
        "colab": {
          "base_uri": "https://localhost:8080/",
          "height": 272
        },
        "outputId": "d5a0de39-bb82-4a0b-a629-d3990d234ee6"
      },
      "source": [
        "sample_logs=[item['value'] for item in base_df.take(15)]\n",
        "sample_logs"
      ],
      "execution_count": null,
      "outputs": [
        {
          "output_type": "execute_result",
          "data": {
            "text/plain": [
              "['199.72.81.55 - - [01/Jul/1995:00:00:01 -0400] \"GET /history/apollo/ HTTP/1.0\" 200 6245',\n",
              " 'unicomp6.unicomp.net - - [01/Jul/1995:00:00:06 -0400] \"GET /shuttle/countdown/ HTTP/1.0\" 200 3985',\n",
              " '199.120.110.21 - - [01/Jul/1995:00:00:09 -0400] \"GET /shuttle/missions/sts-73/mission-sts-73.html HTTP/1.0\" 200 4085',\n",
              " 'burger.letters.com - - [01/Jul/1995:00:00:11 -0400] \"GET /shuttle/countdown/liftoff.html HTTP/1.0\" 304 0',\n",
              " '199.120.110.21 - - [01/Jul/1995:00:00:11 -0400] \"GET /shuttle/missions/sts-73/sts-73-patch-small.gif HTTP/1.0\" 200 4179',\n",
              " 'burger.letters.com - - [01/Jul/1995:00:00:12 -0400] \"GET /images/NASA-logosmall.gif HTTP/1.0\" 304 0',\n",
              " 'burger.letters.com - - [01/Jul/1995:00:00:12 -0400] \"GET /shuttle/countdown/video/livevideo.gif HTTP/1.0\" 200 0',\n",
              " '205.212.115.106 - - [01/Jul/1995:00:00:12 -0400] \"GET /shuttle/countdown/countdown.html HTTP/1.0\" 200 3985',\n",
              " 'd104.aa.net - - [01/Jul/1995:00:00:13 -0400] \"GET /shuttle/countdown/ HTTP/1.0\" 200 3985',\n",
              " '129.94.144.152 - - [01/Jul/1995:00:00:13 -0400] \"GET / HTTP/1.0\" 200 7074',\n",
              " 'unicomp6.unicomp.net - - [01/Jul/1995:00:00:14 -0400] \"GET /shuttle/countdown/count.gif HTTP/1.0\" 200 40310',\n",
              " 'unicomp6.unicomp.net - - [01/Jul/1995:00:00:14 -0400] \"GET /images/NASA-logosmall.gif HTTP/1.0\" 200 786',\n",
              " 'unicomp6.unicomp.net - - [01/Jul/1995:00:00:14 -0400] \"GET /images/KSC-logosmall.gif HTTP/1.0\" 200 1204',\n",
              " 'd104.aa.net - - [01/Jul/1995:00:00:15 -0400] \"GET /shuttle/countdown/count.gif HTTP/1.0\" 200 40310',\n",
              " 'd104.aa.net - - [01/Jul/1995:00:00:15 -0400] \"GET /images/NASA-logosmall.gif HTTP/1.0\" 200 786']"
            ]
          },
          "metadata": {
            "tags": []
          },
          "execution_count": 8
        }
      ]
    },
    {
      "cell_type": "code",
      "metadata": {
        "id": "vSk1iq-uXmDY",
        "colab_type": "code",
        "colab": {
          "base_uri": "https://localhost:8080/",
          "height": 272
        },
        "outputId": "bc50589a-f7e3-4f1f-9b44-03642885cfc7"
      },
      "source": [
        "host_pattern=r'(^\\S+\\.[\\S+\\.]+\\S+)\\s'\n",
        "hosts=[re.search(host_pattern,item).group(1) for item in sample_logs]\n",
        "hosts"
      ],
      "execution_count": null,
      "outputs": [
        {
          "output_type": "execute_result",
          "data": {
            "text/plain": [
              "['199.72.81.55',\n",
              " 'unicomp6.unicomp.net',\n",
              " '199.120.110.21',\n",
              " 'burger.letters.com',\n",
              " '199.120.110.21',\n",
              " 'burger.letters.com',\n",
              " 'burger.letters.com',\n",
              " '205.212.115.106',\n",
              " 'd104.aa.net',\n",
              " '129.94.144.152',\n",
              " 'unicomp6.unicomp.net',\n",
              " 'unicomp6.unicomp.net',\n",
              " 'unicomp6.unicomp.net',\n",
              " 'd104.aa.net',\n",
              " 'd104.aa.net']"
            ]
          },
          "metadata": {
            "tags": []
          },
          "execution_count": 27
        }
      ]
    },
    {
      "cell_type": "code",
      "metadata": {
        "id": "w53rz5dEZLTc",
        "colab_type": "code",
        "colab": {}
      },
      "source": [
        "ts_pattern=r'\\[(\\d{2}/\\w{3}/\\d{4}(:\\d{2}){3} -\\d{4})\\]'\n",
        "timestamps=[re.search(ts_pattern,item).group(1) for item in sample_logs]\n"
      ],
      "execution_count": null,
      "outputs": []
    },
    {
      "cell_type": "code",
      "metadata": {
        "id": "SFIqz-iTa_rB",
        "colab_type": "code",
        "colab": {
          "base_uri": "https://localhost:8080/",
          "height": 272
        },
        "outputId": "9d59337c-dcb5-4b5d-cf29-aff8f44c4cf4"
      },
      "source": [
        "request_pattern=r'\\\"(\\S+)\\s(\\S+)\\s*(\\S*)\\\"'\n",
        "requests=[re.search(request_pattern,item).group(0) for item in sample_logs]\n",
        "requests"
      ],
      "execution_count": null,
      "outputs": [
        {
          "output_type": "execute_result",
          "data": {
            "text/plain": [
              "['\"GET /history/apollo/ HTTP/1.0\"',\n",
              " '\"GET /shuttle/countdown/ HTTP/1.0\"',\n",
              " '\"GET /shuttle/missions/sts-73/mission-sts-73.html HTTP/1.0\"',\n",
              " '\"GET /shuttle/countdown/liftoff.html HTTP/1.0\"',\n",
              " '\"GET /shuttle/missions/sts-73/sts-73-patch-small.gif HTTP/1.0\"',\n",
              " '\"GET /images/NASA-logosmall.gif HTTP/1.0\"',\n",
              " '\"GET /shuttle/countdown/video/livevideo.gif HTTP/1.0\"',\n",
              " '\"GET /shuttle/countdown/countdown.html HTTP/1.0\"',\n",
              " '\"GET /shuttle/countdown/ HTTP/1.0\"',\n",
              " '\"GET / HTTP/1.0\"',\n",
              " '\"GET /shuttle/countdown/count.gif HTTP/1.0\"',\n",
              " '\"GET /images/NASA-logosmall.gif HTTP/1.0\"',\n",
              " '\"GET /images/KSC-logosmall.gif HTTP/1.0\"',\n",
              " '\"GET /shuttle/countdown/count.gif HTTP/1.0\"',\n",
              " '\"GET /images/NASA-logosmall.gif HTTP/1.0\"']"
            ]
          },
          "metadata": {
            "tags": []
          },
          "execution_count": 29
        }
      ]
    },
    {
      "cell_type": "code",
      "metadata": {
        "id": "qn6GdAK9cb0Q",
        "colab_type": "code",
        "colab": {
          "base_uri": "https://localhost:8080/",
          "height": 34
        },
        "outputId": "ccf02961-0a3b-4569-a2a7-204f9177e190"
      },
      "source": [
        "status_pattern=r'\\s(\\d{3})\\s'\n",
        "status=[re.search(status_pattern,item).group(1) for item in sample_logs]\n",
        "print(status)"
      ],
      "execution_count": null,
      "outputs": [
        {
          "output_type": "stream",
          "text": [
            "['200', '200', '200', '304', '200', '304', '200', '200', '200', '200', '200', '200', '200', '200', '200']\n"
          ],
          "name": "stdout"
        }
      ]
    },
    {
      "cell_type": "code",
      "metadata": {
        "id": "3REvqjIyc7Ap",
        "colab_type": "code",
        "colab": {
          "base_uri": "https://localhost:8080/",
          "height": 272
        },
        "outputId": "25598640-d973-403e-b1b5-7afe6a61591e"
      },
      "source": [
        "content_size_pattern=r'\\s(\\d+)$'\n",
        "content_size=[re.search(content_size_pattern,item).group(1) for item in sample_logs]\n",
        "content_size"
      ],
      "execution_count": null,
      "outputs": [
        {
          "output_type": "execute_result",
          "data": {
            "text/plain": [
              "['6245',\n",
              " '3985',\n",
              " '4085',\n",
              " '0',\n",
              " '4179',\n",
              " '0',\n",
              " '0',\n",
              " '3985',\n",
              " '3985',\n",
              " '7074',\n",
              " '40310',\n",
              " '786',\n",
              " '1204',\n",
              " '40310',\n",
              " '786']"
            ]
          },
          "metadata": {
            "tags": []
          },
          "execution_count": 31
        }
      ]
    },
    {
      "cell_type": "markdown",
      "metadata": {
        "id": "gvkROuRpZTQY",
        "colab_type": "text"
      },
      "source": [
        "**Extract each part from the log**"
      ]
    },
    {
      "cell_type": "code",
      "metadata": {
        "id": "50P5ugF2dks_",
        "colab_type": "code",
        "colab": {
          "base_uri": "https://localhost:8080/",
          "height": 306
        },
        "outputId": "45e2d1f3-74c6-4d60-8153-9d6ee1ddaf90"
      },
      "source": [
        "from pyspark.sql.functions import regexp_extract\n",
        "logs_df=base_df.select(regexp_extract('value',host_pattern,1).alias('host'),\n",
        "                       regexp_extract('value',ts_pattern,1).alias('timestamp'),\n",
        "                       regexp_extract('value',request_pattern,1).alias('method'),\n",
        "                       regexp_extract('value',request_pattern,2).alias('url'),\n",
        "                       regexp_extract('value',request_pattern,3).alias('protocol'),\n",
        "                       regexp_extract('value',status_pattern,1).cast('integer').alias('status'),\n",
        "                       regexp_extract('value',content_size_pattern,1).cast('integer').alias('content_size'))\n",
        "logs_df.show(10,truncate=False)\n",
        "print(logs_df.count(),len(logs_df.columns))"
      ],
      "execution_count": null,
      "outputs": [
        {
          "output_type": "stream",
          "text": [
            "+--------------------+--------------------------+------+-----------------------------------------------+--------+------+------------+\n",
            "|host                |timestamp                 |method|url                                            |protocol|status|content_size|\n",
            "+--------------------+--------------------------+------+-----------------------------------------------+--------+------+------------+\n",
            "|199.72.81.55        |01/Jul/1995:00:00:01 -0400|GET   |/history/apollo/                               |HTTP/1.0|200   |6245        |\n",
            "|unicomp6.unicomp.net|01/Jul/1995:00:00:06 -0400|GET   |/shuttle/countdown/                            |HTTP/1.0|200   |3985        |\n",
            "|199.120.110.21      |01/Jul/1995:00:00:09 -0400|GET   |/shuttle/missions/sts-73/mission-sts-73.html   |HTTP/1.0|200   |4085        |\n",
            "|burger.letters.com  |01/Jul/1995:00:00:11 -0400|GET   |/shuttle/countdown/liftoff.html                |HTTP/1.0|304   |0           |\n",
            "|199.120.110.21      |01/Jul/1995:00:00:11 -0400|GET   |/shuttle/missions/sts-73/sts-73-patch-small.gif|HTTP/1.0|200   |4179        |\n",
            "|burger.letters.com  |01/Jul/1995:00:00:12 -0400|GET   |/images/NASA-logosmall.gif                     |HTTP/1.0|304   |0           |\n",
            "|burger.letters.com  |01/Jul/1995:00:00:12 -0400|GET   |/shuttle/countdown/video/livevideo.gif         |HTTP/1.0|200   |0           |\n",
            "|205.212.115.106     |01/Jul/1995:00:00:12 -0400|GET   |/shuttle/countdown/countdown.html              |HTTP/1.0|200   |3985        |\n",
            "|d104.aa.net         |01/Jul/1995:00:00:13 -0400|GET   |/shuttle/countdown/                            |HTTP/1.0|200   |3985        |\n",
            "|129.94.144.152      |01/Jul/1995:00:00:13 -0400|GET   |/                                              |HTTP/1.0|200   |7074        |\n",
            "+--------------------+--------------------------+------+-----------------------------------------------+--------+------+------------+\n",
            "only showing top 10 rows\n",
            "\n",
            "3461613 7\n"
          ],
          "name": "stdout"
        }
      ]
    },
    {
      "cell_type": "code",
      "metadata": {
        "id": "kuA2t8_SLglU",
        "colab_type": "code",
        "colab": {
          "base_uri": "https://localhost:8080/",
          "height": 34
        },
        "outputId": "414641e2-64bd-4f4a-9e24-f957fb0eabb2"
      },
      "source": [
        "logs_df.filter(logs_df['host'].isNull()|\n",
        "               logs_df['timestamp'].isNull()|\n",
        "               logs_df['method'].isNull()|\n",
        "               logs_df['url'].isNull()|\n",
        "               logs_df['protocol'].isNull()|\n",
        "               logs_df['status'].isNull()|\n",
        "               logs_df['content_size'].isNull()).count()"
      ],
      "execution_count": null,
      "outputs": [
        {
          "output_type": "execute_result",
          "data": {
            "text/plain": [
              "33905"
            ]
          },
          "metadata": {
            "tags": []
          },
          "execution_count": 93
        }
      ]
    },
    {
      "cell_type": "code",
      "metadata": {
        "id": "hGWWbH4gMW_e",
        "colab_type": "code",
        "colab": {
          "base_uri": "https://localhost:8080/",
          "height": 119
        },
        "outputId": "52d1b307-c5e9-4b66-f86c-c1de059e15fb"
      },
      "source": [
        "\n",
        "from pyspark.sql.functions import col,when\n",
        "from pyspark.sql.functions import sum as spark_sum\n",
        "from pyspark.sql.types import StringType\n",
        "\n",
        "#count null for each columns\n",
        "def count_null(col_name):\n",
        "  return spark_sum(col(col_name).isNull().cast('integer')).alias(col_name)\n",
        "'''replace empty string with null, we only care about nulls for integer columns so this is not needed \n",
        "def replace_blank(x):\n",
        "  return when(col(x)!='', col(x)).otherwise(None)\n",
        "to_convert= [f.name for f in logs_df.schema.fields if isinstance(f.dataType, StringType)]\n",
        "exprs2=[replace_blank(x).alias(x) if x in to_convert else col(x).alias(x) for x in logs_df.columns]\n",
        "logs_df=logs_df.select(*exprs2)'''\n",
        "\n",
        "exprs=[count_null(col_name) for col_name in logs_df.columns]\n",
        "\n",
        "logs_df.agg(*exprs).show()"
      ],
      "execution_count": null,
      "outputs": [
        {
          "output_type": "stream",
          "text": [
            "+----+---------+------+---+--------+------+------------+\n",
            "|host|timestamp|method|url|protocol|status|content_size|\n",
            "+----+---------+------+---+--------+------+------------+\n",
            "|   0|        0|     0|  0|       0|     1|       33905|\n",
            "+----+---------+------+---+--------+------+------------+\n",
            "\n"
          ],
          "name": "stdout"
        }
      ]
    },
    {
      "cell_type": "code",
      "metadata": {
        "id": "IiCgiUDM3JSV",
        "colab_type": "code",
        "colab": {
          "base_uri": "https://localhost:8080/",
          "height": 459
        },
        "outputId": "de340392-fb16-4126-c9bb-e85ad13bfb07"
      },
      "source": [
        "empty_host_df=base_df.filter(~base_df['value'].rlike(host_pattern))\n",
        "empty_host_df.show(truncate=False)\n"
      ],
      "execution_count": null,
      "outputs": [
        {
          "output_type": "stream",
          "text": [
            "+---------------------------------------------------------------------------------------------------------------------+\n",
            "|value                                                                                                                |\n",
            "+---------------------------------------------------------------------------------------------------------------------+\n",
            "|UNKNOWN_HOST - - [01/Jul/1995:04:11:55 -0400] \"GET /history/apollo/images/footprint-small.gif HTTP/1.0\" 200 0        |\n",
            "|titan - - [01/Jul/1995:13:09:26 -0400] \"GET /ksc.html HTTP/1.0\" 200 7074                                             |\n",
            "|titan - - [01/Jul/1995:13:09:35 -0400] \"GET /shuttle/missions/sts-71/mission-sts-71.html HTTP/1.0\" 200 12169         |\n",
            "|titan - - [01/Jul/1995:13:10:02 -0400] \"GET /shuttle/missions/sts-71/sts-71-day-05-highlights.html HTTP/1.0\" 200 3666|\n",
            "|simonbpc - - [02/Jul/1995:04:14:31 -0400] \"GET /ksc.html HTTP/1.0\" 200 7074                                          |\n",
            "|simonbpc - - [02/Jul/1995:04:14:35 -0400] \"GET /images/ksclogo-medium.gif HTTP/1.0\" 200 5866                         |\n",
            "|simonbpc - - [02/Jul/1995:04:14:42 -0400] \"GET /images/NASA-logosmall.gif HTTP/1.0\" 200 786                          |\n",
            "|simonbpc - - [02/Jul/1995:04:14:42 -0400] \"GET /images/MOSAIC-logosmall.gif HTTP/1.0\" 200 363                        |\n",
            "|simonbpc - - [02/Jul/1995:04:14:42 -0400] \"GET /images/USA-logosmall.gif HTTP/1.0\" 200 234                           |\n",
            "|simonbpc - - [02/Jul/1995:04:14:47 -0400] \"GET /images/WORLD-logosmall.gif HTTP/1.0\" 200 669                         |\n",
            "|simonbpc - - [02/Jul/1995:04:16:24 -0400] \"GET /facts/about_ksc.html HTTP/1.0\" 200 3977                              |\n",
            "|simonbpc - - [02/Jul/1995:04:16:28 -0400] \"GET /images/launchpalms-small.gif HTTP/1.0\" 200 11473                     |\n",
            "|simonbpc - - [02/Jul/1995:04:16:32 -0400] \"GET /images/KSC-logosmall.gif HTTP/1.0\" 200 1204                          |\n",
            "|simonbpc - - [02/Jul/1995:04:19:12 -0400] \"GET /facilities/lcc.html HTTP/1.0\" 200 2489                               |\n",
            "|simonbpc - - [02/Jul/1995:04:19:15 -0400] \"GET /images/ksclogosmall.gif HTTP/1.0\" 200 3635                           |\n",
            "|simonbpc - - [02/Jul/1995:04:19:15 -0400] \"GET /images/kscmap-tiny.gif HTTP/1.0\" 200 2537                            |\n",
            "|simonbpc - - [02/Jul/1995:04:19:23 -0400] \"GET /images/lcc-small2.gif HTTP/1.0\" 200 58026                            |\n",
            "|simonbpc - - [02/Jul/1995:04:20:29 -0400] \"GET /images/launchpalms.gif HTTP/1.0\" 200 149114                          |\n",
            "|titan - - [02/Jul/1995:13:02:14 -0400] \"GET /ksc.html HTTP/1.0\" 200 7074                                             |\n",
            "|titan - - [02/Jul/1995:13:02:24 -0400] \"GET /shuttle/missions/sts-71/mission-sts-71.html HTTP/1.0\" 200 12290         |\n",
            "+---------------------------------------------------------------------------------------------------------------------+\n",
            "only showing top 20 rows\n",
            "\n"
          ],
          "name": "stdout"
        }
      ]
    },
    {
      "cell_type": "code",
      "metadata": {
        "id": "XwWQFxMwootN",
        "colab_type": "code",
        "colab": {
          "base_uri": "https://localhost:8080/",
          "height": 221
        },
        "outputId": "7b0265a8-e90e-452d-de91-152ef32b712f"
      },
      "source": [
        "#find the raw value for null sataus to see if our status pattern is not correct\n",
        "null_status_df=base_df.filter(~base_df['value'].rlike(status_pattern))\n",
        "null_status_df.show(truncate=False)\n",
        "bad_df=logs_df.filter(logs_df['status'].isNull())\n",
        "bad_df.show()"
      ],
      "execution_count": null,
      "outputs": [
        {
          "output_type": "stream",
          "text": [
            "+--------+\n",
            "|value   |\n",
            "+--------+\n",
            "|alyssa.p|\n",
            "+--------+\n",
            "\n",
            "+----+---------+------+---+--------+------+------------+\n",
            "|host|timestamp|method|url|protocol|status|content_size|\n",
            "+----+---------+------+---+--------+------+------------+\n",
            "|    |         |      |   |        |  null|        null|\n",
            "+----+---------+------+---+--------+------+------------+\n",
            "\n"
          ],
          "name": "stdout"
        }
      ]
    },
    {
      "cell_type": "code",
      "metadata": {
        "id": "RQlcMq96kdbf",
        "colab_type": "code",
        "colab": {
          "base_uri": "https://localhost:8080/",
          "height": 34
        },
        "outputId": "1f069e98-5804-4661-b30c-0814f2d1758b"
      },
      "source": [
        "#this record doesn't have any useful info, we can just drop it\n",
        "logs_df=logs_df.filter(logs_df['status'].isNotNull())\n",
        "logs_df.count()"
      ],
      "execution_count": null,
      "outputs": [
        {
          "output_type": "execute_result",
          "data": {
            "text/plain": [
              "3461612"
            ]
          },
          "metadata": {
            "tags": []
          },
          "execution_count": 99
        }
      ]
    },
    {
      "cell_type": "code",
      "metadata": {
        "id": "XNbWm15jcRZ9",
        "colab_type": "code",
        "colab": {
          "base_uri": "https://localhost:8080/",
          "height": 119
        },
        "outputId": "8748710e-2b29-4c75-f2a5-3630b64e1251"
      },
      "source": [
        "logs_df.agg(*exprs).show()\n"
      ],
      "execution_count": null,
      "outputs": [
        {
          "output_type": "stream",
          "text": [
            "+----+---------+------+---+--------+------+------------+\n",
            "|host|timestamp|method|url|protocol|status|content_size|\n",
            "+----+---------+------+---+--------+------+------------+\n",
            "|   0|        0|     0|  0|       0|     0|       33904|\n",
            "+----+---------+------+---+--------+------+------------+\n",
            "\n"
          ],
          "name": "stdout"
        }
      ]
    },
    {
      "cell_type": "code",
      "metadata": {
        "id": "N4nRphBwqp4B",
        "colab_type": "code",
        "colab": {
          "base_uri": "https://localhost:8080/",
          "height": 561
        },
        "outputId": "6b3a1313-b72a-4be0-dacd-fe9df062cbac"
      },
      "source": [
        "#check null content size\n",
        "base_df.filter(~base_df['value'].rlike(content_size_pattern)).show(10,truncate=False)\n",
        "logs_df.filter(logs_df['content_size'].isNull()).show(10,truncate=False)"
      ],
      "execution_count": null,
      "outputs": [
        {
          "output_type": "stream",
          "text": [
            "+--------------------------------------------------------------------------------------------------------------------------------------------------+\n",
            "|value                                                                                                                                             |\n",
            "+--------------------------------------------------------------------------------------------------------------------------------------------------+\n",
            "|dd15-062.compuserve.com - - [01/Jul/1995:00:01:12 -0400] \"GET /news/sci.space.shuttle/archive/sci-space-shuttle-22-apr-1995-40.txt HTTP/1.0\" 404 -|\n",
            "|dynip42.efn.org - - [01/Jul/1995:00:02:14 -0400] \"GET /software HTTP/1.0\" 302 -                                                                   |\n",
            "|ix-or10-06.ix.netcom.com - - [01/Jul/1995:00:02:40 -0400] \"GET /software/winvn HTTP/1.0\" 302 -                                                    |\n",
            "|ix-or10-06.ix.netcom.com - - [01/Jul/1995:00:03:24 -0400] \"GET /software HTTP/1.0\" 302 -                                                          |\n",
            "|link097.txdirect.net - - [01/Jul/1995:00:05:06 -0400] \"GET /shuttle HTTP/1.0\" 302 -                                                               |\n",
            "|ix-war-mi1-20.ix.netcom.com - - [01/Jul/1995:00:05:13 -0400] \"GET /shuttle/missions/sts-78/news HTTP/1.0\" 302 -                                   |\n",
            "|ix-war-mi1-20.ix.netcom.com - - [01/Jul/1995:00:05:58 -0400] \"GET /shuttle/missions/sts-72/news HTTP/1.0\" 302 -                                   |\n",
            "|netport-27.iu.net - - [01/Jul/1995:00:10:19 -0400] \"GET /pub/winvn/readme.txt HTTP/1.0\" 404 -                                                     |\n",
            "|netport-27.iu.net - - [01/Jul/1995:00:10:28 -0400] \"GET /pub/winvn/readme.txt HTTP/1.0\" 404 -                                                     |\n",
            "|dynip38.efn.org - - [01/Jul/1995:00:10:50 -0400] \"GET /software HTTP/1.0\" 302 -                                                                   |\n",
            "+--------------------------------------------------------------------------------------------------------------------------------------------------+\n",
            "only showing top 10 rows\n",
            "\n",
            "+---------------------------+--------------------------+------+--------------------------------------------------------------------+--------+------+------------+\n",
            "|host                       |timestamp                 |method|url                                                                 |protocol|status|content_size|\n",
            "+---------------------------+--------------------------+------+--------------------------------------------------------------------+--------+------+------------+\n",
            "|dd15-062.compuserve.com    |01/Jul/1995:00:01:12 -0400|GET   |/news/sci.space.shuttle/archive/sci-space-shuttle-22-apr-1995-40.txt|HTTP/1.0|404   |null        |\n",
            "|dynip42.efn.org            |01/Jul/1995:00:02:14 -0400|GET   |/software                                                           |HTTP/1.0|302   |null        |\n",
            "|ix-or10-06.ix.netcom.com   |01/Jul/1995:00:02:40 -0400|GET   |/software/winvn                                                     |HTTP/1.0|302   |null        |\n",
            "|ix-or10-06.ix.netcom.com   |01/Jul/1995:00:03:24 -0400|GET   |/software                                                           |HTTP/1.0|302   |null        |\n",
            "|link097.txdirect.net       |01/Jul/1995:00:05:06 -0400|GET   |/shuttle                                                            |HTTP/1.0|302   |null        |\n",
            "|ix-war-mi1-20.ix.netcom.com|01/Jul/1995:00:05:13 -0400|GET   |/shuttle/missions/sts-78/news                                       |HTTP/1.0|302   |null        |\n",
            "|ix-war-mi1-20.ix.netcom.com|01/Jul/1995:00:05:58 -0400|GET   |/shuttle/missions/sts-72/news                                       |HTTP/1.0|302   |null        |\n",
            "|netport-27.iu.net          |01/Jul/1995:00:10:19 -0400|GET   |/pub/winvn/readme.txt                                               |HTTP/1.0|404   |null        |\n",
            "|netport-27.iu.net          |01/Jul/1995:00:10:28 -0400|GET   |/pub/winvn/readme.txt                                               |HTTP/1.0|404   |null        |\n",
            "|dynip38.efn.org            |01/Jul/1995:00:10:50 -0400|GET   |/software                                                           |HTTP/1.0|302   |null        |\n",
            "+---------------------------+--------------------------+------+--------------------------------------------------------------------+--------+------+------------+\n",
            "only showing top 10 rows\n",
            "\n"
          ],
          "name": "stdout"
        }
      ]
    },
    {
      "cell_type": "code",
      "metadata": {
        "id": "VRBpXw8fr246",
        "colab_type": "code",
        "colab": {}
      },
      "source": [
        "#content size was null because of error responses where no content was sent back so \"-\" was written to the log\n",
        "# we can fill these nulls with 0\n",
        "logs_df=logs_df.na.fill({'content_size':0})"
      ],
      "execution_count": null,
      "outputs": []
    },
    {
      "cell_type": "code",
      "metadata": {
        "id": "Ym2D68cwsa7e",
        "colab_type": "code",
        "colab": {
          "base_uri": "https://localhost:8080/",
          "height": 119
        },
        "outputId": "b69f0c66-4b75-42c8-94ee-a6d968eaabc2"
      },
      "source": [
        "#verify we don't have nulls\n",
        "logs_df.agg(*exprs).show()"
      ],
      "execution_count": null,
      "outputs": [
        {
          "output_type": "stream",
          "text": [
            "+----+---------+------+---+--------+------+------------+\n",
            "|host|timestamp|method|url|protocol|status|content_size|\n",
            "+----+---------+------+---+--------+------+------------+\n",
            "|   0|        0|     0|  0|       0|     0|           0|\n",
            "+----+---------+------+---+--------+------+------------+\n",
            "\n"
          ],
          "name": "stdout"
        }
      ]
    },
    {
      "cell_type": "markdown",
      "metadata": {
        "id": "b9AUVOehj1Ol",
        "colab_type": "text"
      },
      "source": [
        "**Convert string timestamp to actual timestamp**\n"
      ]
    },
    {
      "cell_type": "code",
      "metadata": {
        "id": "Jnj9YdHgblza",
        "colab_type": "code",
        "colab": {}
      },
      "source": [
        "from pyspark.sql.functions import udf\n",
        "month_map={'Jan': 1, 'Feb': 2, 'Mar':3, 'Apr':4, 'May':5, 'Jun':6, 'Jul':7,\n",
        "  'Aug':8,  'Sep': 9, 'Oct':10, 'Nov': 11, 'Dec': 12}\n",
        "#time zone is ignored here\n",
        "def parse_log_time(text):\n",
        "  '''convert common log time format into a python datetime object\n",
        "  Args:\n",
        "        text (str): date and time in Apache time format [dd/mmm/yyyy:hh:mm:ss (+/-)zzzz]\n",
        "    Returns:\n",
        "        a string suitable for passing to CAST('timestamp')\n",
        "  '''\n",
        "  return '{0:04d}-{1:02d}-{2:02d} {3:02d}:{4:02d}:{5:02d}'.format(\n",
        "      int(text[7:11]),\n",
        "      month_map[text[3:6]],\n",
        "      int(text[0:2]),\n",
        "      int(text[12:14]),\n",
        "      int(text[15:17]),\n",
        "      int(text[18:20])\n",
        "  ) \n"
      ],
      "execution_count": null,
      "outputs": []
    },
    {
      "cell_type": "code",
      "metadata": {
        "id": "GWrKnhZrv-M1",
        "colab_type": "code",
        "colab": {
          "base_uri": "https://localhost:8080/",
          "height": 35
        },
        "outputId": "2c9c5530-d49e-423e-bd06-02e6b114d85c"
      },
      "source": [
        "parse_log_time('01/Jul/1995:00:10:50 -0400')"
      ],
      "execution_count": null,
      "outputs": [
        {
          "output_type": "execute_result",
          "data": {
            "application/vnd.google.colaboratory.intrinsic": {
              "type": "string"
            },
            "text/plain": [
              "'1995-07-01 00:10:50'"
            ]
          },
          "metadata": {
            "tags": []
          },
          "execution_count": 117
        }
      ]
    },
    {
      "cell_type": "code",
      "metadata": {
        "id": "3FdwkP13jJJZ",
        "colab_type": "code",
        "colab": {
          "base_uri": "https://localhost:8080/",
          "height": 102
        },
        "outputId": "010531ec-7ac6-4f3d-b302-c08317993456"
      },
      "source": [
        "ts_sample=[row['timestamp'] for row in logs_df.select('timestamp').take(5)]\n",
        "[parse_log_time(ts) for ts in ts_sample]"
      ],
      "execution_count": null,
      "outputs": [
        {
          "output_type": "execute_result",
          "data": {
            "text/plain": [
              "['1995-07-01 00:00:01',\n",
              " '1995-07-01 00:00:06',\n",
              " '1995-07-01 00:00:09',\n",
              " '1995-07-01 00:00:11',\n",
              " '1995-07-01 00:00:11']"
            ]
          },
          "metadata": {
            "tags": []
          },
          "execution_count": 118
        }
      ]
    },
    {
      "cell_type": "code",
      "metadata": {
        "id": "ZqRNYGi3wTD7",
        "colab_type": "code",
        "colab": {
          "base_uri": "https://localhost:8080/",
          "height": 289
        },
        "outputId": "f743291b-7343-4346-a40d-70c7e7e6017f"
      },
      "source": [
        "udf_parse_time=udf(parse_log_time)\n",
        "logs_df=logs_df.select('*',udf_parse_time(logs_df['timestamp']).cast('timestamp').alias('time')).drop('timestamp')\n",
        "logs_df.show(10,truncate=False)"
      ],
      "execution_count": null,
      "outputs": [
        {
          "output_type": "stream",
          "text": [
            "+--------------------+------+-----------------------------------------------+--------+------+------------+-------------------+\n",
            "|host                |method|url                                            |protocol|status|content_size|time               |\n",
            "+--------------------+------+-----------------------------------------------+--------+------+------------+-------------------+\n",
            "|199.72.81.55        |GET   |/history/apollo/                               |HTTP/1.0|200   |6245        |1995-07-01 00:00:01|\n",
            "|unicomp6.unicomp.net|GET   |/shuttle/countdown/                            |HTTP/1.0|200   |3985        |1995-07-01 00:00:06|\n",
            "|199.120.110.21      |GET   |/shuttle/missions/sts-73/mission-sts-73.html   |HTTP/1.0|200   |4085        |1995-07-01 00:00:09|\n",
            "|burger.letters.com  |GET   |/shuttle/countdown/liftoff.html                |HTTP/1.0|304   |0           |1995-07-01 00:00:11|\n",
            "|199.120.110.21      |GET   |/shuttle/missions/sts-73/sts-73-patch-small.gif|HTTP/1.0|200   |4179        |1995-07-01 00:00:11|\n",
            "|burger.letters.com  |GET   |/images/NASA-logosmall.gif                     |HTTP/1.0|304   |0           |1995-07-01 00:00:12|\n",
            "|burger.letters.com  |GET   |/shuttle/countdown/video/livevideo.gif         |HTTP/1.0|200   |0           |1995-07-01 00:00:12|\n",
            "|205.212.115.106     |GET   |/shuttle/countdown/countdown.html              |HTTP/1.0|200   |3985        |1995-07-01 00:00:12|\n",
            "|d104.aa.net         |GET   |/shuttle/countdown/                            |HTTP/1.0|200   |3985        |1995-07-01 00:00:13|\n",
            "|129.94.144.152      |GET   |/                                              |HTTP/1.0|200   |7074        |1995-07-01 00:00:13|\n",
            "+--------------------+------+-----------------------------------------------+--------+------+------------+-------------------+\n",
            "only showing top 10 rows\n",
            "\n"
          ],
          "name": "stdout"
        }
      ]
    },
    {
      "cell_type": "code",
      "metadata": {
        "id": "KUoBmQLnw3Zm",
        "colab_type": "code",
        "colab": {
          "base_uri": "https://localhost:8080/",
          "height": 170
        },
        "outputId": "0eada35c-b00d-4d95-bdd0-5f47d2903bcb"
      },
      "source": [
        "logs_df.printSchema()"
      ],
      "execution_count": null,
      "outputs": [
        {
          "output_type": "stream",
          "text": [
            "root\n",
            " |-- host: string (nullable = true)\n",
            " |-- method: string (nullable = true)\n",
            " |-- url: string (nullable = true)\n",
            " |-- protocol: string (nullable = true)\n",
            " |-- status: integer (nullable = true)\n",
            " |-- content_size: integer (nullable = false)\n",
            " |-- time: timestamp (nullable = true)\n",
            "\n"
          ],
          "name": "stdout"
        }
      ]
    },
    {
      "cell_type": "code",
      "metadata": {
        "id": "hkKx4BrcxDQb",
        "colab_type": "code",
        "colab": {
          "base_uri": "https://localhost:8080/",
          "height": 34
        },
        "outputId": "b28bff53-efd0-4812-94f1-d6502c78b77a"
      },
      "source": [
        "#cache logs_df for analysis\n",
        "logs_df.cache()"
      ],
      "execution_count": null,
      "outputs": [
        {
          "output_type": "execute_result",
          "data": {
            "text/plain": [
              "DataFrame[host: string, method: string, url: string, protocol: string, status: int, content_size: int, time: timestamp]"
            ]
          },
          "metadata": {
            "tags": []
          },
          "execution_count": 121
        }
      ]
    },
    {
      "cell_type": "markdown",
      "metadata": {
        "id": "U2c-6aEbkBzU",
        "colab_type": "text"
      },
      "source": [
        "**Data Analysis of web log**"
      ]
    },
    {
      "cell_type": "code",
      "metadata": {
        "id": "JYx-OR_BGYH7",
        "colab_type": "code",
        "colab": {}
      },
      "source": [
        "statistics=logs_df.describe(['content_size'])\n"
      ],
      "execution_count": null,
      "outputs": []
    },
    {
      "cell_type": "code",
      "metadata": {
        "id": "sFx5RmZDjQ43",
        "colab_type": "code",
        "colab": {
          "base_uri": "https://localhost:8080/",
          "height": 187
        },
        "outputId": "737d717e-99a3-472f-ead5-2145c36da878"
      },
      "source": [
        "statistics.show()"
      ],
      "execution_count": null,
      "outputs": [
        {
          "output_type": "stream",
          "text": [
            "+-------+------------------+\n",
            "|summary|      content_size|\n",
            "+-------+------------------+\n",
            "|  count|           3461612|\n",
            "|   mean|18928.844398216785|\n",
            "| stddev| 73031.47260949228|\n",
            "|    min|                 0|\n",
            "|    max|           6823936|\n",
            "+-------+------------------+\n",
            "\n"
          ],
          "name": "stdout"
        }
      ]
    },
    {
      "cell_type": "code",
      "metadata": {
        "id": "RGE5HG-_dqZy",
        "colab_type": "code",
        "colab": {}
      },
      "source": [
        "status_freq_df=logs_df.groupBy('status').count().sort('status').cache()"
      ],
      "execution_count": null,
      "outputs": []
    },
    {
      "cell_type": "code",
      "metadata": {
        "id": "DUt0h4CiypdD",
        "colab_type": "code",
        "colab": {
          "base_uri": "https://localhost:8080/",
          "height": 314
        },
        "outputId": "20ed3ec5-f4dc-425a-cc43-e7cb573aa9b5"
      },
      "source": [
        "print('Total distinct status code in the log:',status_freq_df.count())\n",
        "status_freq_pdf=status_freq_df.toPandas().sort_values(by=['count'],ascending=False)\n",
        "status_freq_pdf"
      ],
      "execution_count": null,
      "outputs": [
        {
          "output_type": "stream",
          "text": [
            "Total distinct status code in the log: 8\n"
          ],
          "name": "stdout"
        },
        {
          "output_type": "execute_result",
          "data": {
            "text/html": [
              "<div>\n",
              "<style scoped>\n",
              "    .dataframe tbody tr th:only-of-type {\n",
              "        vertical-align: middle;\n",
              "    }\n",
              "\n",
              "    .dataframe tbody tr th {\n",
              "        vertical-align: top;\n",
              "    }\n",
              "\n",
              "    .dataframe thead th {\n",
              "        text-align: right;\n",
              "    }\n",
              "</style>\n",
              "<table border=\"1\" class=\"dataframe\">\n",
              "  <thead>\n",
              "    <tr style=\"text-align: right;\">\n",
              "      <th></th>\n",
              "      <th>status</th>\n",
              "      <th>count</th>\n",
              "    </tr>\n",
              "  </thead>\n",
              "  <tbody>\n",
              "    <tr>\n",
              "      <th>0</th>\n",
              "      <td>200</td>\n",
              "      <td>3100524</td>\n",
              "    </tr>\n",
              "    <tr>\n",
              "      <th>2</th>\n",
              "      <td>304</td>\n",
              "      <td>266773</td>\n",
              "    </tr>\n",
              "    <tr>\n",
              "      <th>1</th>\n",
              "      <td>302</td>\n",
              "      <td>73070</td>\n",
              "    </tr>\n",
              "    <tr>\n",
              "      <th>5</th>\n",
              "      <td>404</td>\n",
              "      <td>20899</td>\n",
              "    </tr>\n",
              "    <tr>\n",
              "      <th>4</th>\n",
              "      <td>403</td>\n",
              "      <td>225</td>\n",
              "    </tr>\n",
              "    <tr>\n",
              "      <th>6</th>\n",
              "      <td>500</td>\n",
              "      <td>65</td>\n",
              "    </tr>\n",
              "    <tr>\n",
              "      <th>7</th>\n",
              "      <td>501</td>\n",
              "      <td>41</td>\n",
              "    </tr>\n",
              "    <tr>\n",
              "      <th>3</th>\n",
              "      <td>400</td>\n",
              "      <td>15</td>\n",
              "    </tr>\n",
              "  </tbody>\n",
              "</table>\n",
              "</div>"
            ],
            "text/plain": [
              "   status    count\n",
              "0     200  3100524\n",
              "2     304   266773\n",
              "1     302    73070\n",
              "5     404    20899\n",
              "4     403      225\n",
              "6     500       65\n",
              "7     501       41\n",
              "3     400       15"
            ]
          },
          "metadata": {
            "tags": []
          },
          "execution_count": 132
        }
      ]
    },
    {
      "cell_type": "code",
      "metadata": {
        "id": "2RrQv-nqz52R",
        "colab_type": "code",
        "colab": {
          "base_uri": "https://localhost:8080/",
          "height": 386
        },
        "outputId": "7970e51f-919a-4535-f7a6-3e8c2aa4f1ce"
      },
      "source": [
        "import seaborn as sns\n",
        "import matplotlib.pyplot as plt\n",
        "import numpy as np\n",
        "%matplotlib inline\n",
        "sns.catplot(x='status',y='count',data=status_freq_pdf,kind='bar',order=status_freq_pdf['status'])"
      ],
      "execution_count": null,
      "outputs": [
        {
          "output_type": "execute_result",
          "data": {
            "text/plain": [
              "<seaborn.axisgrid.FacetGrid at 0x7f1745b8b4a8>"
            ]
          },
          "metadata": {
            "tags": []
          },
          "execution_count": 134
        },
        {
          "output_type": "display_data",
          "data": {
            "image/png": "[encoded data removed]",
            "text/plain": [
              "<Figure size 360x360 with 1 Axes>"
            ]
          },
          "metadata": {
            "tags": [],
            "needs_background": "light"
          }
        }
      ]
    },
    {
      "cell_type": "code",
      "metadata": {
        "id": "7GzLg8RZ0sqn",
        "colab_type": "code",
        "colab": {
          "base_uri": "https://localhost:8080/",
          "height": 297
        },
        "outputId": "e1e0933f-f532-427c-d088-d6d1b7604ffe"
      },
      "source": [
        "status_freq_pdf['log_count']=np.log(status_freq_pdf['count'])\n",
        "status_freq_pdf"
      ],
      "execution_count": null,
      "outputs": [
        {
          "output_type": "execute_result",
          "data": {
            "text/html": [
              "<div>\n",
              "<style scoped>\n",
              "    .dataframe tbody tr th:only-of-type {\n",
              "        vertical-align: middle;\n",
              "    }\n",
              "\n",
              "    .dataframe tbody tr th {\n",
              "        vertical-align: top;\n",
              "    }\n",
              "\n",
              "    .dataframe thead th {\n",
              "        text-align: right;\n",
              "    }\n",
              "</style>\n",
              "<table border=\"1\" class=\"dataframe\">\n",
              "  <thead>\n",
              "    <tr style=\"text-align: right;\">\n",
              "      <th></th>\n",
              "      <th>status</th>\n",
              "      <th>count</th>\n",
              "      <th>log_count</th>\n",
              "    </tr>\n",
              "  </thead>\n",
              "  <tbody>\n",
              "    <tr>\n",
              "      <th>0</th>\n",
              "      <td>200</td>\n",
              "      <td>3100524</td>\n",
              "      <td>14.947082</td>\n",
              "    </tr>\n",
              "    <tr>\n",
              "      <th>2</th>\n",
              "      <td>304</td>\n",
              "      <td>266773</td>\n",
              "      <td>12.494153</td>\n",
              "    </tr>\n",
              "    <tr>\n",
              "      <th>1</th>\n",
              "      <td>302</td>\n",
              "      <td>73070</td>\n",
              "      <td>11.199173</td>\n",
              "    </tr>\n",
              "    <tr>\n",
              "      <th>5</th>\n",
              "      <td>404</td>\n",
              "      <td>20899</td>\n",
              "      <td>9.947457</td>\n",
              "    </tr>\n",
              "    <tr>\n",
              "      <th>4</th>\n",
              "      <td>403</td>\n",
              "      <td>225</td>\n",
              "      <td>5.416100</td>\n",
              "    </tr>\n",
              "    <tr>\n",
              "      <th>6</th>\n",
              "      <td>500</td>\n",
              "      <td>65</td>\n",
              "      <td>4.174387</td>\n",
              "    </tr>\n",
              "    <tr>\n",
              "      <th>7</th>\n",
              "      <td>501</td>\n",
              "      <td>41</td>\n",
              "      <td>3.713572</td>\n",
              "    </tr>\n",
              "    <tr>\n",
              "      <th>3</th>\n",
              "      <td>400</td>\n",
              "      <td>15</td>\n",
              "      <td>2.708050</td>\n",
              "    </tr>\n",
              "  </tbody>\n",
              "</table>\n",
              "</div>"
            ],
            "text/plain": [
              "   status    count  log_count\n",
              "0     200  3100524  14.947082\n",
              "2     304   266773  12.494153\n",
              "1     302    73070  11.199173\n",
              "5     404    20899   9.947457\n",
              "4     403      225   5.416100\n",
              "6     500       65   4.174387\n",
              "7     501       41   3.713572\n",
              "3     400       15   2.708050"
            ]
          },
          "metadata": {
            "tags": []
          },
          "execution_count": 136
        }
      ]
    },
    {
      "cell_type": "code",
      "metadata": {
        "id": "-r4e7wQOL1G4",
        "colab_type": "code",
        "colab": {
          "base_uri": "https://localhost:8080/",
          "height": 386
        },
        "outputId": "db892d56-8767-40cc-8534-f7c0c3215a30"
      },
      "source": [
        "sns.catplot(x='status',y='log_count',data=status_freq_pdf,kind='bar',order=status_freq_pdf['status'])"
      ],
      "execution_count": null,
      "outputs": [
        {
          "output_type": "execute_result",
          "data": {
            "text/plain": [
              "<seaborn.axisgrid.FacetGrid at 0x7f173854ffd0>"
            ]
          },
          "metadata": {
            "tags": []
          },
          "execution_count": 137
        },
        {
          "output_type": "display_data",
          "data": {
            "image/png": "[encoded data removed]",
            "text/plain": [
              "<Figure size 360x360 with 1 Axes>"
            ]
          },
          "metadata": {
            "tags": [],
            "needs_background": "light"
          }
        }
      ]
    },
    {
      "cell_type": "markdown",
      "metadata": {
        "id": "vHDEvilS2fwP",
        "colab_type": "text"
      },
      "source": [
        "**Top 10 Host**"
      ]
    },
    {
      "cell_type": "code",
      "metadata": {
        "id": "3_7W8Ii6hJrb",
        "colab_type": "code",
        "colab": {
          "base_uri": "https://localhost:8080/",
          "height": 272
        },
        "outputId": "108dacba-3707-4ef1-a833-26f0c6fe73fd"
      },
      "source": [
        "host_sum_df=logs_df.groupBy('host').count().sort('count',ascending=False).limit(10)\n",
        "host_sum_df.show(truncate=False)"
      ],
      "execution_count": null,
      "outputs": [
        {
          "output_type": "stream",
          "text": [
            "+--------------------+-----+\n",
            "|host                |count|\n",
            "+--------------------+-----+\n",
            "|piweba3y.prodigy.com|21988|\n",
            "|piweba4y.prodigy.com|16437|\n",
            "|piweba1y.prodigy.com|12825|\n",
            "|edams.ksc.nasa.gov  |11964|\n",
            "|163.206.89.4        |9697 |\n",
            "|news.ti.com         |8161 |\n",
            "|www-d1.proxy.aol.com|8047 |\n",
            "|alyssa.prodigy.com  |8037 |\n",
            "|                    |7660 |\n",
            "|siltb10.orl.mmc.com |7573 |\n",
            "+--------------------+-----+\n",
            "\n"
          ],
          "name": "stdout"
        }
      ]
    },
    {
      "cell_type": "markdown",
      "metadata": {
        "id": "liCcY4j83rbE",
        "colab_type": "text"
      },
      "source": [
        "**Top 10 end points**"
      ]
    },
    {
      "cell_type": "code",
      "metadata": {
        "id": "cT9GRVVY3qrc",
        "colab_type": "code",
        "colab": {
          "base_uri": "https://localhost:8080/",
          "height": 272
        },
        "outputId": "141bc74e-af97-4630-b311-a4a7a4edb3f3"
      },
      "source": [
        "url_sum_df=logs_df.groupBy('url').count().sort('count',ascending=False).limit(10)\n",
        "url_sum_df.show(truncate=False)"
      ],
      "execution_count": null,
      "outputs": [
        {
          "output_type": "stream",
          "text": [
            "+---------------------------------------+------+\n",
            "|url                                    |count |\n",
            "+---------------------------------------+------+\n",
            "|/images/NASA-logosmall.gif             |208714|\n",
            "|/images/KSC-logosmall.gif              |164970|\n",
            "|/images/MOSAIC-logosmall.gif           |127908|\n",
            "|/images/USA-logosmall.gif              |127074|\n",
            "|/images/WORLD-logosmall.gif            |125925|\n",
            "|/images/ksclogo-medium.gif             |121572|\n",
            "|/ksc.html                              |83909 |\n",
            "|/images/launch-logo.gif                |76006 |\n",
            "|/history/apollo/images/apollo-logo1.gif|68896 |\n",
            "|/shuttle/countdown/                    |64736 |\n",
            "+---------------------------------------+------+\n",
            "\n"
          ],
          "name": "stdout"
        }
      ]
    },
    {
      "cell_type": "markdown",
      "metadata": {
        "id": "Kexj78y94MnT",
        "colab_type": "text"
      },
      "source": [
        "**Top 10 error endpoints**"
      ]
    },
    {
      "cell_type": "code",
      "metadata": {
        "id": "HhPqPOHR4Jxz",
        "colab_type": "code",
        "colab": {
          "base_uri": "https://localhost:8080/",
          "height": 272
        },
        "outputId": "4c63079c-1cbc-4467-844f-2fcfa71e9099"
      },
      "source": [
        "error_url_sum_df=logs_df.filter(logs_df['status']!=200).groupBy('url').count().sort('count',ascending=False).limit(10)\n",
        "error_url_sum_df.show(truncate=False)"
      ],
      "execution_count": null,
      "outputs": [
        {
          "output_type": "stream",
          "text": [
            "+---------------------------------------+-----+\n",
            "|url                                    |count|\n",
            "+---------------------------------------+-----+\n",
            "|/images/NASA-logosmall.gif             |40082|\n",
            "|/images/KSC-logosmall.gif              |23763|\n",
            "|/images/MOSAIC-logosmall.gif           |15245|\n",
            "|/images/USA-logosmall.gif              |15142|\n",
            "|/images/WORLD-logosmall.gif            |14773|\n",
            "|/images/ksclogo-medium.gif             |13559|\n",
            "|/images/launch-logo.gif                |8806 |\n",
            "|/history/apollo/images/apollo-logo1.gif|7489 |\n",
            "|/                                      |6296 |\n",
            "|/images/ksclogosmall.gif               |5669 |\n",
            "+---------------------------------------+-----+\n",
            "\n"
          ],
          "name": "stdout"
        }
      ]
    },
    {
      "cell_type": "markdown",
      "metadata": {
        "id": "HYDTaLSp4q98",
        "colab_type": "text"
      },
      "source": [
        "**Unique hosts**"
      ]
    },
    {
      "cell_type": "code",
      "metadata": {
        "id": "bFLMIIXp4qhz",
        "colab_type": "code",
        "colab": {
          "base_uri": "https://localhost:8080/",
          "height": 34
        },
        "outputId": "7a11e6bc-bd20-4c0e-c379-0ef44bdd6f9c"
      },
      "source": [
        "unique_host_count=logs_df.select('host').distinct().count()\n",
        "unique_host_count"
      ],
      "execution_count": null,
      "outputs": [
        {
          "output_type": "execute_result",
          "data": {
            "text/plain": [
              "137933"
            ]
          },
          "metadata": {
            "tags": []
          },
          "execution_count": 142
        }
      ]
    },
    {
      "cell_type": "markdown",
      "metadata": {
        "id": "_sIAzayFkIyC",
        "colab_type": "text"
      },
      "source": [
        "## Average daily requests per host"
      ]
    },
    {
      "cell_type": "code",
      "metadata": {
        "id": "5hFs4j3mhOWI",
        "colab_type": "code",
        "colab": {
          "base_uri": "https://localhost:8080/",
          "height": 419
        },
        "outputId": "3f87492a-7ad0-4cc7-c68d-510937c40c08"
      },
      "source": [
        "from pyspark.sql.functions import dayofmonth,hour,month\n",
        "#default max rows to show\n",
        "def_mr = pd.get_option('max_rows')\n",
        "#set max rows to 10\n",
        "pd.set_option('max_rows', 10)\n",
        "\n",
        "host_day_df=logs_df.select(logs_df['host'],dayofmonth('time').alias('day'))\n",
        "host_day_df=host_day_df.groupBy('host','day').count().sort('count',ascending=False)\n",
        "daily_host_df=host_day_df.groupBy('day').count().select('day',col('count').alias('total_hosts'))\n",
        "daily_request_df=logs_df.select(logs_df['host'],dayofmonth('time').alias('day')).groupBy('day').count().select('day',col('count').alias('total_reqs'))\n",
        "avg_daily_reqests_per_host_df = daily_request_df.join(daily_host_df, 'day')\n",
        "avg_daily_reqests_per_host_df = (avg_daily_reqests_per_host_df\n",
        "                                    .withColumn('avg_reqs', col('total_reqs') / col('total_hosts'))\n",
        "                                    .sort(\"day\"))\n",
        "avg_daily_reqests_per_host_df = avg_daily_reqests_per_host_df.toPandas()\n",
        "avg_daily_reqests_per_host_df"
      ],
      "execution_count": null,
      "outputs": [
        {
          "output_type": "execute_result",
          "data": {
            "text/html": [
              "<div>\n",
              "<style scoped>\n",
              "    .dataframe tbody tr th:only-of-type {\n",
              "        vertical-align: middle;\n",
              "    }\n",
              "\n",
              "    .dataframe tbody tr th {\n",
              "        vertical-align: top;\n",
              "    }\n",
              "\n",
              "    .dataframe thead th {\n",
              "        text-align: right;\n",
              "    }\n",
              "</style>\n",
              "<table border=\"1\" class=\"dataframe\">\n",
              "  <thead>\n",
              "    <tr style=\"text-align: right;\">\n",
              "      <th></th>\n",
              "      <th>day</th>\n",
              "      <th>total_reqs</th>\n",
              "      <th>total_hosts</th>\n",
              "      <th>avg_reqs</th>\n",
              "    </tr>\n",
              "  </thead>\n",
              "  <tbody>\n",
              "    <tr>\n",
              "      <th>0</th>\n",
              "      <td>1</td>\n",
              "      <td>98710</td>\n",
              "      <td>7609</td>\n",
              "      <td>12.972795</td>\n",
              "    </tr>\n",
              "    <tr>\n",
              "      <th>1</th>\n",
              "      <td>2</td>\n",
              "      <td>60265</td>\n",
              "      <td>4858</td>\n",
              "      <td>12.405311</td>\n",
              "    </tr>\n",
              "    <tr>\n",
              "      <th>2</th>\n",
              "      <td>3</td>\n",
              "      <td>130972</td>\n",
              "      <td>10238</td>\n",
              "      <td>12.792733</td>\n",
              "    </tr>\n",
              "    <tr>\n",
              "      <th>3</th>\n",
              "      <td>4</td>\n",
              "      <td>130009</td>\n",
              "      <td>9411</td>\n",
              "      <td>13.814579</td>\n",
              "    </tr>\n",
              "    <tr>\n",
              "      <th>4</th>\n",
              "      <td>5</td>\n",
              "      <td>126468</td>\n",
              "      <td>9640</td>\n",
              "      <td>13.119087</td>\n",
              "    </tr>\n",
              "    <tr>\n",
              "      <th>...</th>\n",
              "      <td>...</td>\n",
              "      <td>...</td>\n",
              "      <td>...</td>\n",
              "      <td>...</td>\n",
              "    </tr>\n",
              "    <tr>\n",
              "      <th>26</th>\n",
              "      <td>27</td>\n",
              "      <td>94503</td>\n",
              "      <td>6846</td>\n",
              "      <td>13.804119</td>\n",
              "    </tr>\n",
              "    <tr>\n",
              "      <th>27</th>\n",
              "      <td>28</td>\n",
              "      <td>82617</td>\n",
              "      <td>6090</td>\n",
              "      <td>13.566010</td>\n",
              "    </tr>\n",
              "    <tr>\n",
              "      <th>28</th>\n",
              "      <td>29</td>\n",
              "      <td>67988</td>\n",
              "      <td>4825</td>\n",
              "      <td>14.090777</td>\n",
              "    </tr>\n",
              "    <tr>\n",
              "      <th>29</th>\n",
              "      <td>30</td>\n",
              "      <td>80641</td>\n",
              "      <td>5265</td>\n",
              "      <td>15.316429</td>\n",
              "    </tr>\n",
              "    <tr>\n",
              "      <th>30</th>\n",
              "      <td>31</td>\n",
              "      <td>90125</td>\n",
              "      <td>5913</td>\n",
              "      <td>15.241840</td>\n",
              "    </tr>\n",
              "  </tbody>\n",
              "</table>\n",
              "<p>31 rows × 4 columns</p>\n",
              "</div>"
            ],
            "text/plain": [
              "    day  total_reqs  total_hosts   avg_reqs\n",
              "0     1       98710         7609  12.972795\n",
              "1     2       60265         4858  12.405311\n",
              "2     3      130972        10238  12.792733\n",
              "3     4      130009         9411  13.814579\n",
              "4     5      126468         9640  13.119087\n",
              "..  ...         ...          ...        ...\n",
              "26   27       94503         6846  13.804119\n",
              "27   28       82617         6090  13.566010\n",
              "28   29       67988         4825  14.090777\n",
              "29   30       80641         5265  15.316429\n",
              "30   31       90125         5913  15.241840\n",
              "\n",
              "[31 rows x 4 columns]"
            ]
          },
          "metadata": {
            "tags": []
          },
          "execution_count": 156
        }
      ]
    },
    {
      "cell_type": "code",
      "metadata": {
        "id": "KEmtPjGRBF71",
        "colab_type": "code",
        "colab": {
          "base_uri": "https://localhost:8080/",
          "height": 386
        },
        "outputId": "c1364eaf-06c7-45da-99c8-bcca473ab426"
      },
      "source": [
        "sns.catplot(x='day', y='avg_reqs', \n",
        "                data=avg_daily_reqests_per_host_df, \n",
        "                kind='point', height=5, aspect=1.5)"
      ],
      "execution_count": null,
      "outputs": [
        {
          "output_type": "execute_result",
          "data": {
            "text/plain": [
              "<seaborn.axisgrid.FacetGrid at 0x7f173876ceb8>"
            ]
          },
          "metadata": {
            "tags": []
          },
          "execution_count": 158
        },
        {
          "output_type": "display_data",
          "data": {
            "image/png": "[encoded data removed]",
            "text/plain": [
              "<Figure size 540x360 with 1 Axes>"
            ]
          },
          "metadata": {
            "tags": [],
            "needs_background": "light"
          }
        }
      ]
    },
    {
      "cell_type": "markdown",
      "metadata": {
        "id": "CX8lNKwMBkYw",
        "colab_type": "text"
      },
      "source": [
        "## 404 Response codes analysis"
      ]
    },
    {
      "cell_type": "code",
      "metadata": {
        "id": "0GbHKFqvhWzi",
        "colab_type": "code",
        "colab": {
          "base_uri": "https://localhost:8080/",
          "height": 34
        },
        "outputId": "8e9b9f65-2d67-4959-dfda-ed4d822617ca"
      },
      "source": [
        "not_found_df = logs_df.filter(logs_df[\"status\"] == 404).cache()\n",
        "print(('Total 404 responses: {}').format(not_found_df.count()))"
      ],
      "execution_count": null,
      "outputs": [
        {
          "output_type": "stream",
          "text": [
            "Total 404 responses: 20899\n"
          ],
          "name": "stdout"
        }
      ]
    },
    {
      "cell_type": "code",
      "metadata": {
        "id": "ZkdXQgCtmqqo",
        "colab_type": "code",
        "colab": {
          "base_uri": "https://localhost:8080/",
          "height": 442
        },
        "outputId": "047fa660-cf76-416a-8c40-f6d8a8d403c9"
      },
      "source": [
        "top20_404_count_df = (not_found_df\n",
        "                          .groupBy(\"url\")\n",
        "                          .count()\n",
        "                          .sort(\"count\", ascending=False)\n",
        "                          .limit(20))\n",
        "\n",
        "top20_404_count_df.show(truncate=False)"
      ],
      "execution_count": null,
      "outputs": [
        {
          "output_type": "stream",
          "text": [
            "+-----------------------------------------------------------------+-----+\n",
            "|url                                                              |count|\n",
            "+-----------------------------------------------------------------+-----+\n",
            "|/pub/winvn/readme.txt                                            |2004 |\n",
            "|/pub/winvn/release.txt                                           |1732 |\n",
            "|/shuttle/missions/STS-69/mission-STS-69.html                     |683  |\n",
            "|/shuttle/missions/sts-68/ksc-upclose.gif                         |428  |\n",
            "|/history/apollo/a-001/a-001-patch-small.gif                      |384  |\n",
            "|/history/apollo/sa-1/sa-1-patch-small.gif                        |383  |\n",
            "|/://spacelink.msfc.nasa.gov                                      |381  |\n",
            "|/images/crawlerway-logo.gif                                      |374  |\n",
            "|/elv/DELTA/uncons.htm                                            |372  |\n",
            "|/history/apollo/pad-abort-test-1/pad-abort-test-1-patch-small.gif|359  |\n",
            "|/images/nasa-logo.gif                                            |319  |\n",
            "|/shuttle/resources/orbiters/atlantis.gif                         |314  |\n",
            "|/history/apollo/apollo-13.html                                   |304  |\n",
            "|/shuttle/resources/orbiters/discovery.gif                        |263  |\n",
            "|/shuttle/missions/sts-71/images/KSC-95EC-0916.txt                |190  |\n",
            "|/shuttle/resources/orbiters/challenger.gif                       |170  |\n",
            "|/shuttle/missions/technology/sts-newsref/stsref-toc.html         |158  |\n",
            "|/history/apollo/images/little-joe.jpg                            |150  |\n",
            "|/images/lf-logo.gif                                              |143  |\n",
            "|/history/apollo/publications/sp-350/sp-350.txt~                  |140  |\n",
            "+-----------------------------------------------------------------+-----+\n",
            "\n"
          ],
          "name": "stdout"
        }
      ]
    },
    {
      "cell_type": "code",
      "metadata": {
        "id": "cDZvf7_oCMkK",
        "colab_type": "code",
        "colab": {
          "base_uri": "https://localhost:8080/",
          "height": 442
        },
        "outputId": "5297ae51-1124-4c98-97ed-b15337d6fa36"
      },
      "source": [
        "top20_hosts_404_count_df = (not_found_df\n",
        "                          .groupBy(\"host\")\n",
        "                          .count()\n",
        "                          .sort(\"count\", ascending=False)\n",
        "                          .limit(20))\n",
        "\n",
        "top20_hosts_404_count_df.show(truncate=False)"
      ],
      "execution_count": null,
      "outputs": [
        {
          "output_type": "stream",
          "text": [
            "+---------------------------+-----+\n",
            "|host                       |count|\n",
            "+---------------------------+-----+\n",
            "|hoohoo.ncsa.uiuc.edu       |251  |\n",
            "|piweba3y.prodigy.com       |157  |\n",
            "|jbiagioni.npt.nuwc.navy.mil|132  |\n",
            "|piweba1y.prodigy.com       |114  |\n",
            "|                           |112  |\n",
            "|www-d4.proxy.aol.com       |91   |\n",
            "|piweba4y.prodigy.com       |86   |\n",
            "|scooter.pa-x.dec.com       |69   |\n",
            "|www-d1.proxy.aol.com       |64   |\n",
            "|phaelon.ksc.nasa.gov       |64   |\n",
            "|dialip-217.den.mmc.com     |62   |\n",
            "|www-b4.proxy.aol.com       |62   |\n",
            "|www-b3.proxy.aol.com       |61   |\n",
            "|www-a2.proxy.aol.com       |60   |\n",
            "|www-d2.proxy.aol.com       |59   |\n",
            "|piweba2y.prodigy.com       |59   |\n",
            "|alyssa.prodigy.com         |56   |\n",
            "|monarch.eng.buffalo.edu    |56   |\n",
            "|www-b2.proxy.aol.com       |53   |\n",
            "|www-c4.proxy.aol.com       |53   |\n",
            "+---------------------------+-----+\n",
            "\n"
          ],
          "name": "stdout"
        }
      ]
    },
    {
      "cell_type": "code",
      "metadata": {
        "id": "DPBImzfVm2yc",
        "colab_type": "code",
        "colab": {
          "base_uri": "https://localhost:8080/",
          "height": 419
        },
        "outputId": "9cf784f8-3fb3-46c8-98bd-cdb7eadd325f"
      },
      "source": [
        "errors_by_date_sorted_df = (not_found_df\n",
        "                                .groupBy(dayofmonth('time').alias('day'))\n",
        "                                .count()\n",
        "                                .sort(\"day\"))\n",
        "\n",
        "errors_by_date_sorted_pd_df = errors_by_date_sorted_df.toPandas()\n",
        "errors_by_date_sorted_pd_df"
      ],
      "execution_count": null,
      "outputs": [
        {
          "output_type": "execute_result",
          "data": {
            "text/html": [
              "<div>\n",
              "<style scoped>\n",
              "    .dataframe tbody tr th:only-of-type {\n",
              "        vertical-align: middle;\n",
              "    }\n",
              "\n",
              "    .dataframe tbody tr th {\n",
              "        vertical-align: top;\n",
              "    }\n",
              "\n",
              "    .dataframe thead th {\n",
              "        text-align: right;\n",
              "    }\n",
              "</style>\n",
              "<table border=\"1\" class=\"dataframe\">\n",
              "  <thead>\n",
              "    <tr style=\"text-align: right;\">\n",
              "      <th></th>\n",
              "      <th>day</th>\n",
              "      <th>count</th>\n",
              "    </tr>\n",
              "  </thead>\n",
              "  <tbody>\n",
              "    <tr>\n",
              "      <th>0</th>\n",
              "      <td>1</td>\n",
              "      <td>559</td>\n",
              "    </tr>\n",
              "    <tr>\n",
              "      <th>1</th>\n",
              "      <td>2</td>\n",
              "      <td>291</td>\n",
              "    </tr>\n",
              "    <tr>\n",
              "      <th>2</th>\n",
              "      <td>3</td>\n",
              "      <td>778</td>\n",
              "    </tr>\n",
              "    <tr>\n",
              "      <th>3</th>\n",
              "      <td>4</td>\n",
              "      <td>705</td>\n",
              "    </tr>\n",
              "    <tr>\n",
              "      <th>4</th>\n",
              "      <td>5</td>\n",
              "      <td>733</td>\n",
              "    </tr>\n",
              "    <tr>\n",
              "      <th>...</th>\n",
              "      <td>...</td>\n",
              "      <td>...</td>\n",
              "    </tr>\n",
              "    <tr>\n",
              "      <th>26</th>\n",
              "      <td>27</td>\n",
              "      <td>706</td>\n",
              "    </tr>\n",
              "    <tr>\n",
              "      <th>27</th>\n",
              "      <td>28</td>\n",
              "      <td>504</td>\n",
              "    </tr>\n",
              "    <tr>\n",
              "      <th>28</th>\n",
              "      <td>29</td>\n",
              "      <td>420</td>\n",
              "    </tr>\n",
              "    <tr>\n",
              "      <th>29</th>\n",
              "      <td>30</td>\n",
              "      <td>571</td>\n",
              "    </tr>\n",
              "    <tr>\n",
              "      <th>30</th>\n",
              "      <td>31</td>\n",
              "      <td>526</td>\n",
              "    </tr>\n",
              "  </tbody>\n",
              "</table>\n",
              "<p>31 rows × 2 columns</p>\n",
              "</div>"
            ],
            "text/plain": [
              "    day  count\n",
              "0     1    559\n",
              "1     2    291\n",
              "2     3    778\n",
              "3     4    705\n",
              "4     5    733\n",
              "..  ...    ...\n",
              "26   27    706\n",
              "27   28    504\n",
              "28   29    420\n",
              "29   30    571\n",
              "30   31    526\n",
              "\n",
              "[31 rows x 2 columns]"
            ]
          },
          "metadata": {
            "tags": []
          },
          "execution_count": 163
        }
      ]
    },
    {
      "cell_type": "code",
      "metadata": {
        "id": "ogK5wu9im77Z",
        "colab_type": "code",
        "colab": {
          "base_uri": "https://localhost:8080/",
          "height": 386
        },
        "outputId": "91279d57-c4bc-4e42-b51d-3c3ac9b21e40"
      },
      "source": [
        " sns.catplot(x='day', y='count', \n",
        "                data=errors_by_date_sorted_pd_df, \n",
        "                kind='point', height=5, aspect=1.5)"
      ],
      "execution_count": null,
      "outputs": [
        {
          "output_type": "execute_result",
          "data": {
            "text/plain": [
              "<seaborn.axisgrid.FacetGrid at 0x7f1738158c18>"
            ]
          },
          "metadata": {
            "tags": []
          },
          "execution_count": 164
        },
        {
          "output_type": "display_data",
          "data": {
            "image/png": "[encoded data removed]",
            "text/plain": [
              "<Figure size 540x360 with 1 Axes>"
            ]
          },
          "metadata": {
            "tags": [],
            "needs_background": "light"
          }
        }
      ]
    },
    {
      "cell_type": "code",
      "metadata": {
        "id": "QyydjLqDnDT5",
        "colab_type": "code",
        "colab": {
          "base_uri": "https://localhost:8080/",
          "height": 170
        },
        "outputId": "7786db40-2bb3-41a3-de63-76aa1eb8a4db"
      },
      "source": [
        "errors_by_date_sorted_df.sort(\"count\", ascending=False).show(3)"
      ],
      "execution_count": null,
      "outputs": [
        {
          "output_type": "stream",
          "text": [
            "+---+-----+\n",
            "|day|count|\n",
            "+---+-----+\n",
            "|  7| 1107|\n",
            "|  6| 1013|\n",
            "| 25|  876|\n",
            "+---+-----+\n",
            "only showing top 3 rows\n",
            "\n"
          ],
          "name": "stdout"
        }
      ]
    },
    {
      "cell_type": "code",
      "metadata": {
        "id": "MbSaplthnUAQ",
        "colab_type": "code",
        "colab": {}
      },
      "source": [
        "hourly_avg_errors_sorted_df = (not_found_df\n",
        "                                   .groupBy(hour('time')\n",
        "                                             .alias('hour'))\n",
        "                                   .count()\n",
        "                                   .sort('hour'))\n",
        "hourly_avg_errors_sorted_pd_df = hourly_avg_errors_sorted_df.toPandas()"
      ],
      "execution_count": null,
      "outputs": []
    },
    {
      "cell_type": "code",
      "metadata": {
        "id": "evh69e43n5nJ",
        "colab_type": "code",
        "colab": {
          "base_uri": "https://localhost:8080/",
          "height": 386
        },
        "outputId": "f393110c-e4f4-43be-928e-56a155bbda60"
      },
      "source": [
        "sns.catplot(x='hour', y='count', \n",
        "                data=hourly_avg_errors_sorted_pd_df, \n",
        "                kind='bar', height=5, aspect=1.5)"
      ],
      "execution_count": null,
      "outputs": [
        {
          "output_type": "execute_result",
          "data": {
            "text/plain": [
              "<seaborn.axisgrid.FacetGrid at 0x7f1738067048>"
            ]
          },
          "metadata": {
            "tags": []
          },
          "execution_count": 168
        },
        {
          "output_type": "display_data",
          "data": {
            "image/png": "[encoded data removed]",
            "text/plain": [
              "<Figure size 540x360 with 1 Axes>"
            ]
          },
          "metadata": {
            "tags": [],
            "needs_background": "light"
          }
        }
      ]
    },
    {
      "cell_type": "code",
      "metadata": {
        "id": "K7si-VKqIrC-",
        "colab_type": "code",
        "colab": {
          "base_uri": "https://localhost:8080/",
          "height": 170
        },
        "outputId": "28925c3c-1128-4fdb-a3c6-5db478ffc05a"
      },
      "source": [
        "hourly_avg_errors_sorted_df.sort(\"count\", ascending=False).show(3)"
      ],
      "execution_count": null,
      "outputs": [
        {
          "output_type": "stream",
          "text": [
            "+----+-----+\n",
            "|hour|count|\n",
            "+----+-----+\n",
            "|  15| 1382|\n",
            "|  12| 1308|\n",
            "|  14| 1274|\n",
            "+----+-----+\n",
            "only showing top 3 rows\n",
            "\n"
          ],
          "name": "stdout"
        }
      ]
    },
    {
      "cell_type": "code",
      "metadata": {
        "id": "7UDMMmHRDL9S",
        "colab_type": "code",
        "colab": {}
      },
      "source": [
        "#reset max rows displayed in pandas\n",
        "pd.set_option('max_rows', def_mr)"
      ],
      "execution_count": null,
      "outputs": []
    }
  ]
}