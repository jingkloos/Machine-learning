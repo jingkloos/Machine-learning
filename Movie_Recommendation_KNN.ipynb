{
  "nbformat": 4,
  "nbformat_minor": 0,
  "metadata": {
    "colab": {
      "name": "Movie Recommendation_KNN.ipynb",
      "provenance": [],
      "toc_visible": true,
      "include_colab_link": true
    },
    "kernelspec": {
      "name": "python3",
      "display_name": "Python 3"
    }
  },
  "cells": [
    {
      "cell_type": "markdown",
      "metadata": {
        "id": "view-in-github",
        "colab_type": "text"
      },
      "source": [
        "<a href=\"https://colab.research.google.com/github/jingkloos/Machine-learning/blob/master/Movie_Recommendation_KNN.ipynb\" target=\"_parent\"><img src=\"https://colab.research.google.com/assets/colab-badge.svg\" alt=\"Open In Colab\"/></a>"
      ]
    },
    {
      "cell_type": "markdown",
      "metadata": {
        "id": "xF6twIN8OjeP",
        "colab_type": "text"
      },
      "source": [
        "# Overview\n",
        "\n",
        "In this project, I used Item-based collaborative filtering method to recommend movies. \n",
        "\n",
        "I trained a KNN model using movielens dataset to cluster similar movies based on users' ratings. \n",
        "\n",
        "I also created APIs to recommend movies to users bases on their favorate movie input.\n",
        "\n"
      ]
    },
    {
      "cell_type": "markdown",
      "metadata": {
        "id": "sBD0yaToa1H8",
        "colab_type": "text"
      },
      "source": [
        "## Add necessary packages"
      ]
    },
    {
      "cell_type": "code",
      "metadata": {
        "id": "LQ-L1p_1tPrg",
        "colab_type": "code",
        "colab": {
          "base_uri": "https://localhost:8080/",
          "height": 170
        },
        "outputId": "16813afd-1835-4b85-b332-3fa5cba8b1c9"
      },
      "source": [
        "!pip install tmdbsimple"
      ],
      "execution_count": null,
      "outputs": [
        {
          "output_type": "stream",
          "text": [
            "Collecting tmdbsimple\n",
            "  Downloading https://files.pythonhosted.org/packages/eb/03/a1c9c42e53426f064126c72bda0003c372a5a68172a5779d718fb5822aeb/tmdbsimple-2.6.0-py3-none-any.whl\n",
            "Requirement already satisfied: requests in /usr/local/lib/python3.6/dist-packages (from tmdbsimple) (2.23.0)\n",
            "Requirement already satisfied: certifi>=2017.4.17 in /usr/local/lib/python3.6/dist-packages (from requests->tmdbsimple) (2020.6.20)\n",
            "Requirement already satisfied: chardet<4,>=3.0.2 in /usr/local/lib/python3.6/dist-packages (from requests->tmdbsimple) (3.0.4)\n",
            "Requirement already satisfied: urllib3!=1.25.0,!=1.25.1,<1.26,>=1.21.1 in /usr/local/lib/python3.6/dist-packages (from requests->tmdbsimple) (1.24.3)\n",
            "Requirement already satisfied: idna<3,>=2.5 in /usr/local/lib/python3.6/dist-packages (from requests->tmdbsimple) (2.10)\n",
            "Installing collected packages: tmdbsimple\n",
            "Successfully installed tmdbsimple-2.6.0\n"
          ],
          "name": "stdout"
        }
      ]
    },
    {
      "cell_type": "code",
      "metadata": {
        "id": "L8TLvO5ia-OV",
        "colab_type": "code",
        "colab": {
          "base_uri": "https://localhost:8080/",
          "height": 85
        },
        "outputId": "a1d7ea89-792e-49b5-e853-fc1af6719cda"
      },
      "source": [
        "!pip install fuzzywuzzy"
      ],
      "execution_count": null,
      "outputs": [
        {
          "output_type": "stream",
          "text": [
            "Collecting fuzzywuzzy\n",
            "  Downloading https://files.pythonhosted.org/packages/43/ff/74f23998ad2f93b945c0309f825be92e04e0348e062026998b5eefef4c33/fuzzywuzzy-0.18.0-py2.py3-none-any.whl\n",
            "Installing collected packages: fuzzywuzzy\n",
            "Successfully installed fuzzywuzzy-0.18.0\n"
          ],
          "name": "stdout"
        }
      ]
    },
    {
      "cell_type": "code",
      "metadata": {
        "id": "cTAtJzZKtZSD",
        "colab_type": "code",
        "colab": {
          "base_uri": "https://localhost:8080/",
          "height": 51
        },
        "outputId": "67fc1efe-ce19-4a3e-d59e-cd8200fca6fd"
      },
      "source": [
        "import numpy as np\n",
        "import pandas as pd\n",
        "import seaborn as sns\n",
        "import matplotlib.pyplot as plt\n",
        "import warnings\n",
        "import os\n",
        "warnings.filterwarnings(\"ignore\")"
      ],
      "execution_count": null,
      "outputs": [
        {
          "output_type": "stream",
          "text": [
            "/usr/local/lib/python3.6/dist-packages/statsmodels/tools/_testing.py:19: FutureWarning: pandas.util.testing is deprecated. Use the functions in the public API at pandas.testing instead.\n",
            "  import pandas.util.testing as tm\n"
          ],
          "name": "stderr"
        }
      ]
    },
    {
      "cell_type": "code",
      "metadata": {
        "id": "f707CEquSOlE",
        "colab_type": "code",
        "colab": {
          "base_uri": "https://localhost:8080/",
          "height": 122
        },
        "outputId": "35ae2a57-6406-420c-8dd5-2d20ef00a6fa"
      },
      "source": [
        "from google.colab import drive\n",
        "drive.mount('/content/drive')"
      ],
      "execution_count": null,
      "outputs": [
        {
          "output_type": "stream",
          "text": [
            "Go to this URL in a browser: https://accounts.google.com/o/oauth2/auth?client_id=947318989803-6bn6qk8qdgf4n4g3pfee6491hc0brc4i.apps.googleusercontent.com&redirect_uri=urn%3aietf%3awg%3aoauth%3a2.0%3aoob&response_type=code&scope=email%20https%3a%2f%2fwww.googleapis.com%2fauth%2fdocs.test%20https%3a%2f%2fwww.googleapis.com%2fauth%2fdrive%20https%3a%2f%2fwww.googleapis.com%2fauth%2fdrive.photos.readonly%20https%3a%2f%2fwww.googleapis.com%2fauth%2fpeopleapi.readonly\n",
            "\n",
            "Enter your authorization code:\n",
            "··········\n",
            "Mounted at /content/drive\n"
          ],
          "name": "stdout"
        }
      ]
    },
    {
      "cell_type": "markdown",
      "metadata": {
        "id": "sptx_RppuAIq",
        "colab_type": "text"
      },
      "source": [
        "## Load Data"
      ]
    },
    {
      "cell_type": "code",
      "metadata": {
        "id": "ZkdXQgCtmqqo",
        "colab_type": "code",
        "colab": {
          "base_uri": "https://localhost:8080/",
          "height": 204
        },
        "outputId": "7330c232-7934-4c89-b890-6313daa1d0c5"
      },
      "source": [
        "!wget http://files.grouplens.org/datasets/movielens/ml-latest.zip"
      ],
      "execution_count": null,
      "outputs": [
        {
          "output_type": "stream",
          "text": [
            "--2020-07-30 14:15:27--  http://files.grouplens.org/datasets/movielens/ml-latest.zip\n",
            "Resolving files.grouplens.org (files.grouplens.org)... 128.101.65.152\n",
            "Connecting to files.grouplens.org (files.grouplens.org)|128.101.65.152|:80... connected.\n",
            "HTTP request sent, awaiting response... 200 OK\n",
            "Length: 277113433 (264M) [application/zip]\n",
            "Saving to: ‘ml-latest.zip’\n",
            "\n",
            "ml-latest.zip       100%[===================>] 264.28M  58.7MB/s    in 4.8s    \n",
            "\n",
            "2020-07-30 14:15:32 (54.7 MB/s) - ‘ml-latest.zip’ saved [277113433/277113433]\n",
            "\n"
          ],
          "name": "stdout"
        }
      ]
    },
    {
      "cell_type": "code",
      "metadata": {
        "id": "ogK5wu9im77Z",
        "colab_type": "code",
        "colab": {
          "base_uri": "https://localhost:8080/",
          "height": 170
        },
        "outputId": "d7d04e67-7e75-41f4-a112-a0195cd52aaf"
      },
      "source": [
        "!unzip ml-latest.zip"
      ],
      "execution_count": null,
      "outputs": [
        {
          "output_type": "stream",
          "text": [
            "Archive:  ml-latest.zip\n",
            "   creating: ml-latest/\n",
            "  inflating: ml-latest/links.csv     \n",
            "  inflating: ml-latest/tags.csv      \n",
            "  inflating: ml-latest/genome-tags.csv  \n",
            "  inflating: ml-latest/ratings.csv   \n",
            "  inflating: ml-latest/README.txt    \n",
            "  inflating: ml-latest/genome-scores.csv  \n",
            "  inflating: ml-latest/movies.csv    \n"
          ],
          "name": "stdout"
        }
      ]
    },
    {
      "cell_type": "code",
      "metadata": {
        "id": "QyydjLqDnDT5",
        "colab_type": "code",
        "colab": {
          "base_uri": "https://localhost:8080/",
          "height": 51
        },
        "outputId": "8855f1ae-f0dd-4634-e8b8-dc7ca6e1715d"
      },
      "source": [
        "!ls ml-latest/"
      ],
      "execution_count": null,
      "outputs": [
        {
          "output_type": "stream",
          "text": [
            "genome-scores.csv  links.csv   ratings.csv  tags.csv\n",
            "genome-tags.csv    movies.csv  README.txt\n"
          ],
          "name": "stdout"
        }
      ]
    },
    {
      "cell_type": "code",
      "metadata": {
        "id": "MbSaplthnUAQ",
        "colab_type": "code",
        "colab": {}
      },
      "source": [
        "DATA_PATH='./ml-latest'\n",
        "ratings_df = pd.read_csv(DATA_PATH+'/ratings.csv')\n",
        "movies_df=pd.read_csv(DATA_PATH+'/movies.csv')\n",
        "links_df=pd.read_csv(DATA_PATH+'/links.csv')\n",
        "tags_df=pd.read_csv(DATA_PATH+'/tags.csv')\n",
        "\n"
      ],
      "execution_count": null,
      "outputs": []
    },
    {
      "cell_type": "code",
      "metadata": {
        "id": "Q7p5gOrxvVbr",
        "colab_type": "code",
        "colab": {
          "base_uri": "https://localhost:8080/",
          "height": 408
        },
        "outputId": "b9ebc4b4-2d7d-4d81-d2f7-95b920478e6a"
      },
      "source": [
        "print(ratings_df.info())\n",
        "ratings_df.head()"
      ],
      "execution_count": null,
      "outputs": [
        {
          "output_type": "stream",
          "text": [
            "<class 'pandas.core.frame.DataFrame'>\n",
            "RangeIndex: 27753444 entries, 0 to 27753443\n",
            "Data columns (total 4 columns):\n",
            " #   Column     Dtype  \n",
            "---  ------     -----  \n",
            " 0   userId     int64  \n",
            " 1   movieId    int64  \n",
            " 2   rating     float64\n",
            " 3   timestamp  int64  \n",
            "dtypes: float64(1), int64(3)\n",
            "memory usage: 847.0 MB\n",
            "None\n"
          ],
          "name": "stdout"
        },
        {
          "output_type": "execute_result",
          "data": {
            "text/html": [
              "<div>\n",
              "<style scoped>\n",
              "    .dataframe tbody tr th:only-of-type {\n",
              "        vertical-align: middle;\n",
              "    }\n",
              "\n",
              "    .dataframe tbody tr th {\n",
              "        vertical-align: top;\n",
              "    }\n",
              "\n",
              "    .dataframe thead th {\n",
              "        text-align: right;\n",
              "    }\n",
              "</style>\n",
              "<table border=\"1\" class=\"dataframe\">\n",
              "  <thead>\n",
              "    <tr style=\"text-align: right;\">\n",
              "      <th></th>\n",
              "      <th>userId</th>\n",
              "      <th>movieId</th>\n",
              "      <th>rating</th>\n",
              "      <th>timestamp</th>\n",
              "    </tr>\n",
              "  </thead>\n",
              "  <tbody>\n",
              "    <tr>\n",
              "      <th>0</th>\n",
              "      <td>1</td>\n",
              "      <td>307</td>\n",
              "      <td>3.5</td>\n",
              "      <td>1256677221</td>\n",
              "    </tr>\n",
              "    <tr>\n",
              "      <th>1</th>\n",
              "      <td>1</td>\n",
              "      <td>481</td>\n",
              "      <td>3.5</td>\n",
              "      <td>1256677456</td>\n",
              "    </tr>\n",
              "    <tr>\n",
              "      <th>2</th>\n",
              "      <td>1</td>\n",
              "      <td>1091</td>\n",
              "      <td>1.5</td>\n",
              "      <td>1256677471</td>\n",
              "    </tr>\n",
              "    <tr>\n",
              "      <th>3</th>\n",
              "      <td>1</td>\n",
              "      <td>1257</td>\n",
              "      <td>4.5</td>\n",
              "      <td>1256677460</td>\n",
              "    </tr>\n",
              "    <tr>\n",
              "      <th>4</th>\n",
              "      <td>1</td>\n",
              "      <td>1449</td>\n",
              "      <td>4.5</td>\n",
              "      <td>1256677264</td>\n",
              "    </tr>\n",
              "  </tbody>\n",
              "</table>\n",
              "</div>"
            ],
            "text/plain": [
              "   userId  movieId  rating   timestamp\n",
              "0       1      307     3.5  1256677221\n",
              "1       1      481     3.5  1256677456\n",
              "2       1     1091     1.5  1256677471\n",
              "3       1     1257     4.5  1256677460\n",
              "4       1     1449     4.5  1256677264"
            ]
          },
          "metadata": {
            "tags": []
          },
          "execution_count": 8
        }
      ]
    },
    {
      "cell_type": "code",
      "metadata": {
        "id": "fyD0Qc5Gvhoz",
        "colab_type": "code",
        "colab": {
          "base_uri": "https://localhost:8080/",
          "height": 391
        },
        "outputId": "0f891a5e-0628-4b28-aa11-6be6863b6467"
      },
      "source": [
        "print(movies_df.info())\n",
        "movies_df.head()"
      ],
      "execution_count": null,
      "outputs": [
        {
          "output_type": "stream",
          "text": [
            "<class 'pandas.core.frame.DataFrame'>\n",
            "RangeIndex: 58098 entries, 0 to 58097\n",
            "Data columns (total 3 columns):\n",
            " #   Column   Non-Null Count  Dtype \n",
            "---  ------   --------------  ----- \n",
            " 0   movieId  58098 non-null  int64 \n",
            " 1   title    58098 non-null  object\n",
            " 2   genres   58098 non-null  object\n",
            "dtypes: int64(1), object(2)\n",
            "memory usage: 1.3+ MB\n",
            "None\n"
          ],
          "name": "stdout"
        },
        {
          "output_type": "execute_result",
          "data": {
            "text/html": [
              "<div>\n",
              "<style scoped>\n",
              "    .dataframe tbody tr th:only-of-type {\n",
              "        vertical-align: middle;\n",
              "    }\n",
              "\n",
              "    .dataframe tbody tr th {\n",
              "        vertical-align: top;\n",
              "    }\n",
              "\n",
              "    .dataframe thead th {\n",
              "        text-align: right;\n",
              "    }\n",
              "</style>\n",
              "<table border=\"1\" class=\"dataframe\">\n",
              "  <thead>\n",
              "    <tr style=\"text-align: right;\">\n",
              "      <th></th>\n",
              "      <th>movieId</th>\n",
              "      <th>title</th>\n",
              "      <th>genres</th>\n",
              "    </tr>\n",
              "  </thead>\n",
              "  <tbody>\n",
              "    <tr>\n",
              "      <th>0</th>\n",
              "      <td>1</td>\n",
              "      <td>Toy Story (1995)</td>\n",
              "      <td>Adventure|Animation|Children|Comedy|Fantasy</td>\n",
              "    </tr>\n",
              "    <tr>\n",
              "      <th>1</th>\n",
              "      <td>2</td>\n",
              "      <td>Jumanji (1995)</td>\n",
              "      <td>Adventure|Children|Fantasy</td>\n",
              "    </tr>\n",
              "    <tr>\n",
              "      <th>2</th>\n",
              "      <td>3</td>\n",
              "      <td>Grumpier Old Men (1995)</td>\n",
              "      <td>Comedy|Romance</td>\n",
              "    </tr>\n",
              "    <tr>\n",
              "      <th>3</th>\n",
              "      <td>4</td>\n",
              "      <td>Waiting to Exhale (1995)</td>\n",
              "      <td>Comedy|Drama|Romance</td>\n",
              "    </tr>\n",
              "    <tr>\n",
              "      <th>4</th>\n",
              "      <td>5</td>\n",
              "      <td>Father of the Bride Part II (1995)</td>\n",
              "      <td>Comedy</td>\n",
              "    </tr>\n",
              "  </tbody>\n",
              "</table>\n",
              "</div>"
            ],
            "text/plain": [
              "   movieId  ...                                       genres\n",
              "0        1  ...  Adventure|Animation|Children|Comedy|Fantasy\n",
              "1        2  ...                   Adventure|Children|Fantasy\n",
              "2        3  ...                               Comedy|Romance\n",
              "3        4  ...                         Comedy|Drama|Romance\n",
              "4        5  ...                                       Comedy\n",
              "\n",
              "[5 rows x 3 columns]"
            ]
          },
          "metadata": {
            "tags": []
          },
          "execution_count": 9
        }
      ]
    },
    {
      "cell_type": "code",
      "metadata": {
        "id": "JXDWYVF3vj_0",
        "colab_type": "code",
        "colab": {
          "base_uri": "https://localhost:8080/",
          "height": 391
        },
        "outputId": "8b5096ae-9855-456b-beae-da4552dbd8df"
      },
      "source": [
        "print(links_df.info())\n",
        "links_df.head()"
      ],
      "execution_count": null,
      "outputs": [
        {
          "output_type": "stream",
          "text": [
            "<class 'pandas.core.frame.DataFrame'>\n",
            "RangeIndex: 58098 entries, 0 to 58097\n",
            "Data columns (total 3 columns):\n",
            " #   Column   Non-Null Count  Dtype  \n",
            "---  ------   --------------  -----  \n",
            " 0   movieId  58098 non-null  int64  \n",
            " 1   imdbId   58098 non-null  int64  \n",
            " 2   tmdbId   57917 non-null  float64\n",
            "dtypes: float64(1), int64(2)\n",
            "memory usage: 1.3 MB\n",
            "None\n"
          ],
          "name": "stdout"
        },
        {
          "output_type": "execute_result",
          "data": {
            "text/html": [
              "<div>\n",
              "<style scoped>\n",
              "    .dataframe tbody tr th:only-of-type {\n",
              "        vertical-align: middle;\n",
              "    }\n",
              "\n",
              "    .dataframe tbody tr th {\n",
              "        vertical-align: top;\n",
              "    }\n",
              "\n",
              "    .dataframe thead th {\n",
              "        text-align: right;\n",
              "    }\n",
              "</style>\n",
              "<table border=\"1\" class=\"dataframe\">\n",
              "  <thead>\n",
              "    <tr style=\"text-align: right;\">\n",
              "      <th></th>\n",
              "      <th>movieId</th>\n",
              "      <th>imdbId</th>\n",
              "      <th>tmdbId</th>\n",
              "    </tr>\n",
              "  </thead>\n",
              "  <tbody>\n",
              "    <tr>\n",
              "      <th>0</th>\n",
              "      <td>1</td>\n",
              "      <td>114709</td>\n",
              "      <td>862.0</td>\n",
              "    </tr>\n",
              "    <tr>\n",
              "      <th>1</th>\n",
              "      <td>2</td>\n",
              "      <td>113497</td>\n",
              "      <td>8844.0</td>\n",
              "    </tr>\n",
              "    <tr>\n",
              "      <th>2</th>\n",
              "      <td>3</td>\n",
              "      <td>113228</td>\n",
              "      <td>15602.0</td>\n",
              "    </tr>\n",
              "    <tr>\n",
              "      <th>3</th>\n",
              "      <td>4</td>\n",
              "      <td>114885</td>\n",
              "      <td>31357.0</td>\n",
              "    </tr>\n",
              "    <tr>\n",
              "      <th>4</th>\n",
              "      <td>5</td>\n",
              "      <td>113041</td>\n",
              "      <td>11862.0</td>\n",
              "    </tr>\n",
              "  </tbody>\n",
              "</table>\n",
              "</div>"
            ],
            "text/plain": [
              "   movieId  imdbId   tmdbId\n",
              "0        1  114709    862.0\n",
              "1        2  113497   8844.0\n",
              "2        3  113228  15602.0\n",
              "3        4  114885  31357.0\n",
              "4        5  113041  11862.0"
            ]
          },
          "metadata": {
            "tags": []
          },
          "execution_count": 10
        }
      ]
    },
    {
      "cell_type": "code",
      "metadata": {
        "id": "s2B2CeFdvmdO",
        "colab_type": "code",
        "colab": {
          "base_uri": "https://localhost:8080/",
          "height": 408
        },
        "outputId": "a2eb24ad-1752-48f5-df50-588e0e05beeb"
      },
      "source": [
        "print(tags_df.info())\n",
        "tags_df.head()"
      ],
      "execution_count": null,
      "outputs": [
        {
          "output_type": "stream",
          "text": [
            "<class 'pandas.core.frame.DataFrame'>\n",
            "RangeIndex: 1108997 entries, 0 to 1108996\n",
            "Data columns (total 4 columns):\n",
            " #   Column     Non-Null Count    Dtype \n",
            "---  ------     --------------    ----- \n",
            " 0   userId     1108997 non-null  int64 \n",
            " 1   movieId    1108997 non-null  int64 \n",
            " 2   tag        1108981 non-null  object\n",
            " 3   timestamp  1108997 non-null  int64 \n",
            "dtypes: int64(3), object(1)\n",
            "memory usage: 33.8+ MB\n",
            "None\n"
          ],
          "name": "stdout"
        },
        {
          "output_type": "execute_result",
          "data": {
            "text/html": [
              "<div>\n",
              "<style scoped>\n",
              "    .dataframe tbody tr th:only-of-type {\n",
              "        vertical-align: middle;\n",
              "    }\n",
              "\n",
              "    .dataframe tbody tr th {\n",
              "        vertical-align: top;\n",
              "    }\n",
              "\n",
              "    .dataframe thead th {\n",
              "        text-align: right;\n",
              "    }\n",
              "</style>\n",
              "<table border=\"1\" class=\"dataframe\">\n",
              "  <thead>\n",
              "    <tr style=\"text-align: right;\">\n",
              "      <th></th>\n",
              "      <th>userId</th>\n",
              "      <th>movieId</th>\n",
              "      <th>tag</th>\n",
              "      <th>timestamp</th>\n",
              "    </tr>\n",
              "  </thead>\n",
              "  <tbody>\n",
              "    <tr>\n",
              "      <th>0</th>\n",
              "      <td>14</td>\n",
              "      <td>110</td>\n",
              "      <td>epic</td>\n",
              "      <td>1443148538</td>\n",
              "    </tr>\n",
              "    <tr>\n",
              "      <th>1</th>\n",
              "      <td>14</td>\n",
              "      <td>110</td>\n",
              "      <td>Medieval</td>\n",
              "      <td>1443148532</td>\n",
              "    </tr>\n",
              "    <tr>\n",
              "      <th>2</th>\n",
              "      <td>14</td>\n",
              "      <td>260</td>\n",
              "      <td>sci-fi</td>\n",
              "      <td>1442169410</td>\n",
              "    </tr>\n",
              "    <tr>\n",
              "      <th>3</th>\n",
              "      <td>14</td>\n",
              "      <td>260</td>\n",
              "      <td>space action</td>\n",
              "      <td>1442169421</td>\n",
              "    </tr>\n",
              "    <tr>\n",
              "      <th>4</th>\n",
              "      <td>14</td>\n",
              "      <td>318</td>\n",
              "      <td>imdb top 250</td>\n",
              "      <td>1442615195</td>\n",
              "    </tr>\n",
              "  </tbody>\n",
              "</table>\n",
              "</div>"
            ],
            "text/plain": [
              "   userId  movieId           tag   timestamp\n",
              "0      14      110          epic  1443148538\n",
              "1      14      110      Medieval  1443148532\n",
              "2      14      260        sci-fi  1442169410\n",
              "3      14      260  space action  1442169421\n",
              "4      14      318  imdb top 250  1442615195"
            ]
          },
          "metadata": {
            "tags": []
          },
          "execution_count": 11
        }
      ]
    },
    {
      "cell_type": "markdown",
      "metadata": {
        "id": "jD4ubR_T8gmQ",
        "colab_type": "text"
      },
      "source": [
        "## Explore Data"
      ]
    },
    {
      "cell_type": "markdown",
      "metadata": {
        "id": "B5QuH7bTDhCh",
        "colab_type": "text"
      },
      "source": [
        "Questions to answer:\n",
        "1. How many movies were rated by users?\n",
        "2. How many users rated the movies?\n",
        "3. What is the popular ratings from users?\n",
        "\n",
        "\n",
        "\n"
      ]
    },
    {
      "cell_type": "code",
      "metadata": {
        "id": "w_qCXLfdvseN",
        "colab_type": "code",
        "colab": {
          "base_uri": "https://localhost:8080/",
          "height": 102
        },
        "outputId": "9c81548f-fdc0-4fce-ff27-8a844eb58e94"
      },
      "source": [
        "dfs={'movies':movies_df,'ratings':ratings_df,'links':links_df,'tags':tags_df}\n",
        "for i in dfs:\n",
        "  print('count of {}: {}'.format(i,dfs[i].shape[0]))\n",
        "num_users=len(ratings_df.userId.unique() )\n",
        "num_movies=len(ratings_df.movieId.unique())\n",
        "num_movies_without_rating=len(movies_df.movieId.unique())-len(ratings_df.movieId.unique())\n",
        "print('There are {} unique users and {} unique movies in ratings {} movies without ratings'.format(num_users,num_movies,num_movies_without_rating))"
      ],
      "execution_count": null,
      "outputs": [
        {
          "output_type": "stream",
          "text": [
            "count of movies: 58098\n",
            "count of ratings: 27753444\n",
            "count of links: 58098\n",
            "count of tags: 1108997\n",
            "There are 283228 unique users and 53889 unique movies in ratings 4209 movies without ratings\n"
          ],
          "name": "stdout"
        }
      ]
    },
    {
      "cell_type": "markdown",
      "metadata": {
        "id": "bOXc6KlBDKZ_",
        "colab_type": "text"
      },
      "source": [
        "### Ratings"
      ]
    },
    {
      "cell_type": "code",
      "metadata": {
        "id": "EnInVAkbEpYv",
        "colab_type": "code",
        "colab": {}
      },
      "source": [
        "movie_rating_ct_df=pd.DataFrame(ratings_df.groupby('movieId').size(),columns=['count'])"
      ],
      "execution_count": null,
      "outputs": []
    },
    {
      "cell_type": "code",
      "metadata": {
        "id": "JgElj3rs-0LP",
        "colab_type": "code",
        "colab": {}
      },
      "source": [
        "movie_rating_ct=movie_rating_ct_df.sort_values(by='count',ascending=False,ignore_index=True)"
      ],
      "execution_count": null,
      "outputs": []
    },
    {
      "cell_type": "code",
      "metadata": {
        "id": "I9Yn8nWxDRuV",
        "colab_type": "code",
        "colab": {
          "base_uri": "https://localhost:8080/",
          "height": 204
        },
        "outputId": "4d8d2981-e6c9-423b-8d87-852c19bb7bcb"
      },
      "source": [
        "movie_rating_ct['count'].quantile(np.arange(1,0.5,-0.05))"
      ],
      "execution_count": null,
      "outputs": [
        {
          "output_type": "execute_result",
          "data": {
            "text/plain": [
              "1.00    97999.0\n",
              "0.95     1855.0\n",
              "0.90      531.0\n",
              "0.85      205.0\n",
              "0.80       91.0\n",
              "0.75       48.0\n",
              "0.70       28.0\n",
              "0.65       18.0\n",
              "0.60       12.0\n",
              "0.55        9.0\n",
              "Name: count, dtype: float64"
            ]
          },
          "metadata": {
            "tags": []
          },
          "execution_count": 15
        }
      ]
    },
    {
      "cell_type": "markdown",
      "metadata": {
        "id": "ITwcPDoeHibj",
        "colab_type": "text"
      },
      "source": [
        "Only 20% movies got 100 or more ratings. Most of the movies don't get a lot of ratings. I will limit the movies to these 20% popular movies to avoid memory issues and import KNN performance."
      ]
    },
    {
      "cell_type": "code",
      "metadata": {
        "id": "aIVhS0oqO7Cm",
        "colab_type": "code",
        "colab": {
          "base_uri": "https://localhost:8080/",
          "height": 51
        },
        "outputId": "a889fd65-4761-4942-ccf2-add9ec7f2e4d"
      },
      "source": [
        "popular_movies=list(set(movie_rating_ct_df[movie_rating_ct_df['count']>=500].index))\n",
        "ratings_df_drop_movies=ratings_df[ratings_df.movieId.isin(popular_movies)]\n",
        "print('Original rating count is {}'.format(ratings_df.shape[0]))\n",
        "print('Popular movies rating count is {}'.format(ratings_df_drop_movies.shape[0]))"
      ],
      "execution_count": null,
      "outputs": [
        {
          "output_type": "stream",
          "text": [
            "Original rating count is 27753444\n",
            "Popular movies rating count is 26053205\n"
          ],
          "name": "stdout"
        }
      ]
    },
    {
      "cell_type": "code",
      "metadata": {
        "id": "X9_G3phMDTpL",
        "colab_type": "code",
        "colab": {
          "base_uri": "https://localhost:8080/",
          "height": 353
        },
        "outputId": "44dc3cf7-f7cd-458f-8fbd-1cea7b848574"
      },
      "source": [
        "#distribution\n",
        "fig=plt.figure(figsize=[10,5])\n",
        "fig.subplots_adjust(hspace=5)\n",
        "ax1=fig.add_subplot(121)\n",
        "ax1.plot(movie_rating_ct['count'])\n",
        "ax1.set_xlabel('Index of movie rating frequences in descending order')\n",
        "ax1.set_ylabel('Number of ratings')\n",
        "ax2=fig.add_subplot(122)\n",
        "ax2.plot(np.log(movie_rating_ct['count']))\n",
        "ax2.set_xlabel('Index of movie rating frequences in descending order')\n",
        "ax2.set_ylabel('Number of ratings (log)')\n",
        "# this is a typical long tail distribution, only a few movies receive a lot of ratings"
      ],
      "execution_count": null,
      "outputs": [
        {
          "output_type": "execute_result",
          "data": {
            "text/plain": [
              "Text(0, 0.5, 'Number of ratings (log)')"
            ]
          },
          "metadata": {
            "tags": []
          },
          "execution_count": 18
        },
        {
          "output_type": "display_data",
          "data": {
            "image/png": "[encoded data removed]",
            "text/plain": [
              "<Figure size 720x360 with 2 Axes>"
            ]
          },
          "metadata": {
            "tags": [],
            "needs_background": "light"
          }
        }
      ]
    },
    {
      "cell_type": "code",
      "metadata": {
        "id": "ZZTVY03Gs3J-",
        "colab_type": "code",
        "colab": {}
      },
      "source": [
        "user_rating_ct_df=pd.DataFrame(ratings_df.groupby('userId').size(),columns=['count'])\n",
        "user_rating_ct=user_rating_ct_df.sort_values(by='count',ascending=False,ignore_index=True)"
      ],
      "execution_count": null,
      "outputs": []
    },
    {
      "cell_type": "code",
      "metadata": {
        "id": "66Hg8IRDEHEd",
        "colab_type": "code",
        "colab": {
          "base_uri": "https://localhost:8080/",
          "height": 204
        },
        "outputId": "cee3ee0b-d83a-4043-a972-26e5bf7cac70"
      },
      "source": [
        "user_rating_ct['count'].quantile(np.arange(1,0.5,-0.05))"
      ],
      "execution_count": null,
      "outputs": [
        {
          "output_type": "execute_result",
          "data": {
            "text/plain": [
              "1.00    23715.0\n",
              "0.95      405.0\n",
              "0.90      240.0\n",
              "0.85      165.0\n",
              "0.80      122.0\n",
              "0.75       95.0\n",
              "0.70       73.0\n",
              "0.65       58.0\n",
              "0.60       47.0\n",
              "0.55       38.0\n",
              "Name: count, dtype: float64"
            ]
          },
          "metadata": {
            "tags": []
          },
          "execution_count": 20
        }
      ]
    },
    {
      "cell_type": "markdown",
      "metadata": {
        "id": "KeKaleLGIxWR",
        "colab_type": "text"
      },
      "source": [
        "The distribution of ratings by user is very similar to the ratings by movie. Less than half of the users are very actively rating movies. I will limit users to those 20% active users"
      ]
    },
    {
      "cell_type": "code",
      "metadata": {
        "id": "9peslp9PRX6R",
        "colab_type": "code",
        "colab": {
          "base_uri": "https://localhost:8080/",
          "height": 51
        },
        "outputId": "5ad7234c-798d-4166-9784-f50025b9ab5c"
      },
      "source": [
        "active_users=list(set(user_rating_ct_df[user_rating_ct_df['count']>=500].index))\n",
        "ratings_df_drop_users=ratings_df_drop_movies[ratings_df_drop_movies.userId.isin(active_users)]\n",
        "print('Original rating count is {}'.format(ratings_df.shape[0]))\n",
        "print('Rating count of popular movies and active users is {}'.format(ratings_df_drop_users.shape[0]))"
      ],
      "execution_count": null,
      "outputs": [
        {
          "output_type": "stream",
          "text": [
            "Original rating count is 27753444\n",
            "Rating count of popular movies and active users is 8239836\n"
          ],
          "name": "stdout"
        }
      ]
    },
    {
      "cell_type": "code",
      "metadata": {
        "id": "cuwu1j7ftGYr",
        "colab_type": "code",
        "colab": {
          "base_uri": "https://localhost:8080/",
          "height": 351
        },
        "outputId": "e916005e-f828-4e58-d783-ca74567d59d6"
      },
      "source": [
        "#distribution\n",
        "fig=plt.figure(figsize=[10,5])\n",
        "fig.subplots_adjust(hspace=5)\n",
        "ax1=fig.add_subplot(121)\n",
        "ax1.plot(user_rating_ct['count'])\n",
        "ax1.set_xlabel('Index of user rating frequences in descending order')\n",
        "ax1.set_ylabel('Number of ratings')\n",
        "ax2=fig.add_subplot(122)\n",
        "ax2.plot(np.log(user_rating_ct['count']))\n",
        "ax2.set_xlabel('Index of user rating frequences in descending order')\n",
        "ax2.set_ylabel('Number of ratings (log)')\n",
        "# this is a typical long tail distribution, only a few users give a lot of ratings"
      ],
      "execution_count": null,
      "outputs": [
        {
          "output_type": "execute_result",
          "data": {
            "text/plain": [
              "Text(0, 0.5, 'Number of ratings (log)')"
            ]
          },
          "metadata": {
            "tags": []
          },
          "execution_count": 22
        },
        {
          "output_type": "display_data",
          "data": {
            "image/png": "[encoded data removed]",
            "text/plain": [
              "<Figure size 720x360 with 2 Axes>"
            ]
          },
          "metadata": {
            "tags": [],
            "needs_background": "light"
          }
        }
      ]
    },
    {
      "cell_type": "markdown",
      "metadata": {
        "id": "GWdVixTtOH6d",
        "colab_type": "text"
      },
      "source": [
        "### Links"
      ]
    },
    {
      "cell_type": "code",
      "metadata": {
        "id": "-NhRE_gcLnKA",
        "colab_type": "code",
        "colab": {
          "base_uri": "https://localhost:8080/",
          "height": 204
        },
        "outputId": "e857d84a-1d79-49ce-e623-40f05c986e89"
      },
      "source": [
        "links_df.head()"
      ],
      "execution_count": null,
      "outputs": [
        {
          "output_type": "execute_result",
          "data": {
            "text/html": [
              "<div>\n",
              "<style scoped>\n",
              "    .dataframe tbody tr th:only-of-type {\n",
              "        vertical-align: middle;\n",
              "    }\n",
              "\n",
              "    .dataframe tbody tr th {\n",
              "        vertical-align: top;\n",
              "    }\n",
              "\n",
              "    .dataframe thead th {\n",
              "        text-align: right;\n",
              "    }\n",
              "</style>\n",
              "<table border=\"1\" class=\"dataframe\">\n",
              "  <thead>\n",
              "    <tr style=\"text-align: right;\">\n",
              "      <th></th>\n",
              "      <th>movieId</th>\n",
              "      <th>imdbId</th>\n",
              "      <th>tmdbId</th>\n",
              "    </tr>\n",
              "  </thead>\n",
              "  <tbody>\n",
              "    <tr>\n",
              "      <th>0</th>\n",
              "      <td>1</td>\n",
              "      <td>114709</td>\n",
              "      <td>862.0</td>\n",
              "    </tr>\n",
              "    <tr>\n",
              "      <th>1</th>\n",
              "      <td>2</td>\n",
              "      <td>113497</td>\n",
              "      <td>8844.0</td>\n",
              "    </tr>\n",
              "    <tr>\n",
              "      <th>2</th>\n",
              "      <td>3</td>\n",
              "      <td>113228</td>\n",
              "      <td>15602.0</td>\n",
              "    </tr>\n",
              "    <tr>\n",
              "      <th>3</th>\n",
              "      <td>4</td>\n",
              "      <td>114885</td>\n",
              "      <td>31357.0</td>\n",
              "    </tr>\n",
              "    <tr>\n",
              "      <th>4</th>\n",
              "      <td>5</td>\n",
              "      <td>113041</td>\n",
              "      <td>11862.0</td>\n",
              "    </tr>\n",
              "  </tbody>\n",
              "</table>\n",
              "</div>"
            ],
            "text/plain": [
              "   movieId  imdbId   tmdbId\n",
              "0        1  114709    862.0\n",
              "1        2  113497   8844.0\n",
              "2        3  113228  15602.0\n",
              "3        4  114885  31357.0\n",
              "4        5  113041  11862.0"
            ]
          },
          "metadata": {
            "tags": []
          },
          "execution_count": 23
        }
      ]
    },
    {
      "cell_type": "code",
      "metadata": {
        "id": "Tr54pVDYOGT_",
        "colab_type": "code",
        "colab": {
          "base_uri": "https://localhost:8080/",
          "height": 204
        },
        "outputId": "bcd79557-4dd2-4c50-bb52-f8ac8213c19f"
      },
      "source": [
        "#join movies with links to get tmdbid\n",
        "movies=movies_df.merge(links_df,on='movieId',how='inner')\n",
        "movies.head()"
      ],
      "execution_count": null,
      "outputs": [
        {
          "output_type": "execute_result",
          "data": {
            "text/html": [
              "<div>\n",
              "<style scoped>\n",
              "    .dataframe tbody tr th:only-of-type {\n",
              "        vertical-align: middle;\n",
              "    }\n",
              "\n",
              "    .dataframe tbody tr th {\n",
              "        vertical-align: top;\n",
              "    }\n",
              "\n",
              "    .dataframe thead th {\n",
              "        text-align: right;\n",
              "    }\n",
              "</style>\n",
              "<table border=\"1\" class=\"dataframe\">\n",
              "  <thead>\n",
              "    <tr style=\"text-align: right;\">\n",
              "      <th></th>\n",
              "      <th>movieId</th>\n",
              "      <th>title</th>\n",
              "      <th>genres</th>\n",
              "      <th>imdbId</th>\n",
              "      <th>tmdbId</th>\n",
              "    </tr>\n",
              "  </thead>\n",
              "  <tbody>\n",
              "    <tr>\n",
              "      <th>0</th>\n",
              "      <td>1</td>\n",
              "      <td>Toy Story (1995)</td>\n",
              "      <td>Adventure|Animation|Children|Comedy|Fantasy</td>\n",
              "      <td>114709</td>\n",
              "      <td>862.0</td>\n",
              "    </tr>\n",
              "    <tr>\n",
              "      <th>1</th>\n",
              "      <td>2</td>\n",
              "      <td>Jumanji (1995)</td>\n",
              "      <td>Adventure|Children|Fantasy</td>\n",
              "      <td>113497</td>\n",
              "      <td>8844.0</td>\n",
              "    </tr>\n",
              "    <tr>\n",
              "      <th>2</th>\n",
              "      <td>3</td>\n",
              "      <td>Grumpier Old Men (1995)</td>\n",
              "      <td>Comedy|Romance</td>\n",
              "      <td>113228</td>\n",
              "      <td>15602.0</td>\n",
              "    </tr>\n",
              "    <tr>\n",
              "      <th>3</th>\n",
              "      <td>4</td>\n",
              "      <td>Waiting to Exhale (1995)</td>\n",
              "      <td>Comedy|Drama|Romance</td>\n",
              "      <td>114885</td>\n",
              "      <td>31357.0</td>\n",
              "    </tr>\n",
              "    <tr>\n",
              "      <th>4</th>\n",
              "      <td>5</td>\n",
              "      <td>Father of the Bride Part II (1995)</td>\n",
              "      <td>Comedy</td>\n",
              "      <td>113041</td>\n",
              "      <td>11862.0</td>\n",
              "    </tr>\n",
              "  </tbody>\n",
              "</table>\n",
              "</div>"
            ],
            "text/plain": [
              "   movieId                               title  ...  imdbId   tmdbId\n",
              "0        1                    Toy Story (1995)  ...  114709    862.0\n",
              "1        2                      Jumanji (1995)  ...  113497   8844.0\n",
              "2        3             Grumpier Old Men (1995)  ...  113228  15602.0\n",
              "3        4            Waiting to Exhale (1995)  ...  114885  31357.0\n",
              "4        5  Father of the Bride Part II (1995)  ...  113041  11862.0\n",
              "\n",
              "[5 rows x 5 columns]"
            ]
          },
          "metadata": {
            "tags": []
          },
          "execution_count": 24
        }
      ]
    },
    {
      "cell_type": "markdown",
      "metadata": {
        "id": "_ng00YsmPBCK",
        "colab_type": "text"
      },
      "source": [
        "**Get movies poster from TMDb API**"
      ]
    },
    {
      "cell_type": "code",
      "metadata": {
        "id": "2rS3JkioQkTD",
        "colab_type": "code",
        "colab": {
          "base_uri": "https://localhost:8080/",
          "height": 334
        },
        "outputId": "ce21b792-3950-4430-b1e5-81d61af0cfe2"
      },
      "source": [
        "from IPython.display import Image, HTML, display\n",
        "import tmdbsimple as tmdb\n",
        "\n",
        "try:\n",
        "  tmdb.API_KEY='fe2a68da23a562328f579ae29586f111'\n",
        "  print('Successfully imported tmdbsimple!')\n",
        "  IMAGE_URL='https://image.tmdb.org/t/p/w500'\n",
        "  movie_id = movies[movies['movieId']==2].tmdbId.values[0]\n",
        "  movie_info = tmdb.Movies(movie_id).info()\n",
        "  movie_poster_url = IMAGE_URL + movie_info['poster_path']\n",
        "  display(Image(movie_poster_url, width=200))\n",
        "except Exception:\n",
        "  print(\"Cannot import tmdbsimple, no movie posters will be displayed!\")"
      ],
      "execution_count": null,
      "outputs": [
        {
          "output_type": "stream",
          "text": [
            "Successfully imported tmdbsimple!\n"
          ],
          "name": "stdout"
        },
        {
          "output_type": "display_data",
          "data": {
            "image/jpeg": "[encoded data removed]",
            "text/plain": [
              "<IPython.core.display.Image object>"
            ]
          },
          "metadata": {
            "tags": [],
            "image/jpeg": {
              "width": 200
            }
          }
        }
      ]
    },
    {
      "cell_type": "markdown",
      "metadata": {
        "id": "T9oVy3Jj2kln",
        "colab_type": "text"
      },
      "source": [
        "## Train KNN model\n"
      ]
    },
    {
      "cell_type": "markdown",
      "metadata": {
        "id": "l7rb4JxXMcp1",
        "colab_type": "text"
      },
      "source": [
        "### Reshape Data\n",
        "In order to use KNN model, I need data to be in (movie,user) matrix, where each row is a movie and each column is a user. I will pivot the ratings dataframe to such a matrix and fill missing observerations with 0s since I will perform distance calculations on these vectors. Lastly, I will transform the matrix into a scipy sparse matrix for the sake of calculation efficiency."
      ]
    },
    {
      "cell_type": "code",
      "metadata": {
        "id": "1PRb8e2U3ZZz",
        "colab_type": "code",
        "colab": {
          "base_uri": "https://localhost:8080/",
          "height": 34
        },
        "outputId": "8f11f0d9-b03d-4c83-da34-c6e7f5264070"
      },
      "source": [
        "from scipy.sparse import csr_matrix\n",
        "from sklearn.neighbors import NearestNeighbors\n",
        "#pivot ratings_df_drop_users\n",
        "movie_user_mx=ratings_df_drop_users.pivot(index='movieId',columns='userId',values='rating').fillna(0)\n",
        "print(movie_user_mx.shape)\n",
        "movie_user_mx_sparse=csr_matrix(movie_user_mx.values)\n"
      ],
      "execution_count": null,
      "outputs": [
        {
          "output_type": "stream",
          "text": [
            "(5550, 10288)\n"
          ],
          "name": "stdout"
        }
      ]
    },
    {
      "cell_type": "code",
      "metadata": {
        "id": "lP04DMTE3x1j",
        "colab_type": "code",
        "colab": {
          "base_uri": "https://localhost:8080/",
          "height": 68
        },
        "outputId": "2823b34d-ae72-4b73-a218-55a1179aaedd"
      },
      "source": [
        "\n",
        "knn=NearestNeighbors(metric='cosine',n_neighbors=10,n_jobs=-1)\n",
        "\n",
        "knn.fit(movie_user_mx_sparse)"
      ],
      "execution_count": null,
      "outputs": [
        {
          "output_type": "execute_result",
          "data": {
            "text/plain": [
              "NearestNeighbors(algorithm='auto', leaf_size=30, metric='cosine',\n",
              "                 metric_params=None, n_jobs=-1, n_neighbors=10, p=2,\n",
              "                 radius=1.0)"
            ]
          },
          "metadata": {
            "tags": []
          },
          "execution_count": 27
        }
      ]
    },
    {
      "cell_type": "markdown",
      "metadata": {
        "id": "1sRqFwfHqeZQ",
        "colab_type": "text"
      },
      "source": [
        "## Recommend movie to users"
      ]
    },
    {
      "cell_type": "code",
      "metadata": {
        "id": "dTiW8lKFYORa",
        "colab_type": "code",
        "colab": {}
      },
      "source": [
        "#this index is not movieId,it is index used for sparse matrix\n",
        "movie_title_to_index={movie[0]:(idx,movie[1]) for idx, movie in enumerate(list(zip(tmp.title,tmp.tmdbId)))}"
      ],
      "execution_count": null,
      "outputs": []
    },
    {
      "cell_type": "code",
      "metadata": {
        "id": "cSyyTjSvWSYO",
        "colab_type": "code",
        "colab": {
          "base_uri": "https://localhost:8080/",
          "height": 85
        },
        "outputId": "8d8eac7f-5ee6-49c2-bf12-03d66f19023f"
      },
      "source": [
        "from fuzzywuzzy import fuzz\n",
        "def fuzzy_match(movie_mapper,fav_movie,fuzzy_ratio=50,verbose=True):\n",
        "  \"\"\"\n",
        "  Output: list []\n",
        "  the closest match movie idx based on fuzzy ratio, If no match found, return None\n",
        "  ---------\n",
        "  Input:\n",
        "  movie_mapper: dict {title:index}\n",
        "  fav_movie: string favorite movie title\n",
        "  fuzzy_ratio: float indicate how much you want the title match\n",
        "  verbose: bool print log message if true\n",
        "  \"\"\"\n",
        "  match_list=[]\n",
        "  for title,idx in movie_mapper.items():\n",
        "    ratio=fuzz.ratio(title.lower(),fav_movie.lower())\n",
        "    if ratio>=fuzzy_ratio:\n",
        "      match_list.append((title,idx[0],ratio))\n",
        "  #sort match_list by ratio\n",
        "  match_list=sorted(match_list,key=lambda x:x[2],reverse=True)\n",
        "  print(match_list)\n",
        "  if not match_list:\n",
        "    print('No match is found!')\n",
        "    return\n",
        "  if verbose:\n",
        "    print('Found possible matches in our database: {}\\n'.format([x[0] for x in match_list]))\n",
        "  return match_list[0][1]\n",
        "fuzzy_match(movie_title_to_index,'toy story')"
      ],
      "execution_count": null,
      "outputs": [
        {
          "output_type": "stream",
          "text": [
            "[('Toy Story (1995)', 0, 72), ('Toy Story 2 (1999)', 2043, 67), ('Toy Story 3 (2010)', 4735, 67), ('Love Story (1970)', 2631, 54), ('Toy Soldiers (1991)', 3154, 50)]\n",
            "Found possible matches in our database: ['Toy Story (1995)', 'Toy Story 2 (1999)', 'Toy Story 3 (2010)', 'Love Story (1970)', 'Toy Soldiers (1991)']\n",
            "\n"
          ],
          "name": "stdout"
        },
        {
          "output_type": "execute_result",
          "data": {
            "text/plain": [
              "0"
            ]
          },
          "metadata": {
            "tags": []
          },
          "execution_count": 63
        }
      ]
    },
    {
      "cell_type": "code",
      "metadata": {
        "id": "d-S0-A9McPh_",
        "colab_type": "code",
        "colab": {}
      },
      "source": [
        "def recommend_movie(model,data,movie_mapper,fav_movie,n_recs,verbose=True):\n",
        "  \"\"\"\n",
        "  Input:\n",
        "  ---------\n",
        "  model: knn model\n",
        "  data: movie_ratings dataframe\n",
        "  movie_mapper: dict\n",
        "  fav_movie: string\n",
        "  n_recs: int  number of recommendations\n",
        "\n",
        "  Output:\n",
        "  ----------\n",
        "  list of top n movie recommendations\n",
        "  \"\"\"\n",
        "  #fit data -- calc distances\n",
        "  model.fit(data)\n",
        "  #get input favorite movie\n",
        "  if verbose:\n",
        "    print('You have input movie: {}'.format(fav_movie))\n",
        "  movie_idx=fuzzy_match(movie_mapper,fav_movie,verbose=verbose)\n",
        "  #recommender is working\n",
        "  if verbose:\n",
        "    print('Recommendation system starts working')\n",
        "    print('..............\\n')\n",
        "  distances,indices=model.kneighbors(data[movie_idx],n_neighbors=n_recs+1)\n",
        "  #convert movie indices and their distances to a list of tuples and sort by distance\n",
        "  recs=sorted(list(zip(indices.squeeze().tolist(),distances.squeeze().tolist())),key=lambda x:x[1])[1:]\n",
        "  # print(recs)\n",
        "  if verbose:\n",
        "    #get index to title mapper\n",
        "    idx_to_title={v[0]:(k,v[1]) for k, v in movie_mapper.items()}\n",
        "    #print all recommendations\n",
        "    print('Recommendations for movie {}:'.format(fav_movie))\n",
        "    for i,(idx,distance) in enumerate(recs):\n",
        "      print('{}:{} with distance of {}'.format(i+1,idx_to_title[idx][0],distance))\n",
        "  return recs\n"
      ],
      "execution_count": null,
      "outputs": []
    },
    {
      "cell_type": "code",
      "metadata": {
        "id": "lIhDc2VN-dco",
        "colab_type": "code",
        "colab": {}
      },
      "source": [
        "def get_poster_url(tmdb_id):\n",
        "  IMAGE_URL = 'https://image.tmdb.org/t/p/w500'\n",
        "  try:\n",
        "    import tmdbsimple as tmdb\n",
        "    from tmdbsimple import APIKeyError\n",
        "    try:\n",
        "      movie = tmdb.Movies(tmdb_id).info()\n",
        "      poster_url = IMAGE_URL + movie['poster_path'] if 'poster_path' in movie and movie['poster_path'] is not None else \"\"\n",
        "      return poster_url\n",
        "    except APIKeyError as ae:\n",
        "      return \"KEY_ERR\"\n",
        "  except Exception as me:\n",
        "    return \"NA\"\n",
        "\n",
        "\n",
        "def display_movie_recs(model,data,movie_mapper,fav_movie,n_recs):\n",
        "  recs=recommend_movie(knn,movie_user_mx_sparse,movie_title_to_index,fav_movie,5,verbose=False)\n",
        "  idx_to_title={v[0]:(k,v[1]) for k, v in movie_mapper.items()}\n",
        "  # display the movies that this user has rated highly\n",
        "  display(HTML(\"<h2>Get recommended movies for %s</h2>\" % fav_movie))\n",
        "  # now display the recommended movies for the user\n",
        "  display(HTML(\"<br>\"))\n",
        "  display(HTML(\"<h2>Recommended movies:</h2>\"))\n",
        "  rec_html = \"<table border=0>\"\n",
        "  i = 0\n",
        "  for idx,distance in recs:\n",
        "      r_im_url = get_poster_url(idx_to_title[idx][1])\n",
        "      r_score = distance\n",
        "      r_title = idx_to_title[idx][0]\n",
        "      rec_html +=\"<td><h5>%s</h5><img src=%s width=150></img></td><td><h5>%2.3f</h5></td>\" % (r_title, r_im_url, r_score)\n",
        "      i += 1\n",
        "      if i % 5 == 0:\n",
        "          rec_html += \"</tr><tr>\"\n",
        "  rec_html += \"</tr></table>\"\n",
        "  display(HTML(rec_html))\n",
        "\n"
      ],
      "execution_count": null,
      "outputs": []
    },
    {
      "cell_type": "code",
      "metadata": {
        "id": "8AzqWvbKcfjF",
        "colab_type": "code",
        "colab": {
          "base_uri": "https://localhost:8080/",
          "height": 343
        },
        "outputId": "d3321e04-dc28-49b6-e84e-bfe616d6c2ff"
      },
      "source": [
        "fav_movie='Spider man'\n",
        "recommend_movie(knn,movie_user_mx_sparse,movie_title_to_index,fav_movie,5,verbose=True)\n"
      ],
      "execution_count": null,
      "outputs": [
        {
          "output_type": "stream",
          "text": [
            "You have input movie: Spider man\n",
            "[('Spider-Man (2002)', 3011, 67), ('Spider-Man 2 (2004)', 3711, 62), ('Spider-Man 3 (2007)', 4247, 62), ('Spider (2002)', 3225, 61), ('Inside Man (2006)', 4076, 59), ('Superman (1978)', 1742, 56), ('Cinderella Man (2005)', 3927, 52), ('Superman II (1980)', 1743, 50)]\n",
            "Found possible matches in our database: ['Spider-Man (2002)', 'Spider-Man 2 (2004)', 'Spider-Man 3 (2007)', 'Spider (2002)', 'Inside Man (2006)', 'Superman (1978)', 'Cinderella Man (2005)', 'Superman II (1980)']\n",
            "\n",
            "Recommendation system starts working\n",
            "..............\n",
            "\n",
            "Recommendations for movie Spider man:\n",
            "1:Lord of the Rings: The Fellowship of the Ring, The (2001) with distance of 0.12246649579752822\n",
            "2:Lord of the Rings: The Two Towers, The (2002) with distance of 0.1333568765345513\n",
            "3:Spider-Man 2 (2004) with distance of 0.13372174095212375\n",
            "4:Shrek (2001) with distance of 0.1418323012601863\n",
            "5:Pirates of the Caribbean: The Curse of the Black Pearl (2003) with distance of 0.14592924189773515\n"
          ],
          "name": "stdout"
        },
        {
          "output_type": "execute_result",
          "data": {
            "text/plain": [
              "[(2903, 0.12246649579752822),\n",
              " (3178, 0.1333568765345513),\n",
              " (3711, 0.13372174095212375),\n",
              " (2636, 0.1418323012601863),\n",
              " (3309, 0.14592924189773515)]"
            ]
          },
          "metadata": {
            "tags": []
          },
          "execution_count": 75
        }
      ]
    },
    {
      "cell_type": "code",
      "metadata": {
        "id": "wI_RzlEalOF8",
        "colab_type": "code",
        "colab": {
          "base_uri": "https://localhost:8080/",
          "height": 440
        },
        "outputId": "6407c6c0-61a6-4c42-a092-00f5b1503771"
      },
      "source": [
        "display_movie_recs(knn,movie_user_mx_sparse,movie_title_to_index,fav_movie,5)"
      ],
      "execution_count": null,
      "outputs": [
        {
          "output_type": "stream",
          "text": [
            "[('Spider-Man (2002)', 3011, 67), ('Spider-Man 2 (2004)', 3711, 62), ('Spider-Man 3 (2007)', 4247, 62), ('Spider (2002)', 3225, 61), ('Inside Man (2006)', 4076, 59), ('Superman (1978)', 1742, 56), ('Cinderella Man (2005)', 3927, 52), ('Superman II (1980)', 1743, 50)]\n"
          ],
          "name": "stdout"
        },
        {
          "output_type": "display_data",
          "data": {
            "text/html": [
              "<h2>Get recommended movies for Spider man</h2>"
            ],
            "text/plain": [
              "<IPython.core.display.HTML object>"
            ]
          },
          "metadata": {
            "tags": []
          }
        },
        {
          "output_type": "display_data",
          "data": {
            "text/html": [
              "<br>"
            ],
            "text/plain": [
              "<IPython.core.display.HTML object>"
            ]
          },
          "metadata": {
            "tags": []
          }
        },
        {
          "output_type": "display_data",
          "data": {
            "text/html": [
              "<h2>Recommended movies:</h2>"
            ],
            "text/plain": [
              "<IPython.core.display.HTML object>"
            ]
          },
          "metadata": {
            "tags": []
          }
        },
        {
          "output_type": "display_data",
          "data": {
            "text/html": [
              "<table border=0><td><h5>Lord of the Rings: The Fellowship of the Ring, The (2001)</h5><img src=https://image.tmdb.org/t/p/w500/6oom5QYQ2yQTMJIbnvbkBL9cHo6.jpg width=150></img></td><td><h5>0.122</h5></td><td><h5>Lord of the Rings: The Two Towers, The (2002)</h5><img src=https://image.tmdb.org/t/p/w500/5VTN0pR8gcqV3EPUHHfMGnJYN9L.jpg width=150></img></td><td><h5>0.133</h5></td><td><h5>Spider-Man 2 (2004)</h5><img src=https://image.tmdb.org/t/p/w500/olxpyq9kJAZ2NU1siLshhhXEPR7.jpg width=150></img></td><td><h5>0.134</h5></td><td><h5>Shrek (2001)</h5><img src=https://image.tmdb.org/t/p/w500/iB64vpL3dIObOtMZgX3RqdVdQDc.jpg width=150></img></td><td><h5>0.142</h5></td><td><h5>Pirates of the Caribbean: The Curse of the Black Pearl (2003)</h5><img src=https://image.tmdb.org/t/p/w500/z8onk7LV9Mmw6zKz4hT6pzzvmvl.jpg width=150></img></td><td><h5>0.146</h5></td></tr><tr></tr></table>"
            ],
            "text/plain": [
              "<IPython.core.display.HTML object>"
            ]
          },
          "metadata": {
            "tags": []
          }
        }
      ]
    }
  ]
}